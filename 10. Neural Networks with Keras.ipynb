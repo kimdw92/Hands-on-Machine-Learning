{
 "cells": [
  {
   "cell_type": "code",
   "execution_count": 1,
   "id": "5ef08cea",
   "metadata": {},
   "outputs": [
    {
     "data": {
      "text/plain": [
       "'2.5.0'"
      ]
     },
     "execution_count": 1,
     "metadata": {},
     "output_type": "execute_result"
    }
   ],
   "source": [
    "import tensorflow as tf\n",
    "from tensorflow import keras\n",
    "tf.__version__"
   ]
  },
  {
   "cell_type": "code",
   "execution_count": 2,
   "id": "eed342b5",
   "metadata": {},
   "outputs": [
    {
     "data": {
      "text/plain": [
       "'2.5.0'"
      ]
     },
     "execution_count": 2,
     "metadata": {},
     "output_type": "execute_result"
    }
   ],
   "source": [
    "keras.__version__"
   ]
  },
  {
   "cell_type": "markdown",
   "id": "0864bbf4",
   "metadata": {},
   "source": [
    "### 10.2.2 시퀀셜 API를 사용하여 이미지 분류기 만들기"
   ]
  },
  {
   "cell_type": "markdown",
   "id": "3f46b732",
   "metadata": {},
   "source": [
    "### 케라스를 사용하여 데이터셋 적재하기\n",
    "패션 MNIST 로드. 케라스는 keras.datasets에 널리 사용하는 데이터셋을 로드하기 위한 함수를 제공합니다. 이 데이터셋은 이미 훈련 세트와 테스트 세트로 나누어져 있습니다. 훈련 세트를 더 나누어 검증 세트를 만드는 것이 좋습니다"
   ]
  },
  {
   "cell_type": "code",
   "execution_count": 3,
   "id": "d1a950aa",
   "metadata": {},
   "outputs": [],
   "source": [
    "fashion_mnist = keras.datasets.fashion_mnist\n",
    "(X_train_full, y_train_full), (X_test, y_test) = fashion_mnist.load_data()"
   ]
  },
  {
   "cell_type": "markdown",
   "id": "876408f0",
   "metadata": {},
   "source": [
    "훈련 세트는 60,000개의 흑백 이미지입니다. 각 이미지의 크기는 28x28 픽셀입니다:"
   ]
  },
  {
   "cell_type": "code",
   "execution_count": 4,
   "id": "99aa1d80",
   "metadata": {},
   "outputs": [
    {
     "data": {
      "text/plain": [
       "(60000, 28, 28)"
      ]
     },
     "execution_count": 4,
     "metadata": {},
     "output_type": "execute_result"
    }
   ],
   "source": [
    "X_train_full.shape"
   ]
  },
  {
   "cell_type": "markdown",
   "id": "8090829c",
   "metadata": {},
   "source": [
    "각 픽셀의 강도는 정수(0~255)"
   ]
  },
  {
   "cell_type": "code",
   "execution_count": 5,
   "id": "66172730",
   "metadata": {},
   "outputs": [
    {
     "data": {
      "text/plain": [
       "dtype('uint8')"
      ]
     },
     "execution_count": 5,
     "metadata": {},
     "output_type": "execute_result"
    }
   ],
   "source": [
    "X_train_full.dtype"
   ]
  },
  {
   "cell_type": "markdown",
   "id": "d12564f2",
   "metadata": {},
   "source": [
    "Validation set 확보하기\n",
    "\n",
    "Feature scaling: 255.0으로 나누어 0~1 사이 범위로 조정"
   ]
  },
  {
   "cell_type": "code",
   "execution_count": 6,
   "id": "faddf0b5",
   "metadata": {},
   "outputs": [],
   "source": [
    "X_valid, X_train = X_train_full[:5000] / 255., X_train_full[5000:] / 255.\n",
    "y_valid, y_train = y_train_full[:5000], y_train_full[5000:]\n",
    "X_test = X_test / 255."
   ]
  },
  {
   "cell_type": "code",
   "execution_count": 7,
   "id": "fcad499b",
   "metadata": {},
   "outputs": [
    {
     "data": {
      "image/png": "[encoded data removed]",
      "text/plain": [
       "<Figure size 432x288 with 1 Axes>"
      ]
     },
     "metadata": {
      "needs_background": "light"
     },
     "output_type": "display_data"
    }
   ],
   "source": [
    "%matplotlib inline\n",
    "import matplotlib as mpl\n",
    "import matplotlib.pyplot as plt\n",
    "plt.imshow(X_train[0], cmap=\"binary\")\n",
    "plt.axis('off')\n",
    "plt.show()"
   ]
  },
  {
   "cell_type": "code",
   "execution_count": 8,
   "id": "5917cecc",
   "metadata": {},
   "outputs": [
    {
     "data": {
      "text/plain": [
       "array([4, 0, 7, ..., 3, 0, 5], dtype=uint8)"
      ]
     },
     "execution_count": 8,
     "metadata": {},
     "output_type": "execute_result"
    }
   ],
   "source": [
    "y_train"
   ]
  },
  {
   "cell_type": "code",
   "execution_count": 9,
   "id": "d0301aad",
   "metadata": {},
   "outputs": [],
   "source": [
    "class_names = [\"T-shirt/top\", \"Trouser\", \"Pullover\", \"Dress\", \"Coat\",\n",
    "               \"Sandal\", \"Shirt\", \"Sneaker\", \"Bag\", \"Ankle boot\"]"
   ]
  },
  {
   "cell_type": "code",
   "execution_count": 10,
   "id": "9aa3e9e2",
   "metadata": {},
   "outputs": [
    {
     "data": {
      "text/plain": [
       "'Coat'"
      ]
     },
     "execution_count": 10,
     "metadata": {},
     "output_type": "execute_result"
    }
   ],
   "source": [
    "class_names[y_train[0]]"
   ]
  },
  {
   "cell_type": "code",
   "execution_count": 11,
   "id": "7950e613",
   "metadata": {},
   "outputs": [],
   "source": [
    "model = keras.models.Sequential([\n",
    "    keras.layers.Flatten(input_shape=[28, 28]),\n",
    "    keras.layers.Dense(300, activation=\"relu\"),\n",
    "    keras.layers.Dense(100, activation=\"relu\"),\n",
    "    keras.layers.Dense(10, activation=\"softmax\")\n",
    "])"
   ]
  },
  {
   "cell_type": "code",
   "execution_count": 12,
   "id": "231c5a20",
   "metadata": {},
   "outputs": [
    {
     "data": {
      "text/plain": [
       "[<tensorflow.python.keras.layers.core.Flatten at 0x214c85a43a0>,\n",
       " <tensorflow.python.keras.layers.core.Dense at 0x214bda56ac0>,\n",
       " <tensorflow.python.keras.layers.core.Dense at 0x214bda56dc0>,\n",
       " <tensorflow.python.keras.layers.core.Dense at 0x214bdaba0a0>]"
      ]
     },
     "execution_count": 12,
     "metadata": {},
     "output_type": "execute_result"
    }
   ],
   "source": [
    "model.layers"
   ]
  },
  {
   "cell_type": "code",
   "execution_count": 13,
   "id": "aaf87b4c",
   "metadata": {},
   "outputs": [
    {
     "name": "stdout",
     "output_type": "stream",
     "text": [
      "Model: \"sequential\"\n",
      "_________________________________________________________________\n",
      "Layer (type)                 Output Shape              Param #   \n",
      "=================================================================\n",
      "flatten (Flatten)            (None, 784)               0         \n",
      "_________________________________________________________________\n",
      "dense (Dense)                (None, 300)               235500    \n",
      "_________________________________________________________________\n",
      "dense_1 (Dense)              (None, 100)               30100     \n",
      "_________________________________________________________________\n",
      "dense_2 (Dense)              (None, 10)                1010      \n",
      "=================================================================\n",
      "Total params: 266,610\n",
      "Trainable params: 266,610\n",
      "Non-trainable params: 0\n",
      "_________________________________________________________________\n"
     ]
    }
   ],
   "source": [
    "model.summary()"
   ]
  },
  {
   "cell_type": "code",
   "execution_count": 14,
   "id": "a2e328d4",
   "metadata": {},
   "outputs": [
    {
     "data": {
      "text/plain": [
       "'dense'"
      ]
     },
     "execution_count": 14,
     "metadata": {},
     "output_type": "execute_result"
    }
   ],
   "source": [
    "hidden1 = model.layers[1]\n",
    "hidden1.name"
   ]
  },
  {
   "cell_type": "code",
   "execution_count": 15,
   "id": "cfec8748",
   "metadata": {},
   "outputs": [
    {
     "data": {
      "text/plain": [
       "True"
      ]
     },
     "execution_count": 15,
     "metadata": {},
     "output_type": "execute_result"
    }
   ],
   "source": [
    "model.get_layer(hidden1.name) is hidden1"
   ]
  },
  {
   "cell_type": "code",
   "execution_count": 16,
   "id": "d8a64371",
   "metadata": {},
   "outputs": [
    {
     "data": {
      "text/plain": [
       "array([[-0.0637226 ,  0.07438824, -0.05152804, ..., -0.0194061 ,\n",
       "         0.01138275, -0.04132742],\n",
       "       [-0.03396999, -0.06843049,  0.04856388, ..., -0.00677192,\n",
       "         0.0330404 ,  0.06899646],\n",
       "       [-0.04956627,  0.02234778,  0.04848079, ...,  0.03209908,\n",
       "         0.02644292, -0.02259306],\n",
       "       ...,\n",
       "       [-0.02052339, -0.04781845, -0.04229274, ..., -0.01550945,\n",
       "         0.05954559,  0.05509919],\n",
       "       [ 0.04665492, -0.03511155,  0.03142676, ..., -0.06401388,\n",
       "         0.04515196,  0.03866563],\n",
       "       [-0.00579104,  0.03125899, -0.0213394 , ..., -0.00264649,\n",
       "        -0.01526495, -0.02472506]], dtype=float32)"
      ]
     },
     "execution_count": 16,
     "metadata": {},
     "output_type": "execute_result"
    }
   ],
   "source": [
    "weights, biases = hidden1.get_weights()\n",
    "weights"
   ]
  },
  {
   "cell_type": "code",
   "execution_count": 17,
   "id": "64b6b50b",
   "metadata": {},
   "outputs": [
    {
     "data": {
      "text/plain": [
       "(784, 300)"
      ]
     },
     "execution_count": 17,
     "metadata": {},
     "output_type": "execute_result"
    }
   ],
   "source": [
    "weights.shape"
   ]
  },
  {
   "cell_type": "code",
   "execution_count": 18,
   "id": "4652a5b6",
   "metadata": {},
   "outputs": [
    {
     "data": {
      "text/plain": [
       "(300,)"
      ]
     },
     "execution_count": 18,
     "metadata": {},
     "output_type": "execute_result"
    }
   ],
   "source": [
    "biases.shape"
   ]
  },
  {
   "cell_type": "code",
   "execution_count": 19,
   "id": "0a09d1d2",
   "metadata": {},
   "outputs": [],
   "source": [
    "model.compile(loss=\"sparse_categorical_crossentropy\",\n",
    "              optimizer=\"sgd\",\n",
    "              metrics=[\"accuracy\"])"
   ]
  },
  {
   "cell_type": "code",
   "execution_count": 20,
   "id": "c6b7cfe7",
   "metadata": {},
   "outputs": [
    {
     "name": "stdout",
     "output_type": "stream",
     "text": [
      "Epoch 1/30\n",
      "1719/1719 [==============================] - 2s 971us/step - loss: 0.7022 - accuracy: 0.7726 - val_loss: 0.5166 - val_accuracy: 0.8260\n",
      "Epoch 2/30\n",
      "1719/1719 [==============================] - 2s 908us/step - loss: 0.4834 - accuracy: 0.8321 - val_loss: 0.4618 - val_accuracy: 0.8340\n",
      "Epoch 3/30\n",
      "1719/1719 [==============================] - 2s 899us/step - loss: 0.4386 - accuracy: 0.8469 - val_loss: 0.4183 - val_accuracy: 0.8562\n",
      "Epoch 4/30\n",
      "1719/1719 [==============================] - 2s 903us/step - loss: 0.4123 - accuracy: 0.8537 - val_loss: 0.4250 - val_accuracy: 0.8476\n",
      "Epoch 5/30\n",
      "1719/1719 [==============================] - 2s 899us/step - loss: 0.3928 - accuracy: 0.8616 - val_loss: 0.4140 - val_accuracy: 0.8464\n",
      "Epoch 6/30\n",
      "1719/1719 [==============================] - 2s 901us/step - loss: 0.3766 - accuracy: 0.8661 - val_loss: 0.3670 - val_accuracy: 0.8744\n",
      "Epoch 7/30\n",
      "1719/1719 [==============================] - 2s 890us/step - loss: 0.3637 - accuracy: 0.8690 - val_loss: 0.3850 - val_accuracy: 0.8634\n",
      "Epoch 8/30\n",
      "1719/1719 [==============================] - 2s 897us/step - loss: 0.3525 - accuracy: 0.8743 - val_loss: 0.3639 - val_accuracy: 0.8766\n",
      "Epoch 9/30\n",
      "1719/1719 [==============================] - 2s 911us/step - loss: 0.3421 - accuracy: 0.8779 - val_loss: 0.4009 - val_accuracy: 0.8622\n",
      "Epoch 10/30\n",
      "1719/1719 [==============================] - 2s 907us/step - loss: 0.3319 - accuracy: 0.8806 - val_loss: 0.3570 - val_accuracy: 0.8748\n",
      "Epoch 11/30\n",
      "1719/1719 [==============================] - 2s 937us/step - loss: 0.3253 - accuracy: 0.8827 - val_loss: 0.3432 - val_accuracy: 0.8792\n",
      "Epoch 12/30\n",
      "1719/1719 [==============================] - 2s 1ms/step - loss: 0.3155 - accuracy: 0.8871 - val_loss: 0.3364 - val_accuracy: 0.8790\n",
      "Epoch 13/30\n",
      "1719/1719 [==============================] - 2s 965us/step - loss: 0.3097 - accuracy: 0.8885 - val_loss: 0.3389 - val_accuracy: 0.8768\n",
      "Epoch 14/30\n",
      "1719/1719 [==============================] - 2s 913us/step - loss: 0.3029 - accuracy: 0.8902 - val_loss: 0.3340 - val_accuracy: 0.8840\n",
      "Epoch 15/30\n",
      "1719/1719 [==============================] - 2s 908us/step - loss: 0.2964 - accuracy: 0.8935 - val_loss: 0.3320 - val_accuracy: 0.8876\n",
      "Epoch 16/30\n",
      "1719/1719 [==============================] - 2s 894us/step - loss: 0.2901 - accuracy: 0.8948 - val_loss: 0.3318 - val_accuracy: 0.8858\n",
      "Epoch 17/30\n",
      "1719/1719 [==============================] - 2s 899us/step - loss: 0.2849 - accuracy: 0.8970 - val_loss: 0.3329 - val_accuracy: 0.8766\n",
      "Epoch 18/30\n",
      "1719/1719 [==============================] - 2s 910us/step - loss: 0.2789 - accuracy: 0.8988 - val_loss: 0.3196 - val_accuracy: 0.8848\n",
      "Epoch 19/30\n",
      "1719/1719 [==============================] - 2s 922us/step - loss: 0.2745 - accuracy: 0.9001 - val_loss: 0.3126 - val_accuracy: 0.8886\n",
      "Epoch 20/30\n",
      "1719/1719 [==============================] - 2s 902us/step - loss: 0.2693 - accuracy: 0.9021 - val_loss: 0.3097 - val_accuracy: 0.8886\n",
      "Epoch 21/30\n",
      "1719/1719 [==============================] - 2s 906us/step - loss: 0.2634 - accuracy: 0.9045 - val_loss: 0.3433 - val_accuracy: 0.8740\n",
      "Epoch 22/30\n",
      "1719/1719 [==============================] - 2s 904us/step - loss: 0.2592 - accuracy: 0.9059 - val_loss: 0.3106 - val_accuracy: 0.8886\n",
      "Epoch 23/30\n",
      "1719/1719 [==============================] - 2s 920us/step - loss: 0.2548 - accuracy: 0.9072 - val_loss: 0.3015 - val_accuracy: 0.8956\n",
      "Epoch 24/30\n",
      "1719/1719 [==============================] - 2s 905us/step - loss: 0.2500 - accuracy: 0.9094 - val_loss: 0.3030 - val_accuracy: 0.8934\n",
      "Epoch 25/30\n",
      "1719/1719 [==============================] - 2s 895us/step - loss: 0.2466 - accuracy: 0.9105 - val_loss: 0.3061 - val_accuracy: 0.8876\n",
      "Epoch 26/30\n",
      "1719/1719 [==============================] - 2s 897us/step - loss: 0.2423 - accuracy: 0.9121 - val_loss: 0.3150 - val_accuracy: 0.8858\n",
      "Epoch 27/30\n",
      "1719/1719 [==============================] - 2s 909us/step - loss: 0.2371 - accuracy: 0.9142 - val_loss: 0.3112 - val_accuracy: 0.8876\n",
      "Epoch 28/30\n",
      "1719/1719 [==============================] - 2s 886us/step - loss: 0.2346 - accuracy: 0.9143 - val_loss: 0.2986 - val_accuracy: 0.8972\n",
      "Epoch 29/30\n",
      "1719/1719 [==============================] - 2s 894us/step - loss: 0.2296 - accuracy: 0.9167 - val_loss: 0.3018 - val_accuracy: 0.8906\n",
      "Epoch 30/30\n",
      "1719/1719 [==============================] - 2s 896us/step - loss: 0.2264 - accuracy: 0.9181 - val_loss: 0.2994 - val_accuracy: 0.8928\n"
     ]
    }
   ],
   "source": [
    "history = model.fit(X_train, y_train, epochs=30,\n",
    "                    validation_data=(X_valid, y_valid))"
   ]
  },
  {
   "cell_type": "markdown",
   "id": "58d068e6",
   "metadata": {},
   "source": [
    "fit() 메서드를 호출할때 batch_size의 기본값은 32이다: 32 x 1719 = 55000"
   ]
  },
  {
   "cell_type": "code",
   "execution_count": 21,
   "id": "3d94fa07",
   "metadata": {},
   "outputs": [
    {
     "data": {
      "text/plain": [
       "{'verbose': 1, 'epochs': 30, 'steps': 1719}"
      ]
     },
     "execution_count": 21,
     "metadata": {},
     "output_type": "execute_result"
    }
   ],
   "source": [
    "history.params"
   ]
  },
  {
   "cell_type": "code",
   "execution_count": 22,
   "id": "eae0ce18",
   "metadata": {},
   "outputs": [
    {
     "name": "stdout",
     "output_type": "stream",
     "text": [
      "[0, 1, 2, 3, 4, 5, 6, 7, 8, 9, 10, 11, 12, 13, 14, 15, 16, 17, 18, 19, 20, 21, 22, 23, 24, 25, 26, 27, 28, 29]\n"
     ]
    }
   ],
   "source": [
    "print(history.epoch)"
   ]
  },
  {
   "cell_type": "code",
   "execution_count": 23,
   "id": "5ebf2b34",
   "metadata": {},
   "outputs": [
    {
     "data": {
      "text/plain": [
       "dict_keys(['loss', 'accuracy', 'val_loss', 'val_accuracy'])"
      ]
     },
     "execution_count": 23,
     "metadata": {},
     "output_type": "execute_result"
    }
   ],
   "source": [
    "history.history.keys()"
   ]
  },
  {
   "cell_type": "code",
   "execution_count": 24,
   "id": "a759fd4d",
   "metadata": {},
   "outputs": [
    {
     "data": {
      "image/png": "[encoded data removed]",
      "text/plain": [
       "<Figure size 576x360 with 1 Axes>"
      ]
     },
     "metadata": {
      "needs_background": "light"
     },
     "output_type": "display_data"
    }
   ],
   "source": [
    "import pandas as pd\n",
    "\n",
    "pd.DataFrame(history.history).plot(figsize=(8, 5))\n",
    "plt.grid(True)\n",
    "plt.gca().set_ylim(0, 1)\n",
    "plt.show()"
   ]
  },
  {
   "cell_type": "code",
   "execution_count": 25,
   "id": "559bf7b5",
   "metadata": {},
   "outputs": [
    {
     "name": "stdout",
     "output_type": "stream",
     "text": [
      "313/313 [==============================] - 0s 551us/step - loss: 0.3301 - accuracy: 0.8839\n"
     ]
    },
    {
     "data": {
      "text/plain": [
       "[0.3301498293876648, 0.883899986743927]"
      ]
     },
     "execution_count": 25,
     "metadata": {},
     "output_type": "execute_result"
    }
   ],
   "source": [
    "model.evaluate(X_test, y_test)"
   ]
  },
  {
   "cell_type": "markdown",
   "id": "be09b0ae",
   "metadata": {},
   "source": [
    "모델을 사용해 예측을 만들기"
   ]
  },
  {
   "cell_type": "code",
   "execution_count": 26,
   "id": "d18b2a76",
   "metadata": {},
   "outputs": [
    {
     "data": {
      "text/plain": [
       "array([[0.  , 0.  , 0.  , 0.  , 0.  , 0.  , 0.  , 0.  , 0.  , 0.99],\n",
       "       [0.  , 0.  , 0.99, 0.  , 0.01, 0.  , 0.  , 0.  , 0.  , 0.  ],\n",
       "       [0.  , 1.  , 0.  , 0.  , 0.  , 0.  , 0.  , 0.  , 0.  , 0.  ]],\n",
       "      dtype=float32)"
      ]
     },
     "execution_count": 26,
     "metadata": {},
     "output_type": "execute_result"
    }
   ],
   "source": [
    "X_new = X_test[:3]\n",
    "y_proba = model.predict(X_new)\n",
    "y_proba.round(2)"
   ]
  },
  {
   "cell_type": "markdown",
   "id": "785b07de",
   "metadata": {},
   "source": [
    "경고: model.predict_classes(X_new)는 삭제될 예정입니다. 대신 np.argmax(model.predict(X_new), axis=-1)를 사용하세요."
   ]
  },
  {
   "cell_type": "code",
   "execution_count": 27,
   "id": "2a29af03",
   "metadata": {},
   "outputs": [
    {
     "data": {
      "text/plain": [
       "array([9, 2, 1], dtype=int64)"
      ]
     },
     "execution_count": 27,
     "metadata": {},
     "output_type": "execute_result"
    }
   ],
   "source": [
    "import numpy as np\n",
    "#y_pred = model.predict_classes(X_new)\n",
    "y_pred = np.argmax(model.predict(X_new), axis=-1)\n",
    "y_pred"
   ]
  },
  {
   "cell_type": "code",
   "execution_count": 28,
   "id": "98333d4b",
   "metadata": {},
   "outputs": [
    {
     "data": {
      "text/plain": [
       "array(['Ankle boot', 'Pullover', 'Trouser'], dtype='<U11')"
      ]
     },
     "execution_count": 28,
     "metadata": {},
     "output_type": "execute_result"
    }
   ],
   "source": [
    "np.array(class_names)[y_pred]"
   ]
  },
  {
   "cell_type": "markdown",
   "id": "02a6587d",
   "metadata": {},
   "source": [
    "### 10.2.3 시퀀셜 API를 사용하여 회귀용 다층 퍼셉트론 만들기\n",
    "\n",
    "캘리포니아 주택 가격 데이터셋"
   ]
  },
  {
   "cell_type": "code",
   "execution_count": 29,
   "id": "70c2428b",
   "metadata": {},
   "outputs": [],
   "source": [
    "from sklearn.datasets import fetch_california_housing\n",
    "from sklearn.model_selection import train_test_split\n",
    "from sklearn.preprocessing import StandardScaler\n",
    "\n",
    "housing = fetch_california_housing()\n",
    "\n",
    "X_train_full, X_test, y_train_full, y_test = train_test_split(housing.data, housing.target, random_state=42)\n",
    "X_train, X_valid, y_train, y_valid = train_test_split(X_train_full, y_train_full, random_state=42)\n",
    "\n",
    "scaler = StandardScaler()\n",
    "X_train = scaler.fit_transform(X_train)\n",
    "X_valid = scaler.transform(X_valid)\n",
    "X_test = scaler.transform(X_test)"
   ]
  },
  {
   "cell_type": "code",
   "execution_count": 30,
   "id": "e2373793",
   "metadata": {},
   "outputs": [
    {
     "name": "stderr",
     "output_type": "stream",
     "text": [
      "C:\\Users\\anpdi\\anaconda3\\lib\\site-packages\\tensorflow\\python\\keras\\optimizer_v2\\optimizer_v2.py:374: UserWarning: The `lr` argument is deprecated, use `learning_rate` instead.\n",
      "  warnings.warn(\n"
     ]
    },
    {
     "name": "stdout",
     "output_type": "stream",
     "text": [
      "Epoch 1/20\n",
      "363/363 [==============================] - 1s 663us/step - loss: 1.6919 - val_loss: 0.8533\n",
      "Epoch 2/20\n",
      "363/363 [==============================] - 0s 489us/step - loss: 0.7906 - val_loss: 0.7342\n",
      "Epoch 3/20\n",
      "363/363 [==============================] - 0s 497us/step - loss: 0.7181 - val_loss: 0.6758\n",
      "Epoch 4/20\n",
      "363/363 [==============================] - 0s 492us/step - loss: 0.6705 - val_loss: 0.6580\n",
      "Epoch 5/20\n",
      "363/363 [==============================] - 0s 486us/step - loss: 0.6316 - val_loss: 0.5983\n",
      "Epoch 6/20\n",
      "363/363 [==============================] - 0s 486us/step - loss: 0.5996 - val_loss: 0.5607\n",
      "Epoch 7/20\n",
      "363/363 [==============================] - 0s 486us/step - loss: 0.5714 - val_loss: 0.5369\n",
      "Epoch 8/20\n",
      "363/363 [==============================] - 0s 486us/step - loss: 0.5476 - val_loss: 0.5540\n",
      "Epoch 9/20\n",
      "363/363 [==============================] - 0s 484us/step - loss: 0.5273 - val_loss: 0.4984\n",
      "Epoch 10/20\n",
      "363/363 [==============================] - 0s 495us/step - loss: 0.5098 - val_loss: 0.4842\n",
      "Epoch 11/20\n",
      "363/363 [==============================] - 0s 478us/step - loss: 0.4954 - val_loss: 0.4695\n",
      "Epoch 12/20\n",
      "363/363 [==============================] - 0s 472us/step - loss: 0.4828 - val_loss: 0.4544\n",
      "Epoch 13/20\n",
      "363/363 [==============================] - 0s 478us/step - loss: 0.4720 - val_loss: 0.4459\n",
      "Epoch 14/20\n",
      "363/363 [==============================] - 0s 495us/step - loss: 0.4632 - val_loss: 0.4527\n",
      "Epoch 15/20\n",
      "363/363 [==============================] - 0s 486us/step - loss: 0.4553 - val_loss: 0.4388\n",
      "Epoch 16/20\n",
      "363/363 [==============================] - 0s 478us/step - loss: 0.4484 - val_loss: 0.4299\n",
      "Epoch 17/20\n",
      "363/363 [==============================] - 0s 486us/step - loss: 0.4426 - val_loss: 0.4206\n",
      "Epoch 18/20\n",
      "363/363 [==============================] - 0s 489us/step - loss: 0.4375 - val_loss: 0.4320\n",
      "Epoch 19/20\n",
      "363/363 [==============================] - 0s 479us/step - loss: 0.4330 - val_loss: 0.4116\n",
      "Epoch 20/20\n",
      "363/363 [==============================] - 0s 494us/step - loss: 0.4287 - val_loss: 0.4092\n",
      "162/162 [==============================] - 0s 329us/step - loss: 0.4173\n"
     ]
    }
   ],
   "source": [
    "model = keras.models.Sequential([\n",
    "    keras.layers.Dense(30, activation=\"relu\", input_shape=X_train.shape[1:]),\n",
    "    keras.layers.Dense(1)\n",
    "])\n",
    "model.compile(loss=\"mean_squared_error\", optimizer=keras.optimizers.SGD(lr=1e-3))\n",
    "history = model.fit(X_train, y_train, epochs=20, validation_data=(X_valid, y_valid))\n",
    "mse_test = model.evaluate(X_test, y_test)\n",
    "X_new = X_test[:3]\n",
    "y_pred = model.predict(X_new)"
   ]
  },
  {
   "cell_type": "code",
   "execution_count": 31,
   "id": "85939390",
   "metadata": {},
   "outputs": [
    {
     "data": {
      "text/plain": [
       "0.417346328496933"
      ]
     },
     "execution_count": 31,
     "metadata": {},
     "output_type": "execute_result"
    }
   ],
   "source": [
    "mse_test"
   ]
  },
  {
   "cell_type": "code",
   "execution_count": 32,
   "id": "8565b655",
   "metadata": {},
   "outputs": [
    {
     "data": {
      "text/plain": [
       "array([[0.6213154],\n",
       "       [1.5650287],\n",
       "       [3.2455006]], dtype=float32)"
      ]
     },
     "execution_count": 32,
     "metadata": {},
     "output_type": "execute_result"
    }
   ],
   "source": [
    "y_pred"
   ]
  },
  {
   "cell_type": "markdown",
   "id": "8c89d804",
   "metadata": {},
   "source": [
    "### 10.2.4 함수형 API를 사용해 복잡한 모델 만들기"
   ]
  },
  {
   "cell_type": "code",
   "execution_count": 33,
   "id": "1da562bb",
   "metadata": {},
   "outputs": [],
   "source": [
    "input_ = keras.layers.Input(shape=X_train.shape[1:])\n",
    "hidden1 = keras.layers.Dense(30, activation=\"relu\")(input_)\n",
    "hidden2 = keras.layers.Dense(30, activation=\"relu\")(hidden1)\n",
    "concat = keras.layers.concatenate([input_, hidden2])\n",
    "output = keras.layers.Dense(1)(concat)\n",
    "model = keras.models.Model(inputs=[input_], outputs=[output])"
   ]
  },
  {
   "cell_type": "code",
   "execution_count": 34,
   "id": "1e226c7e",
   "metadata": {},
   "outputs": [
    {
     "name": "stdout",
     "output_type": "stream",
     "text": [
      "Model: \"model\"\n",
      "__________________________________________________________________________________________________\n",
      "Layer (type)                    Output Shape         Param #     Connected to                     \n",
      "==================================================================================================\n",
      "input_1 (InputLayer)            [(None, 8)]          0                                            \n",
      "__________________________________________________________________________________________________\n",
      "dense_5 (Dense)                 (None, 30)           270         input_1[0][0]                    \n",
      "__________________________________________________________________________________________________\n",
      "dense_6 (Dense)                 (None, 30)           930         dense_5[0][0]                    \n",
      "__________________________________________________________________________________________________\n",
      "concatenate (Concatenate)       (None, 38)           0           input_1[0][0]                    \n",
      "                                                                 dense_6[0][0]                    \n",
      "__________________________________________________________________________________________________\n",
      "dense_7 (Dense)                 (None, 1)            39          concatenate[0][0]                \n",
      "==================================================================================================\n",
      "Total params: 1,239\n",
      "Trainable params: 1,239\n",
      "Non-trainable params: 0\n",
      "__________________________________________________________________________________________________\n"
     ]
    }
   ],
   "source": [
    "model.summary()"
   ]
  },
  {
   "cell_type": "code",
   "execution_count": 35,
   "id": "322a63b0",
   "metadata": {},
   "outputs": [
    {
     "data": {
      "text/plain": [
       "'\\nmodel.compile(loss=\"mean_squared_error\", optimizer=keras.optimizers.SGD(lr=1e-3))\\nhistory = model.fit(X_train, y_train, epochs=20,\\n                    validation_data=(X_valid, y_valid))\\nmse_test = model.evaluate(X_test, y_test)\\ny_pred = model.predict(X_new)\\n'"
      ]
     },
     "execution_count": 35,
     "metadata": {},
     "output_type": "execute_result"
    }
   ],
   "source": [
    "'''\n",
    "model.compile(loss=\"mean_squared_error\", optimizer=keras.optimizers.SGD(lr=1e-3))\n",
    "history = model.fit(X_train, y_train, epochs=20,\n",
    "                    validation_data=(X_valid, y_valid))\n",
    "mse_test = model.evaluate(X_test, y_test)\n",
    "y_pred = model.predict(X_new)\n",
    "'''"
   ]
  },
  {
   "cell_type": "markdown",
   "id": "16ff2243",
   "metadata": {},
   "source": [
    "여러개의 입력 다루기: (특성 0에서 4까지) 5개의 특성을 와이드 경로에 보내고 (특성 2에서 7까지) 6개의 특성을 딥 경로에 전달하겠습니다. 3개의 특성(특성 2, 3, 4)은 양쪽에 모두 전달됩니다."
   ]
  },
  {
   "cell_type": "code",
   "execution_count": 36,
   "id": "85997135",
   "metadata": {},
   "outputs": [],
   "source": [
    "input_A = keras.layers.Input(shape=[5], name=\"wide_input\")\n",
    "input_B = keras.layers.Input(shape=[6], name=\"deep_input\")\n",
    "hidden1 = keras.layers.Dense(30, activation=\"relu\")(input_B)\n",
    "hidden2 = keras.layers.Dense(30, activation=\"relu\")(hidden1)\n",
    "concat = keras.layers.concatenate([input_A, hidden2])\n",
    "output = keras.layers.Dense(1, name=\"output\")(concat)\n",
    "model = keras.models.Model(inputs=[input_A, input_B], outputs=[output])"
   ]
  },
  {
   "cell_type": "code",
   "execution_count": 37,
   "id": "57b604fa",
   "metadata": {},
   "outputs": [
    {
     "name": "stdout",
     "output_type": "stream",
     "text": [
      "Epoch 1/20\n",
      "363/363 [==============================] - 0s 746us/step - loss: 1.9058 - val_loss: 2.9174\n",
      "Epoch 2/20\n",
      "363/363 [==============================] - 0s 550us/step - loss: 0.7561 - val_loss: 1.3250\n",
      "Epoch 3/20\n",
      "363/363 [==============================] - 0s 553us/step - loss: 0.6492 - val_loss: 0.7456\n",
      "Epoch 4/20\n",
      "363/363 [==============================] - 0s 550us/step - loss: 0.6017 - val_loss: 0.5862\n",
      "Epoch 5/20\n",
      "363/363 [==============================] - 0s 555us/step - loss: 0.5691 - val_loss: 0.5290\n",
      "Epoch 6/20\n",
      "363/363 [==============================] - 0s 544us/step - loss: 0.5430 - val_loss: 0.5035\n",
      "Epoch 7/20\n",
      "363/363 [==============================] - 0s 553us/step - loss: 0.5206 - val_loss: 0.4877\n",
      "Epoch 8/20\n",
      "363/363 [==============================] - 0s 553us/step - loss: 0.5012 - val_loss: 0.4701\n",
      "Epoch 9/20\n",
      "363/363 [==============================] - 0s 558us/step - loss: 0.4842 - val_loss: 0.4544\n",
      "Epoch 10/20\n",
      "363/363 [==============================] - 0s 553us/step - loss: 0.4709 - val_loss: 0.4415\n",
      "Epoch 11/20\n",
      "363/363 [==============================] - 0s 553us/step - loss: 0.4599 - val_loss: 0.4285\n",
      "Epoch 12/20\n",
      "363/363 [==============================] - 0s 569us/step - loss: 0.4510 - val_loss: 0.4173\n",
      "Epoch 13/20\n",
      "363/363 [==============================] - 0s 597us/step - loss: 0.4447 - val_loss: 0.4093\n",
      "Epoch 14/20\n",
      "363/363 [==============================] - 0s 575us/step - loss: 0.4396 - val_loss: 0.4035\n",
      "Epoch 15/20\n",
      "363/363 [==============================] - 0s 564us/step - loss: 0.4351 - val_loss: 0.3996\n",
      "Epoch 16/20\n",
      "363/363 [==============================] - 0s 553us/step - loss: 0.4316 - val_loss: 0.3960\n",
      "Epoch 17/20\n",
      "363/363 [==============================] - 0s 564us/step - loss: 0.4285 - val_loss: 0.3956\n",
      "Epoch 18/20\n",
      "363/363 [==============================] - 0s 555us/step - loss: 0.4259 - val_loss: 0.3944\n",
      "Epoch 19/20\n",
      "363/363 [==============================] - 0s 569us/step - loss: 0.4237 - val_loss: 0.3965\n",
      "Epoch 20/20\n",
      "363/363 [==============================] - 0s 561us/step - loss: 0.4215 - val_loss: 0.3902\n",
      "162/162 [==============================] - 0s 360us/step - loss: 0.4155\n"
     ]
    }
   ],
   "source": [
    "model.compile(loss=\"mse\", optimizer=keras.optimizers.SGD(lr=1e-3))\n",
    "\n",
    "X_train_A, X_train_B = X_train[:, :5], X_train[:, 2:]\n",
    "X_valid_A, X_valid_B = X_valid[:, :5], X_valid[:, 2:]\n",
    "X_test_A, X_test_B = X_test[:, :5], X_test[:, 2:]\n",
    "X_new_A, X_new_B = X_test_A[:3], X_test_B[:3]\n",
    "\n",
    "history = model.fit((X_train_A, X_train_B), y_train, epochs=20,\n",
    "                    validation_data=((X_valid_A, X_valid_B), y_valid))\n",
    "mse_test = model.evaluate((X_test_A, X_test_B), y_test)\n",
    "y_pred = model.predict((X_new_A, X_new_B))"
   ]
  },
  {
   "cell_type": "markdown",
   "id": "1733ece3",
   "metadata": {},
   "source": [
    "규제를 위한 보조 출력 추가하기:"
   ]
  },
  {
   "cell_type": "code",
   "execution_count": 38,
   "id": "116617ca",
   "metadata": {},
   "outputs": [],
   "source": [
    "input_A = keras.layers.Input(shape=[5], name=\"wide_input\")\n",
    "input_B = keras.layers.Input(shape=[6], name=\"deep_input\")\n",
    "hidden1 = keras.layers.Dense(30, activation=\"relu\")(input_B)\n",
    "hidden2 = keras.layers.Dense(30, activation=\"relu\")(hidden1)\n",
    "concat = keras.layers.concatenate([input_A, hidden2])\n",
    "output = keras.layers.Dense(1, name=\"main_output\")(concat)\n",
    "aux_output = keras.layers.Dense(1, name=\"aux_output\")(hidden2)\n",
    "model = keras.models.Model(inputs=[input_A, input_B],\n",
    "                           outputs=[output, aux_output])"
   ]
  },
  {
   "cell_type": "code",
   "execution_count": 39,
   "id": "f434af17",
   "metadata": {},
   "outputs": [],
   "source": [
    "model.compile(loss=[\"mse\", \"mse\"], loss_weights=[0.9, 0.1], optimizer=keras.optimizers.SGD(lr=1e-3))"
   ]
  },
  {
   "cell_type": "code",
   "execution_count": 40,
   "id": "b2073b87",
   "metadata": {},
   "outputs": [
    {
     "name": "stdout",
     "output_type": "stream",
     "text": [
      "Epoch 1/20\n",
      "363/363 [==============================] - 1s 967us/step - loss: 2.2753 - main_output_loss: 2.0300 - aux_output_loss: 4.4827 - val_loss: 3.2896 - val_main_output_loss: 3.2651 - val_aux_output_loss: 3.5103\n",
      "Epoch 2/20\n",
      "363/363 [==============================] - 0s 633us/step - loss: 0.9778 - main_output_loss: 0.7516 - aux_output_loss: 3.0140 - val_loss: 0.8392 - val_main_output_loss: 0.6591 - val_aux_output_loss: 2.4593\n",
      "Epoch 3/20\n",
      "363/363 [==============================] - 0s 644us/step - loss: 0.7743 - main_output_loss: 0.6124 - aux_output_loss: 2.2316 - val_loss: 0.7136 - val_main_output_loss: 0.5579 - val_aux_output_loss: 2.1146\n",
      "Epoch 4/20\n",
      "363/363 [==============================] - 0s 633us/step - loss: 0.6887 - main_output_loss: 0.5618 - aux_output_loss: 1.8310 - val_loss: 0.6862 - val_main_output_loss: 0.5484 - val_aux_output_loss: 1.9263\n",
      "Epoch 5/20\n",
      "363/363 [==============================] - 0s 641us/step - loss: 0.6406 - main_output_loss: 0.5332 - aux_output_loss: 1.6066 - val_loss: 0.6297 - val_main_output_loss: 0.4937 - val_aux_output_loss: 1.8539\n",
      "Epoch 6/20\n",
      "363/363 [==============================] - 0s 638us/step - loss: 0.6080 - main_output_loss: 0.5122 - aux_output_loss: 1.4705 - val_loss: 0.5969 - val_main_output_loss: 0.4686 - val_aux_output_loss: 1.7516\n",
      "Epoch 7/20\n",
      "363/363 [==============================] - 0s 630us/step - loss: 0.5835 - main_output_loss: 0.4952 - aux_output_loss: 1.3783 - val_loss: 0.5723 - val_main_output_loss: 0.4616 - val_aux_output_loss: 1.5687\n",
      "Epoch 8/20\n",
      "363/363 [==============================] - 0s 671us/step - loss: 0.5643 - main_output_loss: 0.4818 - aux_output_loss: 1.3066 - val_loss: 0.5461 - val_main_output_loss: 0.4430 - val_aux_output_loss: 1.4732\n",
      "Epoch 9/20\n",
      "363/363 [==============================] - 0s 710us/step - loss: 0.5498 - main_output_loss: 0.4714 - aux_output_loss: 1.2549 - val_loss: 0.5258 - val_main_output_loss: 0.4343 - val_aux_output_loss: 1.3492\n",
      "Epoch 10/20\n",
      "363/363 [==============================] - 0s 691us/step - loss: 0.5371 - main_output_loss: 0.4624 - aux_output_loss: 1.2099 - val_loss: 0.5092 - val_main_output_loss: 0.4255 - val_aux_output_loss: 1.2624\n",
      "Epoch 11/20\n",
      "363/363 [==============================] - 0s 680us/step - loss: 0.5276 - main_output_loss: 0.4558 - aux_output_loss: 1.1732 - val_loss: 0.5011 - val_main_output_loss: 0.4236 - val_aux_output_loss: 1.1985\n",
      "Epoch 12/20\n",
      "363/363 [==============================] - 0s 694us/step - loss: 0.5197 - main_output_loss: 0.4507 - aux_output_loss: 1.1402 - val_loss: 0.4883 - val_main_output_loss: 0.4164 - val_aux_output_loss: 1.1358\n",
      "Epoch 13/20\n",
      "363/363 [==============================] - 0s 677us/step - loss: 0.5123 - main_output_loss: 0.4457 - aux_output_loss: 1.1113 - val_loss: 0.4806 - val_main_output_loss: 0.4122 - val_aux_output_loss: 1.0960\n",
      "Epoch 14/20\n",
      "363/363 [==============================] - 0s 702us/step - loss: 0.5062 - main_output_loss: 0.4419 - aux_output_loss: 1.0849 - val_loss: 0.4764 - val_main_output_loss: 0.4109 - val_aux_output_loss: 1.0660\n",
      "Epoch 15/20\n",
      "363/363 [==============================] - 0s 694us/step - loss: 0.5010 - main_output_loss: 0.4387 - aux_output_loss: 1.0610 - val_loss: 0.4732 - val_main_output_loss: 0.4102 - val_aux_output_loss: 1.0405\n",
      "Epoch 16/20\n",
      "363/363 [==============================] - 0s 685us/step - loss: 0.4958 - main_output_loss: 0.4357 - aux_output_loss: 1.0367 - val_loss: 0.4763 - val_main_output_loss: 0.4160 - val_aux_output_loss: 1.0189\n",
      "Epoch 17/20\n",
      "363/363 [==============================] - 0s 685us/step - loss: 0.4910 - main_output_loss: 0.4328 - aux_output_loss: 1.0151 - val_loss: 0.4667 - val_main_output_loss: 0.4074 - val_aux_output_loss: 0.9998\n",
      "Epoch 18/20\n",
      "363/363 [==============================] - 0s 682us/step - loss: 0.4869 - main_output_loss: 0.4306 - aux_output_loss: 0.9936 - val_loss: 0.4717 - val_main_output_loss: 0.4152 - val_aux_output_loss: 0.9799\n",
      "Epoch 19/20\n",
      "363/363 [==============================] - 0s 688us/step - loss: 0.4830 - main_output_loss: 0.4285 - aux_output_loss: 0.9740 - val_loss: 0.4558 - val_main_output_loss: 0.3977 - val_aux_output_loss: 0.9787\n",
      "Epoch 20/20\n",
      "363/363 [==============================] - 0s 633us/step - loss: 0.4792 - main_output_loss: 0.4264 - aux_output_loss: 0.9538 - val_loss: 0.4750 - val_main_output_loss: 0.4226 - val_aux_output_loss: 0.9460\n"
     ]
    }
   ],
   "source": [
    "history = model.fit([X_train_A, X_train_B], [y_train, y_train], epochs=20,\n",
    "                    validation_data=([X_valid_A, X_valid_B], [y_valid, y_valid]))"
   ]
  },
  {
   "cell_type": "code",
   "execution_count": 41,
   "id": "82ffb661",
   "metadata": {},
   "outputs": [
    {
     "name": "stdout",
     "output_type": "stream",
     "text": [
      "162/162 [==============================] - 0s 416us/step - loss: 0.4688 - main_output_loss: 0.4186 - aux_output_loss: 0.9205\n"
     ]
    }
   ],
   "source": [
    "total_loss, main_loss, aux_loss = model.evaluate(\n",
    "    [X_test_A, X_test_B], [y_test, y_test])\n",
    "y_pred_main, y_pred_aux = model.predict([X_new_A, X_new_B])"
   ]
  },
  {
   "cell_type": "markdown",
   "id": "85876ee8",
   "metadata": {},
   "source": [
    "### 10.2.5 서브클래싱 API로 동적 모델 만들기"
   ]
  },
  {
   "cell_type": "code",
   "execution_count": 42,
   "id": "c0f7c27c",
   "metadata": {},
   "outputs": [],
   "source": [
    "class WideAndDeepModel(keras.models.Model):\n",
    "    def __init__(self, units=30, activation=\"relu\", **kwargs):\n",
    "        super().__init__(**kwargs)\n",
    "        self.hidden1 = keras.layers.Dense(units, activation=activation)\n",
    "        self.hidden2 = keras.layers.Dense(units, activation=activation)\n",
    "        self.main_output = keras.layers.Dense(1)\n",
    "        self.aux_output = keras.layers.Dense(1)\n",
    "        \n",
    "    def call(self, inputs):\n",
    "        input_A, input_B = inputs\n",
    "        hidden1 = self.hidden1(input_B)\n",
    "        hidden2 = self.hidden2(hidden1)\n",
    "        concat = keras.layers.concatenate([input_A, hidden2])\n",
    "        main_output = self.main_output(concat)\n",
    "        aux_output = self.aux_output(hidden2)\n",
    "        return main_output, aux_output\n",
    "\n",
    "model = WideAndDeepModel(30, activation=\"relu\")"
   ]
  },
  {
   "cell_type": "markdown",
   "id": "8a3e5e66",
   "metadata": {},
   "source": [
    "모델 구조가 call() 메서드 안에 숨겨져 있어서 모델을 저장하거나 복사할 수 없다. 높은 유연성이 필요하지 않는다면 시퀀셜 API나 함수형 API를 사용하는 것이 좋다."
   ]
  },
  {
   "cell_type": "markdown",
   "id": "1bc65b9e",
   "metadata": {},
   "source": [
    "### 10.2.6 모델 저장과 복원"
   ]
  },
  {
   "cell_type": "code",
   "execution_count": 43,
   "id": "550e30eb",
   "metadata": {},
   "outputs": [],
   "source": [
    "# model.save(\"my_keras_model.h5\")\n",
    "# model = keras.models.load_model(\"my_keras_model.h5\")"
   ]
  },
  {
   "cell_type": "markdown",
   "id": "f022b1fd",
   "metadata": {},
   "source": [
    "시퀀셜, 함수형 API에서는 이 방식을 쓸 수 있지만 모델 서브클래싱에서는 사용할 수 없다."
   ]
  },
  {
   "cell_type": "markdown",
   "id": "ae18d815",
   "metadata": {},
   "source": [
    "### 10.2.7 콜백 사용하기\n",
    "훈련 도중에 체크포인트 저장"
   ]
  },
  {
   "cell_type": "code",
   "execution_count": 44,
   "id": "7fa05cc8",
   "metadata": {},
   "outputs": [],
   "source": [
    "model = keras.models.Sequential([\n",
    "    keras.layers.Dense(30, activation=\"relu\", input_shape=[8]),\n",
    "    keras.layers.Dense(30, activation=\"relu\"),\n",
    "    keras.layers.Dense(1)\n",
    "])"
   ]
  },
  {
   "cell_type": "code",
   "execution_count": 45,
   "id": "dd0735bb",
   "metadata": {},
   "outputs": [
    {
     "name": "stdout",
     "output_type": "stream",
     "text": [
      "Epoch 1/10\n",
      "363/363 [==============================] - 0s 691us/step - loss: 2.2683 - val_loss: 1.1967\n",
      "Epoch 2/10\n",
      "363/363 [==============================] - 0s 511us/step - loss: 0.8536 - val_loss: 0.8427\n",
      "Epoch 3/10\n",
      "363/363 [==============================] - 0s 511us/step - loss: 0.6170 - val_loss: 0.5557\n",
      "Epoch 4/10\n",
      "363/363 [==============================] - 0s 519us/step - loss: 0.5645 - val_loss: 0.5222\n",
      "Epoch 5/10\n",
      "363/363 [==============================] - 0s 511us/step - loss: 0.5366 - val_loss: 0.4925\n",
      "Epoch 6/10\n",
      "363/363 [==============================] - 0s 511us/step - loss: 0.5140 - val_loss: 0.4695\n",
      "Epoch 7/10\n",
      "363/363 [==============================] - 0s 522us/step - loss: 0.4952 - val_loss: 0.4526\n",
      "Epoch 8/10\n",
      "363/363 [==============================] - 0s 566us/step - loss: 0.4790 - val_loss: 0.4388\n",
      "Epoch 9/10\n",
      "363/363 [==============================] - 0s 519us/step - loss: 0.4659 - val_loss: 0.4284\n",
      "Epoch 10/10\n",
      "363/363 [==============================] - 0s 561us/step - loss: 0.4545 - val_loss: 0.4214\n",
      "162/162 [==============================] - 0s 354us/step - loss: 0.4375\n"
     ]
    }
   ],
   "source": [
    "model.compile(loss=\"mse\", optimizer=keras.optimizers.SGD(lr=1e-3))\n",
    "checkpoint_cb = keras.callbacks.ModelCheckpoint(\"my_keras_model.h5\", save_best_only=True)\n",
    "history = model.fit(X_train, y_train, epochs=10,\n",
    "                    validation_data=(X_valid, y_valid),\n",
    "                    callbacks=[checkpoint_cb])\n",
    "model = keras.models.load_model(\"my_keras_model.h5\") # 최상의 모델로 롤백\n",
    "mse_test = model.evaluate(X_test, y_test)"
   ]
  },
  {
   "cell_type": "markdown",
   "id": "76f9f1ce",
   "metadata": {},
   "source": [
    "아래는 EarlyStopping 콜백을 사용하는 것으로 일정 epoch 동안 검증 세트에 대한 점수가 향상되지 않으면 훈련을 멈춤\n",
    "체크포인트 저장 콜백 + 얼리스탑핑 콜백을 함께 사용할 수 있음"
   ]
  },
  {
   "cell_type": "code",
   "execution_count": 46,
   "id": "5adac42d",
   "metadata": {},
   "outputs": [
    {
     "name": "stdout",
     "output_type": "stream",
     "text": [
      "Epoch 1/100\n",
      "363/363 [==============================] - 0s 724us/step - loss: 0.4448 - val_loss: 0.4098\n",
      "Epoch 2/100\n",
      "363/363 [==============================] - 0s 528us/step - loss: 0.4365 - val_loss: 0.4091\n",
      "Epoch 3/100\n",
      "363/363 [==============================] - 0s 514us/step - loss: 0.4295 - val_loss: 0.4052\n",
      "Epoch 4/100\n",
      "363/363 [==============================] - 0s 522us/step - loss: 0.4232 - val_loss: 0.4037\n",
      "Epoch 5/100\n",
      "363/363 [==============================] - 0s 500us/step - loss: 0.4179 - val_loss: 0.4000\n",
      "Epoch 6/100\n",
      "363/363 [==============================] - 0s 517us/step - loss: 0.4131 - val_loss: 0.4162\n",
      "Epoch 7/100\n",
      "363/363 [==============================] - 0s 517us/step - loss: 0.4093 - val_loss: 0.3930\n",
      "Epoch 8/100\n",
      "363/363 [==============================] - 0s 508us/step - loss: 0.4055 - val_loss: 0.4045\n",
      "Epoch 9/100\n",
      "363/363 [==============================] - 0s 517us/step - loss: 0.4019 - val_loss: 0.4128\n",
      "Epoch 10/100\n",
      "363/363 [==============================] - 0s 517us/step - loss: 0.3990 - val_loss: 0.3977\n",
      "Epoch 11/100\n",
      "363/363 [==============================] - 0s 517us/step - loss: 0.3959 - val_loss: 0.3952\n",
      "Epoch 12/100\n",
      "363/363 [==============================] - 0s 514us/step - loss: 0.3935 - val_loss: 0.3914\n",
      "Epoch 13/100\n",
      "363/363 [==============================] - 0s 511us/step - loss: 0.3912 - val_loss: 0.3977\n",
      "Epoch 14/100\n",
      "363/363 [==============================] - 0s 511us/step - loss: 0.3891 - val_loss: 0.3891\n",
      "Epoch 15/100\n",
      "363/363 [==============================] - 0s 517us/step - loss: 0.3869 - val_loss: 0.3882\n",
      "Epoch 16/100\n",
      "363/363 [==============================] - 0s 517us/step - loss: 0.3850 - val_loss: 0.3867\n",
      "Epoch 17/100\n",
      "363/363 [==============================] - 0s 514us/step - loss: 0.3831 - val_loss: 0.3729\n",
      "Epoch 18/100\n",
      "363/363 [==============================] - 0s 511us/step - loss: 0.3813 - val_loss: 0.3974\n",
      "Epoch 19/100\n",
      "363/363 [==============================] - 0s 511us/step - loss: 0.3798 - val_loss: 0.3663\n",
      "Epoch 20/100\n",
      "363/363 [==============================] - 0s 508us/step - loss: 0.3781 - val_loss: 0.3935\n",
      "Epoch 21/100\n",
      "363/363 [==============================] - 0s 514us/step - loss: 0.3768 - val_loss: 0.3986\n",
      "Epoch 22/100\n",
      "363/363 [==============================] - 0s 517us/step - loss: 0.3754 - val_loss: 0.3830\n",
      "Epoch 23/100\n",
      "363/363 [==============================] - 0s 519us/step - loss: 0.3742 - val_loss: 0.3856\n",
      "Epoch 24/100\n",
      "363/363 [==============================] - 0s 514us/step - loss: 0.3727 - val_loss: 0.3767\n",
      "Epoch 25/100\n",
      "363/363 [==============================] - 0s 514us/step - loss: 0.3714 - val_loss: 0.3630\n",
      "Epoch 26/100\n",
      "363/363 [==============================] - 0s 517us/step - loss: 0.3702 - val_loss: 0.3589\n",
      "Epoch 27/100\n",
      "363/363 [==============================] - 0s 517us/step - loss: 0.3692 - val_loss: 0.3755\n",
      "Epoch 28/100\n",
      "363/363 [==============================] - 0s 517us/step - loss: 0.3680 - val_loss: 0.3589\n",
      "Epoch 29/100\n",
      "363/363 [==============================] - 0s 503us/step - loss: 0.3668 - val_loss: 0.3739\n",
      "Epoch 30/100\n",
      "363/363 [==============================] - 0s 517us/step - loss: 0.3657 - val_loss: 0.3828\n",
      "Epoch 31/100\n",
      "363/363 [==============================] - 0s 519us/step - loss: 0.3647 - val_loss: 0.3591\n",
      "Epoch 32/100\n",
      "363/363 [==============================] - 0s 511us/step - loss: 0.3637 - val_loss: 0.3707\n",
      "Epoch 33/100\n",
      "363/363 [==============================] - 0s 514us/step - loss: 0.3629 - val_loss: 0.3626\n",
      "Epoch 34/100\n",
      "363/363 [==============================] - 0s 508us/step - loss: 0.3619 - val_loss: 0.3693\n",
      "Epoch 35/100\n",
      "363/363 [==============================] - 0s 508us/step - loss: 0.3609 - val_loss: 0.3803\n",
      "Epoch 36/100\n",
      "363/363 [==============================] - 0s 511us/step - loss: 0.3599 - val_loss: 0.3800\n",
      "162/162 [==============================] - 0s 335us/step - loss: 0.3640\n"
     ]
    }
   ],
   "source": [
    "model.compile(loss=\"mse\", optimizer=keras.optimizers.SGD(lr=1e-3))\n",
    "early_stopping_cb = keras.callbacks.EarlyStopping(patience=10,\n",
    "                                                  restore_best_weights=True)\n",
    "history = model.fit(X_train, y_train, epochs=100,\n",
    "                    validation_data=(X_valid, y_valid),\n",
    "                    callbacks=[checkpoint_cb, early_stopping_cb])\n",
    "mse_test = model.evaluate(X_test, y_test)"
   ]
  },
  {
   "cell_type": "markdown",
   "id": "6f85d389",
   "metadata": {},
   "source": [
    "사용자 정의 콜백: 검증 손실과 훈련 손실의 비율 출력"
   ]
  },
  {
   "cell_type": "code",
   "execution_count": 47,
   "id": "bd03eb63",
   "metadata": {},
   "outputs": [],
   "source": [
    "class PrintValTrainRatioCallback(keras.callbacks.Callback):\n",
    "    def on_epoch_end(self, epoch, logs):\n",
    "        print(\"\\nval/train: {:.2f}\".format(logs[\"val_loss\"] / logs[\"loss\"]))"
   ]
  },
  {
   "cell_type": "code",
   "execution_count": 48,
   "id": "4efa7695",
   "metadata": {},
   "outputs": [
    {
     "name": "stdout",
     "output_type": "stream",
     "text": [
      "363/363 [==============================] - 0s 564us/step - loss: 0.3689 - val_loss: 0.3813\n",
      "\n",
      "val/train: 1.03\n"
     ]
    }
   ],
   "source": [
    "val_train_ratio_cb = PrintValTrainRatioCallback()\n",
    "history = model.fit(X_train, y_train, epochs=1,\n",
    "                    validation_data=(X_valid, y_valid),\n",
    "                    callbacks=[val_train_ratio_cb])"
   ]
  },
  {
   "cell_type": "markdown",
   "id": "7d1d992d",
   "metadata": {},
   "source": [
    "### 10.2.8 텐서보드를 사용해 시각화하기"
   ]
  },
  {
   "cell_type": "code",
   "execution_count": 49,
   "id": "182cfd37",
   "metadata": {},
   "outputs": [],
   "source": [
    "import os\n",
    "root_logdir = os.path.join(os.curdir, \"my_logs\")"
   ]
  },
  {
   "cell_type": "code",
   "execution_count": 50,
   "id": "b06ec61a",
   "metadata": {},
   "outputs": [
    {
     "data": {
      "text/plain": [
       "'.\\\\my_logs\\\\run_2021_06_09-00_47_58'"
      ]
     },
     "execution_count": 50,
     "metadata": {},
     "output_type": "execute_result"
    }
   ],
   "source": [
    "def get_run_logdir():\n",
    "    import time\n",
    "    run_id = time.strftime(\"run_%Y_%m_%d-%H_%M_%S\")\n",
    "    return os.path.join(root_logdir, run_id)\n",
    "\n",
    "run_logdir = get_run_logdir()\n",
    "run_logdir"
   ]
  },
  {
   "cell_type": "code",
   "execution_count": 51,
   "id": "2b28b9de",
   "metadata": {},
   "outputs": [],
   "source": [
    "model = keras.models.Sequential([\n",
    "    keras.layers.Dense(30, activation=\"relu\", input_shape=[8]),\n",
    "    keras.layers.Dense(30, activation=\"relu\"),\n",
    "    keras.layers.Dense(1)\n",
    "])    \n",
    "model.compile(loss=\"mse\", optimizer=keras.optimizers.SGD(lr=1e-3))"
   ]
  },
  {
   "cell_type": "code",
   "execution_count": 52,
   "id": "e5c65956",
   "metadata": {},
   "outputs": [
    {
     "name": "stdout",
     "output_type": "stream",
     "text": [
      "Epoch 1/30\n",
      "363/363 [==============================] - 1s 999us/step - loss: 2.3910 - val_loss: 11.9380\n",
      "Epoch 2/30\n",
      "363/363 [==============================] - 0s 539us/step - loss: 0.9200 - val_loss: 0.7477\n",
      "Epoch 3/30\n",
      "363/363 [==============================] - 0s 522us/step - loss: 0.6512 - val_loss: 0.5836\n",
      "Epoch 4/30\n",
      "363/363 [==============================] - 0s 519us/step - loss: 0.5886 - val_loss: 0.5737\n",
      "Epoch 5/30\n",
      "363/363 [==============================] - 0s 524us/step - loss: 0.5483 - val_loss: 0.5318\n",
      "Epoch 6/30\n",
      "363/363 [==============================] - 0s 514us/step - loss: 0.5158 - val_loss: 0.4860\n",
      "Epoch 7/30\n",
      "363/363 [==============================] - 0s 516us/step - loss: 0.4908 - val_loss: 0.4507\n",
      "Epoch 8/30\n",
      "363/363 [==============================] - 0s 519us/step - loss: 0.4711 - val_loss: 0.4398\n",
      "Epoch 9/30\n",
      "363/363 [==============================] - 0s 511us/step - loss: 0.4561 - val_loss: 0.4240\n",
      "Epoch 10/30\n",
      "363/363 [==============================] - 0s 519us/step - loss: 0.4447 - val_loss: 0.4127\n",
      "Epoch 11/30\n",
      "363/363 [==============================] - 0s 511us/step - loss: 0.4361 - val_loss: 0.4027\n",
      "Epoch 12/30\n",
      "363/363 [==============================] - 0s 506us/step - loss: 0.4294 - val_loss: 0.3999\n",
      "Epoch 13/30\n",
      "363/363 [==============================] - 0s 511us/step - loss: 0.4237 - val_loss: 0.3929\n",
      "Epoch 14/30\n",
      "363/363 [==============================] - 0s 512us/step - loss: 0.4195 - val_loss: 0.3941\n",
      "Epoch 15/30\n",
      "363/363 [==============================] - 0s 503us/step - loss: 0.4153 - val_loss: 0.3888\n",
      "Epoch 16/30\n",
      "363/363 [==============================] - 0s 508us/step - loss: 0.4118 - val_loss: 0.3961\n",
      "Epoch 17/30\n",
      "363/363 [==============================] - 0s 517us/step - loss: 0.4089 - val_loss: 0.4040\n",
      "Epoch 18/30\n",
      "363/363 [==============================] - 0s 514us/step - loss: 0.4059 - val_loss: 0.3843\n",
      "Epoch 19/30\n",
      "363/363 [==============================] - 0s 514us/step - loss: 0.4033 - val_loss: 0.3878\n",
      "Epoch 20/30\n",
      "363/363 [==============================] - 0s 514us/step - loss: 0.4008 - val_loss: 0.4195\n",
      "Epoch 21/30\n",
      "363/363 [==============================] - 0s 514us/step - loss: 0.3988 - val_loss: 0.3909\n",
      "Epoch 22/30\n",
      "363/363 [==============================] - 0s 505us/step - loss: 0.3966 - val_loss: 0.3971\n",
      "Epoch 23/30\n",
      "363/363 [==============================] - 0s 508us/step - loss: 0.3944 - val_loss: 0.3903\n",
      "Epoch 24/30\n",
      "363/363 [==============================] - 0s 508us/step - loss: 0.3924 - val_loss: 0.4069\n",
      "Epoch 25/30\n",
      "363/363 [==============================] - 0s 521us/step - loss: 0.3909 - val_loss: 0.4134\n",
      "Epoch 26/30\n",
      "363/363 [==============================] - 0s 514us/step - loss: 0.3891 - val_loss: 0.3990\n",
      "Epoch 27/30\n",
      "363/363 [==============================] - 0s 508us/step - loss: 0.3874 - val_loss: 0.3711\n",
      "Epoch 28/30\n",
      "363/363 [==============================] - 0s 517us/step - loss: 0.3857 - val_loss: 0.3763\n",
      "Epoch 29/30\n",
      "363/363 [==============================] - 0s 508us/step - loss: 0.3841 - val_loss: 0.3699\n",
      "Epoch 30/30\n",
      "363/363 [==============================] - 0s 511us/step - loss: 0.3825 - val_loss: 0.3945\n"
     ]
    }
   ],
   "source": [
    "tensorboard_cb = keras.callbacks.TensorBoard(run_logdir)\n",
    "history = model.fit(X_train, y_train, epochs=30,\n",
    "                    validation_data=(X_valid, y_valid),\n",
    "                    callbacks=[checkpoint_cb, tensorboard_cb])"
   ]
  },
  {
   "cell_type": "code",
   "execution_count": 93,
   "id": "e89a939b",
   "metadata": {},
   "outputs": [
    {
     "data": {
      "text/plain": [
       "Reusing TensorBoard on port 6006 (pid 8396), started 1 day, 8:39:43 ago. (Use '!kill 8396' to kill it.)"
      ]
     },
     "metadata": {},
     "output_type": "display_data"
    },
    {
     "data": {
      "text/html": [
       "\n",
       "      <iframe id=\"tensorboard-frame-c1a44f91065a765e\" width=\"100%\" height=\"800\" frameborder=\"0\">\n",
       "      </iframe>\n",
       "      <script>\n",
       "        (function() {\n",
       "          const frame = document.getElementById(\"tensorboard-frame-c1a44f91065a765e\");\n",
       "          const url = new URL(\"/\", window.location);\n",
       "          const port = 6006;\n",
       "          if (port) {\n",
       "            url.port = port;\n",
       "          }\n",
       "          frame.src = url;\n",
       "        })();\n",
       "      </script>\n",
       "    "
      ],
      "text/plain": [
       "<IPython.core.display.HTML object>"
      ]
     },
     "metadata": {},
     "output_type": "display_data"
    }
   ],
   "source": [
    "%reload_ext tensorboard\n",
    "%tensorboard --logdir=./my_logs --port=6006"
   ]
  },
  {
   "cell_type": "markdown",
   "id": "ac954974",
   "metadata": {},
   "source": [
    "## 10.2 신경망 하이퍼파라미터 튜닝하기"
   ]
  },
  {
   "cell_type": "code",
   "execution_count": 63,
   "id": "c5d76210",
   "metadata": {},
   "outputs": [],
   "source": [
    "def build_model(n_hidden=1, n_neurons=30, learning_rate=3e-3, input_shape=[8]):\n",
    "    model = keras.models.Sequential()\n",
    "    model.add(keras.layers.InputLayer(input_shape=input_shape))\n",
    "    for layer in range(n_hidden):\n",
    "        model.add(keras.layers.Dense(n_neurons, activation=\"relu\"))\n",
    "    model.add(keras.layers.Dense(1))\n",
    "    optimizer = keras.optimizers.SGD(lr=learning_rate)\n",
    "    model.compile(loss=\"mse\", optimizer=optimizer)\n",
    "    return model"
   ]
  },
  {
   "cell_type": "markdown",
   "id": "b292cd05",
   "metadata": {},
   "source": [
    "사이킷런 regression estimator처럼 사용할 수 있게 바꾸기"
   ]
  },
  {
   "cell_type": "code",
   "execution_count": 64,
   "id": "0d51dd68",
   "metadata": {},
   "outputs": [],
   "source": [
    "keras_reg = keras.wrappers.scikit_learn.KerasRegressor(build_model)"
   ]
  },
  {
   "cell_type": "code",
   "execution_count": 65,
   "id": "f3faef0e",
   "metadata": {},
   "outputs": [
    {
     "name": "stdout",
     "output_type": "stream",
     "text": [
      "Epoch 1/100\n",
      "363/363 [==============================] - 0s 671us/step - loss: 1.1365 - val_loss: 26.0698\n",
      "Epoch 2/100\n",
      "363/363 [==============================] - 0s 497us/step - loss: 0.8466 - val_loss: 33.1582\n",
      "Epoch 3/100\n",
      "363/363 [==============================] - 0s 503us/step - loss: 0.7225 - val_loss: 1.5595\n",
      "Epoch 4/100\n",
      "363/363 [==============================] - 0s 492us/step - loss: 0.4723 - val_loss: 0.5576\n",
      "Epoch 5/100\n",
      "363/363 [==============================] - 0s 495us/step - loss: 0.4444 - val_loss: 0.4250\n",
      "Epoch 6/100\n",
      "363/363 [==============================] - 0s 486us/step - loss: 0.4320 - val_loss: 0.4098\n",
      "Epoch 7/100\n",
      "363/363 [==============================] - 0s 478us/step - loss: 0.4250 - val_loss: 0.4209\n",
      "Epoch 8/100\n",
      "363/363 [==============================] - 0s 481us/step - loss: 0.4201 - val_loss: 0.4105\n",
      "Epoch 9/100\n",
      "363/363 [==============================] - 0s 486us/step - loss: 0.4160 - val_loss: 0.4397\n",
      "Epoch 10/100\n",
      "363/363 [==============================] - 0s 495us/step - loss: 0.4113 - val_loss: 0.4184\n",
      "Epoch 11/100\n",
      "363/363 [==============================] - 0s 485us/step - loss: 0.4087 - val_loss: 0.3921\n",
      "Epoch 12/100\n",
      "363/363 [==============================] - 0s 484us/step - loss: 0.4060 - val_loss: 0.3944\n",
      "Epoch 13/100\n",
      "363/363 [==============================] - 0s 481us/step - loss: 0.4024 - val_loss: 0.4008\n",
      "Epoch 14/100\n",
      "363/363 [==============================] - 0s 489us/step - loss: 0.4006 - val_loss: 0.4147\n",
      "Epoch 15/100\n",
      "363/363 [==============================] - 0s 490us/step - loss: 0.3985 - val_loss: 0.3866\n",
      "Epoch 16/100\n",
      "363/363 [==============================] - 0s 492us/step - loss: 0.3956 - val_loss: 0.3892\n",
      "Epoch 17/100\n",
      "363/363 [==============================] - 0s 495us/step - loss: 0.3939 - val_loss: 0.4419\n",
      "Epoch 18/100\n",
      "363/363 [==============================] - 0s 489us/step - loss: 0.3927 - val_loss: 0.3842\n",
      "Epoch 19/100\n",
      "363/363 [==============================] - 0s 495us/step - loss: 0.3906 - val_loss: 0.4087\n",
      "Epoch 20/100\n",
      "363/363 [==============================] - 0s 492us/step - loss: 0.3894 - val_loss: 0.4021\n",
      "Epoch 21/100\n",
      "363/363 [==============================] - 0s 484us/step - loss: 0.3866 - val_loss: 0.3891\n",
      "Epoch 22/100\n",
      "363/363 [==============================] - 0s 486us/step - loss: 0.3856 - val_loss: 0.3721\n",
      "Epoch 23/100\n",
      "363/363 [==============================] - 0s 492us/step - loss: 0.3830 - val_loss: 0.3736\n",
      "Epoch 24/100\n",
      "363/363 [==============================] - 0s 486us/step - loss: 0.3831 - val_loss: 0.4143\n",
      "Epoch 25/100\n",
      "363/363 [==============================] - 0s 495us/step - loss: 0.3810 - val_loss: 0.3817\n",
      "Epoch 26/100\n",
      "363/363 [==============================] - 0s 493us/step - loss: 0.3782 - val_loss: 0.3833\n",
      "Epoch 27/100\n",
      "363/363 [==============================] - 0s 492us/step - loss: 0.3766 - val_loss: 0.4044\n",
      "Epoch 28/100\n",
      "363/363 [==============================] - 0s 492us/step - loss: 0.3760 - val_loss: 0.4099\n",
      "Epoch 29/100\n",
      "363/363 [==============================] - 0s 484us/step - loss: 0.3741 - val_loss: 0.3809\n",
      "Epoch 30/100\n",
      "363/363 [==============================] - 0s 481us/step - loss: 0.3730 - val_loss: 0.3612\n",
      "Epoch 31/100\n",
      "363/363 [==============================] - 0s 486us/step - loss: 0.3718 - val_loss: 0.3575\n",
      "Epoch 32/100\n",
      "363/363 [==============================] - 0s 492us/step - loss: 0.3705 - val_loss: 0.4063\n",
      "Epoch 33/100\n",
      "363/363 [==============================] - 0s 486us/step - loss: 0.3689 - val_loss: 0.3723\n",
      "Epoch 34/100\n",
      "363/363 [==============================] - 0s 486us/step - loss: 0.3690 - val_loss: 0.3628\n",
      "Epoch 35/100\n",
      "363/363 [==============================] - 0s 487us/step - loss: 0.3669 - val_loss: 0.3521\n",
      "Epoch 36/100\n",
      "363/363 [==============================] - 0s 495us/step - loss: 0.3658 - val_loss: 0.3634\n",
      "Epoch 37/100\n",
      "363/363 [==============================] - 0s 489us/step - loss: 0.3651 - val_loss: 0.3594\n",
      "Epoch 38/100\n",
      "363/363 [==============================] - 0s 495us/step - loss: 0.3637 - val_loss: 0.3519\n",
      "Epoch 39/100\n",
      "363/363 [==============================] - 0s 492us/step - loss: 0.3627 - val_loss: 0.3941\n",
      "Epoch 40/100\n",
      "363/363 [==============================] - 0s 493us/step - loss: 0.3626 - val_loss: 0.3830\n",
      "Epoch 41/100\n",
      "363/363 [==============================] - 0s 484us/step - loss: 0.3609 - val_loss: 0.3530\n",
      "Epoch 42/100\n",
      "363/363 [==============================] - 0s 486us/step - loss: 0.3605 - val_loss: 0.3576\n",
      "Epoch 43/100\n",
      "363/363 [==============================] - 0s 497us/step - loss: 0.3595 - val_loss: 0.3697\n",
      "Epoch 44/100\n",
      "363/363 [==============================] - 0s 506us/step - loss: 0.3586 - val_loss: 0.3402\n",
      "Epoch 45/100\n",
      "363/363 [==============================] - 0s 514us/step - loss: 0.3579 - val_loss: 0.3423\n",
      "Epoch 46/100\n",
      "363/363 [==============================] - 0s 519us/step - loss: 0.3567 - val_loss: 0.3421\n",
      "Epoch 47/100\n",
      "363/363 [==============================] - 0s 489us/step - loss: 0.3567 - val_loss: 0.3474\n",
      "Epoch 48/100\n",
      "363/363 [==============================] - 0s 481us/step - loss: 0.3559 - val_loss: 0.3383\n",
      "Epoch 49/100\n",
      "363/363 [==============================] - 0s 486us/step - loss: 0.3551 - val_loss: 0.3723\n",
      "Epoch 50/100\n",
      "363/363 [==============================] - 0s 484us/step - loss: 0.3543 - val_loss: 0.3362\n",
      "Epoch 51/100\n",
      "363/363 [==============================] - 0s 486us/step - loss: 0.3539 - val_loss: 0.3809\n",
      "Epoch 52/100\n",
      "363/363 [==============================] - 0s 500us/step - loss: 0.3538 - val_loss: 0.3393\n",
      "Epoch 53/100\n",
      "363/363 [==============================] - 0s 492us/step - loss: 0.3525 - val_loss: 0.3374\n",
      "Epoch 54/100\n",
      "363/363 [==============================] - 0s 484us/step - loss: 0.3516 - val_loss: 0.3335\n",
      "Epoch 55/100\n",
      "363/363 [==============================] - 0s 484us/step - loss: 0.3512 - val_loss: 0.4023\n",
      "Epoch 56/100\n",
      "363/363 [==============================] - 0s 486us/step - loss: 0.3509 - val_loss: 0.3393\n",
      "Epoch 57/100\n",
      "363/363 [==============================] - 0s 486us/step - loss: 0.3505 - val_loss: 0.3358\n",
      "Epoch 58/100\n",
      "363/363 [==============================] - 0s 486us/step - loss: 0.3500 - val_loss: 0.5175\n",
      "Epoch 59/100\n",
      "363/363 [==============================] - 0s 486us/step - loss: 0.3501 - val_loss: 0.3338\n",
      "Epoch 60/100\n",
      "363/363 [==============================] - 0s 486us/step - loss: 0.3486 - val_loss: 0.3894\n",
      "Epoch 61/100\n",
      "363/363 [==============================] - 0s 514us/step - loss: 0.3479 - val_loss: 0.3428\n",
      "Epoch 62/100\n",
      "363/363 [==============================] - 0s 503us/step - loss: 0.3474 - val_loss: 0.3426\n",
      "Epoch 63/100\n",
      "363/363 [==============================] - 0s 492us/step - loss: 0.3472 - val_loss: 0.3346\n",
      "Epoch 64/100\n",
      "363/363 [==============================] - 0s 497us/step - loss: 0.3462 - val_loss: 0.3861\n"
     ]
    },
    {
     "data": {
      "text/plain": [
       "<tensorflow.python.keras.callbacks.History at 0x214b57ba580>"
      ]
     },
     "execution_count": 65,
     "metadata": {},
     "output_type": "execute_result"
    }
   ],
   "source": [
    "keras_reg.fit(X_train, y_train, epochs=100,\n",
    "              validation_data=(X_valid, y_valid),\n",
    "              callbacks=[keras.callbacks.EarlyStopping(patience=10)])"
   ]
  },
  {
   "cell_type": "code",
   "execution_count": 66,
   "id": "54379c75",
   "metadata": {},
   "outputs": [
    {
     "name": "stdout",
     "output_type": "stream",
     "text": [
      "162/162 [==============================] - 0s 342us/step - loss: 0.3485\n"
     ]
    }
   ],
   "source": [
    "mse_test = keras_reg.score(X_test, y_test)"
   ]
  },
  {
   "cell_type": "code",
   "execution_count": 67,
   "id": "86a0cd8d",
   "metadata": {},
   "outputs": [],
   "source": [
    "# y_pred = keras_reg.predict(X_new)"
   ]
  },
  {
   "cell_type": "code",
   "execution_count": 68,
   "id": "e0f86d89",
   "metadata": {},
   "outputs": [
    {
     "name": "stdout",
     "output_type": "stream",
     "text": [
      "Fitting 3 folds for each of 10 candidates, totalling 30 fits\n",
      "Epoch 1/100\n"
     ]
    },
    {
     "name": "stderr",
     "output_type": "stream",
     "text": [
      "C:\\Users\\anpdi\\anaconda3\\lib\\site-packages\\tensorflow\\python\\keras\\optimizer_v2\\optimizer_v2.py:374: UserWarning: The `lr` argument is deprecated, use `learning_rate` instead.\n",
      "  warnings.warn(\n"
     ]
    },
    {
     "name": "stdout",
     "output_type": "stream",
     "text": [
      "242/242 [==============================] - 0s 892us/step - loss: 2.8250 - val_loss: 3.9035\n",
      "Epoch 2/100\n",
      "242/242 [==============================] - 0s 610us/step - loss: 1.2097 - val_loss: 2.5509\n",
      "Epoch 3/100\n",
      "242/242 [==============================] - 0s 610us/step - loss: 0.8565 - val_loss: 1.0816\n",
      "Epoch 4/100\n",
      "242/242 [==============================] - 0s 637us/step - loss: 0.7411 - val_loss: 0.7630\n",
      "Epoch 5/100\n",
      "242/242 [==============================] - 0s 647us/step - loss: 0.6946 - val_loss: 0.6634\n",
      "Epoch 6/100\n",
      "242/242 [==============================] - 0s 652us/step - loss: 0.6664 - val_loss: 0.6277\n",
      "Epoch 7/100\n",
      "242/242 [==============================] - 0s 627us/step - loss: 0.6442 - val_loss: 0.6070\n",
      "Epoch 8/100\n",
      "242/242 [==============================] - 0s 614us/step - loss: 0.6251 - val_loss: 0.5864\n",
      "Epoch 9/100\n",
      "242/242 [==============================] - 0s 633us/step - loss: 0.6078 - val_loss: 0.5704\n",
      "Epoch 10/100\n",
      "242/242 [==============================] - 0s 610us/step - loss: 0.5918 - val_loss: 0.5565\n",
      "Epoch 11/100\n",
      "242/242 [==============================] - 0s 623us/step - loss: 0.5768 - val_loss: 0.5437\n",
      "Epoch 12/100\n",
      "242/242 [==============================] - 0s 631us/step - loss: 0.5633 - val_loss: 0.5286\n",
      "Epoch 13/100\n",
      "242/242 [==============================] - 0s 623us/step - loss: 0.5504 - val_loss: 0.5157\n",
      "Epoch 14/100\n",
      "242/242 [==============================] - 0s 672us/step - loss: 0.5384 - val_loss: 0.5043\n",
      "Epoch 15/100\n",
      "242/242 [==============================] - 0s 652us/step - loss: 0.5271 - val_loss: 0.4949\n",
      "Epoch 16/100\n",
      "242/242 [==============================] - 0s 602us/step - loss: 0.5167 - val_loss: 0.4848\n",
      "Epoch 17/100\n",
      "242/242 [==============================] - 0s 616us/step - loss: 0.5068 - val_loss: 0.4751\n",
      "Epoch 18/100\n",
      "242/242 [==============================] - 0s 623us/step - loss: 0.4976 - val_loss: 0.4669\n",
      "Epoch 19/100\n",
      "242/242 [==============================] - 0s 623us/step - loss: 0.4892 - val_loss: 0.4584\n",
      "Epoch 20/100\n",
      "242/242 [==============================] - 0s 627us/step - loss: 0.4814 - val_loss: 0.4510\n",
      "Epoch 21/100\n",
      "242/242 [==============================] - 0s 618us/step - loss: 0.4741 - val_loss: 0.4439\n",
      "Epoch 22/100\n",
      "242/242 [==============================] - 0s 623us/step - loss: 0.4673 - val_loss: 0.4377\n",
      "Epoch 23/100\n",
      "242/242 [==============================] - 0s 610us/step - loss: 0.4612 - val_loss: 0.4326\n",
      "Epoch 24/100\n",
      "242/242 [==============================] - 0s 610us/step - loss: 0.4553 - val_loss: 0.4277\n",
      "Epoch 25/100\n",
      "242/242 [==============================] - 0s 639us/step - loss: 0.4500 - val_loss: 0.4218\n",
      "Epoch 26/100\n",
      "242/242 [==============================] - 0s 660us/step - loss: 0.4451 - val_loss: 0.4208\n",
      "Epoch 27/100\n",
      "242/242 [==============================] - 0s 621us/step - loss: 0.4406 - val_loss: 0.4141\n",
      "Epoch 28/100\n",
      "242/242 [==============================] - 0s 618us/step - loss: 0.4363 - val_loss: 0.4094\n",
      "Epoch 29/100\n",
      "242/242 [==============================] - 0s 618us/step - loss: 0.4325 - val_loss: 0.4088\n",
      "Epoch 30/100\n",
      "242/242 [==============================] - 0s 623us/step - loss: 0.4288 - val_loss: 0.4096\n",
      "Epoch 31/100\n",
      "242/242 [==============================] - 0s 618us/step - loss: 0.4254 - val_loss: 0.4057\n",
      "Epoch 32/100\n",
      "242/242 [==============================] - 0s 623us/step - loss: 0.4223 - val_loss: 0.4008\n",
      "Epoch 33/100\n",
      "242/242 [==============================] - 0s 623us/step - loss: 0.4193 - val_loss: 0.3981\n",
      "Epoch 34/100\n",
      "242/242 [==============================] - 0s 632us/step - loss: 0.4166 - val_loss: 0.3917\n",
      "Epoch 35/100\n",
      "242/242 [==============================] - 0s 618us/step - loss: 0.4140 - val_loss: 0.3923\n",
      "Epoch 36/100\n",
      "242/242 [==============================] - 0s 623us/step - loss: 0.4117 - val_loss: 0.3904\n",
      "Epoch 37/100\n",
      "242/242 [==============================] - 0s 627us/step - loss: 0.4093 - val_loss: 0.3877\n",
      "Epoch 38/100\n",
      "242/242 [==============================] - 0s 618us/step - loss: 0.4073 - val_loss: 0.3898\n",
      "Epoch 39/100\n",
      "242/242 [==============================] - 0s 610us/step - loss: 0.4053 - val_loss: 0.3941\n",
      "Epoch 40/100\n",
      "242/242 [==============================] - 0s 606us/step - loss: 0.4035 - val_loss: 0.3901\n",
      "Epoch 41/100\n",
      "242/242 [==============================] - 0s 639us/step - loss: 0.4016 - val_loss: 0.3888\n",
      "Epoch 42/100\n",
      "242/242 [==============================] - 0s 664us/step - loss: 0.3999 - val_loss: 0.3841\n",
      "Epoch 43/100\n",
      "242/242 [==============================] - 0s 647us/step - loss: 0.3983 - val_loss: 0.3851\n",
      "Epoch 44/100\n",
      "242/242 [==============================] - 0s 652us/step - loss: 0.3967 - val_loss: 0.3822\n",
      "Epoch 45/100\n",
      "242/242 [==============================] - 0s 614us/step - loss: 0.3953 - val_loss: 0.3839\n",
      "Epoch 46/100\n",
      "242/242 [==============================] - 0s 610us/step - loss: 0.3939 - val_loss: 0.3800\n",
      "Epoch 47/100\n",
      "242/242 [==============================] - 0s 625us/step - loss: 0.3924 - val_loss: 0.3759\n",
      "Epoch 48/100\n",
      "242/242 [==============================] - 0s 614us/step - loss: 0.3911 - val_loss: 0.3836\n",
      "Epoch 49/100\n",
      "242/242 [==============================] - 0s 618us/step - loss: 0.3897 - val_loss: 0.3783\n",
      "Epoch 50/100\n",
      "242/242 [==============================] - 0s 610us/step - loss: 0.3886 - val_loss: 0.3757\n",
      "Epoch 51/100\n",
      "242/242 [==============================] - 0s 610us/step - loss: 0.3874 - val_loss: 0.3754\n",
      "Epoch 52/100\n",
      "242/242 [==============================] - 0s 606us/step - loss: 0.3862 - val_loss: 0.3774\n",
      "Epoch 53/100\n",
      "242/242 [==============================] - 0s 610us/step - loss: 0.3851 - val_loss: 0.3780\n",
      "Epoch 54/100\n",
      "242/242 [==============================] - 0s 618us/step - loss: 0.3836 - val_loss: 0.3858\n",
      "Epoch 55/100\n",
      "242/242 [==============================] - 0s 606us/step - loss: 0.3829 - val_loss: 0.3776\n",
      "Epoch 56/100\n",
      "242/242 [==============================] - 0s 623us/step - loss: 0.3819 - val_loss: 0.3779\n",
      "Epoch 57/100\n",
      "242/242 [==============================] - 0s 623us/step - loss: 0.3809 - val_loss: 0.3892\n",
      "Epoch 58/100\n",
      "242/242 [==============================] - 0s 614us/step - loss: 0.3800 - val_loss: 0.3786\n",
      "Epoch 59/100\n",
      "242/242 [==============================] - 0s 614us/step - loss: 0.3790 - val_loss: 0.3889\n",
      "Epoch 60/100\n",
      "242/242 [==============================] - 0s 627us/step - loss: 0.3780 - val_loss: 0.3827\n",
      "Epoch 61/100\n",
      "242/242 [==============================] - 0s 602us/step - loss: 0.3772 - val_loss: 0.3835\n",
      "121/121 [==============================] - 0s 333us/step - loss: 0.3918\n",
      "[CV] END learning_rate=0.0005235870662880465, n_hidden=2, n_neurons=76; total time=   9.5s\n",
      "Epoch 1/100\n"
     ]
    },
    {
     "name": "stderr",
     "output_type": "stream",
     "text": [
      "C:\\Users\\anpdi\\anaconda3\\lib\\site-packages\\tensorflow\\python\\keras\\optimizer_v2\\optimizer_v2.py:374: UserWarning: The `lr` argument is deprecated, use `learning_rate` instead.\n",
      "  warnings.warn(\n"
     ]
    },
    {
     "name": "stdout",
     "output_type": "stream",
     "text": [
      "242/242 [==============================] - 1s 946us/step - loss: 2.9842 - val_loss: 7.2356\n",
      "Epoch 2/100\n",
      "242/242 [==============================] - 0s 631us/step - loss: 1.2191 - val_loss: 9.4002\n",
      "Epoch 3/100\n",
      "242/242 [==============================] - 0s 585us/step - loss: 0.8806 - val_loss: 7.8098\n",
      "Epoch 4/100\n",
      "242/242 [==============================] - 0s 614us/step - loss: 0.7618 - val_loss: 5.8493\n",
      "Epoch 5/100\n",
      "242/242 [==============================] - 0s 656us/step - loss: 0.7060 - val_loss: 4.3225\n",
      "Epoch 6/100\n",
      "242/242 [==============================] - 0s 643us/step - loss: 0.6721 - val_loss: 3.1403\n",
      "Epoch 7/100\n",
      "242/242 [==============================] - 0s 668us/step - loss: 0.6464 - val_loss: 2.2993\n",
      "Epoch 8/100\n",
      "242/242 [==============================] - 0s 639us/step - loss: 0.6241 - val_loss: 1.7397\n",
      "Epoch 9/100\n",
      "242/242 [==============================] - 0s 610us/step - loss: 0.6043 - val_loss: 1.2481\n",
      "Epoch 10/100\n",
      "242/242 [==============================] - 0s 623us/step - loss: 0.5858 - val_loss: 0.9401\n",
      "Epoch 11/100\n",
      "242/242 [==============================] - 0s 627us/step - loss: 0.5688 - val_loss: 0.7594\n",
      "Epoch 12/100\n",
      "242/242 [==============================] - 0s 643us/step - loss: 0.5530 - val_loss: 0.6381\n",
      "Epoch 13/100\n",
      "242/242 [==============================] - 0s 660us/step - loss: 0.5385 - val_loss: 0.5353\n",
      "Epoch 14/100\n",
      "242/242 [==============================] - 0s 614us/step - loss: 0.5251 - val_loss: 0.4997\n",
      "Epoch 15/100\n",
      "242/242 [==============================] - 0s 610us/step - loss: 0.5124 - val_loss: 0.4817\n",
      "Epoch 16/100\n",
      "242/242 [==============================] - 0s 611us/step - loss: 0.5008 - val_loss: 0.4884\n",
      "Epoch 17/100\n",
      "242/242 [==============================] - 0s 610us/step - loss: 0.4903 - val_loss: 0.4957\n",
      "Epoch 18/100\n",
      "242/242 [==============================] - 0s 614us/step - loss: 0.4804 - val_loss: 0.5149\n",
      "Epoch 19/100\n",
      "242/242 [==============================] - 0s 610us/step - loss: 0.4714 - val_loss: 0.5372\n",
      "Epoch 20/100\n",
      "242/242 [==============================] - 0s 623us/step - loss: 0.4629 - val_loss: 0.5676\n",
      "Epoch 21/100\n",
      "242/242 [==============================] - 0s 610us/step - loss: 0.4556 - val_loss: 0.5642\n",
      "Epoch 22/100\n",
      "242/242 [==============================] - 0s 614us/step - loss: 0.4486 - val_loss: 0.5828\n",
      "Epoch 23/100\n",
      "242/242 [==============================] - 0s 614us/step - loss: 0.4424 - val_loss: 0.5843\n",
      "Epoch 24/100\n",
      "242/242 [==============================] - 0s 598us/step - loss: 0.4365 - val_loss: 0.5745\n",
      "Epoch 25/100\n",
      "242/242 [==============================] - 0s 614us/step - loss: 0.4314 - val_loss: 0.5733\n",
      "121/121 [==============================] - 0s 367us/step - loss: 0.4388\n",
      "[CV] END learning_rate=0.0005235870662880465, n_hidden=2, n_neurons=76; total time=   4.3s\n",
      "Epoch 1/100\n"
     ]
    },
    {
     "name": "stderr",
     "output_type": "stream",
     "text": [
      "C:\\Users\\anpdi\\anaconda3\\lib\\site-packages\\tensorflow\\python\\keras\\optimizer_v2\\optimizer_v2.py:374: UserWarning: The `lr` argument is deprecated, use `learning_rate` instead.\n",
      "  warnings.warn(\n"
     ]
    },
    {
     "name": "stdout",
     "output_type": "stream",
     "text": [
      "242/242 [==============================] - 0s 917us/step - loss: 3.1334 - val_loss: 2.0125\n",
      "Epoch 2/100\n",
      "242/242 [==============================] - 0s 602us/step - loss: 1.2217 - val_loss: 1.1517\n",
      "Epoch 3/100\n",
      "242/242 [==============================] - 0s 589us/step - loss: 0.8771 - val_loss: 0.8706\n",
      "Epoch 4/100\n",
      "242/242 [==============================] - 0s 623us/step - loss: 0.7799 - val_loss: 0.7371\n",
      "Epoch 5/100\n",
      "242/242 [==============================] - 0s 618us/step - loss: 0.7311 - val_loss: 0.7010\n",
      "Epoch 6/100\n",
      "242/242 [==============================] - 0s 652us/step - loss: 0.6958 - val_loss: 0.6649\n",
      "Epoch 7/100\n",
      "242/242 [==============================] - 0s 639us/step - loss: 0.6673 - val_loss: 0.6319\n",
      "Epoch 8/100\n",
      "242/242 [==============================] - 0s 627us/step - loss: 0.6434 - val_loss: 0.6164\n",
      "Epoch 9/100\n",
      "242/242 [==============================] - 0s 631us/step - loss: 0.6218 - val_loss: 0.5846\n",
      "Epoch 10/100\n",
      "242/242 [==============================] - 0s 652us/step - loss: 0.6031 - val_loss: 0.5817\n",
      "Epoch 11/100\n",
      "242/242 [==============================] - 0s 623us/step - loss: 0.5851 - val_loss: 0.5581\n",
      "Epoch 12/100\n",
      "242/242 [==============================] - 0s 668us/step - loss: 0.5697 - val_loss: 0.5593\n",
      "Epoch 13/100\n",
      "242/242 [==============================] - 0s 614us/step - loss: 0.5551 - val_loss: 0.5473\n",
      "Epoch 14/100\n",
      "242/242 [==============================] - 0s 685us/step - loss: 0.5425 - val_loss: 0.5190\n",
      "Epoch 15/100\n",
      "242/242 [==============================] - 0s 623us/step - loss: 0.5311 - val_loss: 0.5257\n",
      "Epoch 16/100\n",
      "242/242 [==============================] - 0s 672us/step - loss: 0.5208 - val_loss: 0.5122\n",
      "Epoch 17/100\n",
      "242/242 [==============================] - 0s 652us/step - loss: 0.5115 - val_loss: 0.5018\n",
      "Epoch 18/100\n",
      "242/242 [==============================] - 0s 647us/step - loss: 0.5031 - val_loss: 0.4990\n",
      "Epoch 19/100\n",
      "242/242 [==============================] - 0s 614us/step - loss: 0.4952 - val_loss: 0.4916\n",
      "Epoch 20/100\n",
      "242/242 [==============================] - 0s 614us/step - loss: 0.4881 - val_loss: 0.4908\n",
      "Epoch 21/100\n",
      "242/242 [==============================] - 0s 633us/step - loss: 0.4817 - val_loss: 0.4769\n",
      "Epoch 22/100\n",
      "242/242 [==============================] - 0s 618us/step - loss: 0.4758 - val_loss: 0.4747\n",
      "Epoch 23/100\n",
      "242/242 [==============================] - 0s 627us/step - loss: 0.4703 - val_loss: 0.4688\n",
      "Epoch 24/100\n",
      "242/242 [==============================] - 0s 618us/step - loss: 0.4653 - val_loss: 0.4631\n",
      "Epoch 25/100\n",
      "242/242 [==============================] - 0s 618us/step - loss: 0.4606 - val_loss: 0.4653\n",
      "Epoch 26/100\n",
      "242/242 [==============================] - 0s 610us/step - loss: 0.4561 - val_loss: 0.4661\n",
      "Epoch 27/100\n",
      "242/242 [==============================] - 0s 610us/step - loss: 0.4521 - val_loss: 0.4643\n",
      "Epoch 28/100\n",
      "242/242 [==============================] - 0s 589us/step - loss: 0.4482 - val_loss: 0.4517\n",
      "Epoch 29/100\n",
      "242/242 [==============================] - 0s 606us/step - loss: 0.4447 - val_loss: 0.4689\n",
      "Epoch 30/100\n",
      "242/242 [==============================] - 0s 598us/step - loss: 0.4412 - val_loss: 0.4563\n",
      "Epoch 31/100\n",
      "242/242 [==============================] - 0s 606us/step - loss: 0.4380 - val_loss: 0.4703\n",
      "Epoch 32/100\n",
      "242/242 [==============================] - 0s 623us/step - loss: 0.4349 - val_loss: 0.4644\n",
      "Epoch 33/100\n",
      "242/242 [==============================] - 0s 618us/step - loss: 0.4323 - val_loss: 0.4405\n",
      "Epoch 34/100\n",
      "242/242 [==============================] - 0s 618us/step - loss: 0.4295 - val_loss: 0.4409\n",
      "Epoch 35/100\n",
      "242/242 [==============================] - 0s 610us/step - loss: 0.4269 - val_loss: 0.4526\n",
      "Epoch 36/100\n",
      "242/242 [==============================] - 0s 610us/step - loss: 0.4245 - val_loss: 0.4383\n",
      "Epoch 37/100\n",
      "242/242 [==============================] - 0s 622us/step - loss: 0.4222 - val_loss: 0.4624\n",
      "Epoch 38/100\n",
      "242/242 [==============================] - 0s 606us/step - loss: 0.4200 - val_loss: 0.4398\n",
      "Epoch 39/100\n",
      "242/242 [==============================] - 0s 610us/step - loss: 0.4179 - val_loss: 0.4349\n",
      "Epoch 40/100\n",
      "242/242 [==============================] - 0s 610us/step - loss: 0.4157 - val_loss: 0.4616\n",
      "Epoch 41/100\n",
      "242/242 [==============================] - 0s 606us/step - loss: 0.4138 - val_loss: 0.4728\n",
      "Epoch 42/100\n",
      "242/242 [==============================] - 0s 606us/step - loss: 0.4121 - val_loss: 0.4709\n",
      "Epoch 43/100\n",
      "242/242 [==============================] - 0s 614us/step - loss: 0.4103 - val_loss: 0.4241\n",
      "Epoch 44/100\n",
      "242/242 [==============================] - 0s 614us/step - loss: 0.4084 - val_loss: 0.4213\n",
      "Epoch 45/100\n",
      "242/242 [==============================] - 0s 603us/step - loss: 0.4067 - val_loss: 0.4555\n",
      "Epoch 46/100\n",
      "242/242 [==============================] - 0s 616us/step - loss: 0.4052 - val_loss: 0.4349\n",
      "Epoch 47/100\n",
      "242/242 [==============================] - 0s 618us/step - loss: 0.4036 - val_loss: 0.4600\n",
      "Epoch 48/100\n",
      "242/242 [==============================] - 0s 593us/step - loss: 0.4021 - val_loss: 0.4374\n",
      "Epoch 49/100\n",
      "242/242 [==============================] - 0s 606us/step - loss: 0.4009 - val_loss: 0.4080\n",
      "Epoch 50/100\n",
      "242/242 [==============================] - 0s 610us/step - loss: 0.3993 - val_loss: 0.4236\n",
      "Epoch 51/100\n",
      "242/242 [==============================] - 0s 614us/step - loss: 0.3976 - val_loss: 0.4064\n",
      "Epoch 52/100\n",
      "242/242 [==============================] - 0s 610us/step - loss: 0.3968 - val_loss: 0.4116\n",
      "Epoch 53/100\n",
      "242/242 [==============================] - 0s 614us/step - loss: 0.3950 - val_loss: 0.4483\n",
      "Epoch 54/100\n",
      "242/242 [==============================] - 0s 610us/step - loss: 0.3942 - val_loss: 0.4225\n",
      "Epoch 55/100\n",
      "242/242 [==============================] - 0s 608us/step - loss: 0.3931 - val_loss: 0.4113\n",
      "Epoch 56/100\n",
      "242/242 [==============================] - 0s 623us/step - loss: 0.3917 - val_loss: 0.4361\n",
      "Epoch 57/100\n",
      "242/242 [==============================] - 0s 643us/step - loss: 0.3908 - val_loss: 0.4261\n",
      "Epoch 58/100\n",
      "242/242 [==============================] - 0s 614us/step - loss: 0.3897 - val_loss: 0.4303\n",
      "Epoch 59/100\n",
      "242/242 [==============================] - 0s 598us/step - loss: 0.3885 - val_loss: 0.4392\n",
      "Epoch 60/100\n",
      "242/242 [==============================] - 0s 627us/step - loss: 0.3876 - val_loss: 0.4183\n",
      "Epoch 61/100\n",
      "242/242 [==============================] - 0s 606us/step - loss: 0.3865 - val_loss: 0.4235\n",
      "121/121 [==============================] - 0s 358us/step - loss: 0.3879\n",
      "[CV] END learning_rate=0.0005235870662880465, n_hidden=2, n_neurons=76; total time=   9.5s\n",
      "Epoch 1/100\n"
     ]
    },
    {
     "name": "stderr",
     "output_type": "stream",
     "text": [
      "C:\\Users\\anpdi\\anaconda3\\lib\\site-packages\\tensorflow\\python\\keras\\optimizer_v2\\optimizer_v2.py:374: UserWarning: The `lr` argument is deprecated, use `learning_rate` instead.\n",
      "  warnings.warn(\n"
     ]
    },
    {
     "name": "stdout",
     "output_type": "stream",
     "text": [
      "242/242 [==============================] - 0s 880us/step - loss: 8.5512 - val_loss: 7.6830\n",
      "Epoch 2/100\n",
      "242/242 [==============================] - 0s 527us/step - loss: 5.7944 - val_loss: 4.9304\n",
      "Epoch 3/100\n",
      "242/242 [==============================] - 0s 560us/step - loss: 4.0396 - val_loss: 3.2961\n",
      "Epoch 4/100\n",
      "242/242 [==============================] - 0s 535us/step - loss: 2.9081 - val_loss: 2.3387\n",
      "Epoch 5/100\n",
      "242/242 [==============================] - 0s 569us/step - loss: 2.1683 - val_loss: 1.7670\n",
      "Epoch 6/100\n",
      "242/242 [==============================] - 0s 535us/step - loss: 1.6764 - val_loss: 1.4297\n",
      "Epoch 7/100\n",
      "242/242 [==============================] - 0s 577us/step - loss: 1.3467 - val_loss: 1.2271\n",
      "Epoch 8/100\n",
      "242/242 [==============================] - 0s 540us/step - loss: 1.1226 - val_loss: 1.1094\n",
      "Epoch 9/100\n",
      "242/242 [==============================] - 0s 564us/step - loss: 0.9689 - val_loss: 1.0262\n",
      "Epoch 10/100\n",
      "242/242 [==============================] - 0s 556us/step - loss: 0.8623 - val_loss: 0.9937\n",
      "Epoch 11/100\n",
      "242/242 [==============================] - 0s 523us/step - loss: 0.7883 - val_loss: 0.9649\n",
      "Epoch 12/100\n",
      "242/242 [==============================] - 0s 573us/step - loss: 0.7361 - val_loss: 0.9519\n",
      "Epoch 13/100\n",
      "242/242 [==============================] - 0s 535us/step - loss: 0.6989 - val_loss: 0.9526\n",
      "Epoch 14/100\n",
      "242/242 [==============================] - 0s 564us/step - loss: 0.6725 - val_loss: 0.9337\n",
      "Epoch 15/100\n",
      "242/242 [==============================] - 0s 564us/step - loss: 0.6531 - val_loss: 0.9228\n",
      "Epoch 16/100\n",
      "242/242 [==============================] - 0s 523us/step - loss: 0.6390 - val_loss: 0.9053\n",
      "Epoch 17/100\n",
      "242/242 [==============================] - 0s 515us/step - loss: 0.6283 - val_loss: 0.8961\n",
      "Epoch 18/100\n",
      "242/242 [==============================] - 0s 560us/step - loss: 0.6201 - val_loss: 0.8998\n",
      "Epoch 19/100\n",
      "242/242 [==============================] - 0s 552us/step - loss: 0.6138 - val_loss: 0.8847\n",
      "Epoch 20/100\n",
      "242/242 [==============================] - 0s 569us/step - loss: 0.6087 - val_loss: 0.8725\n",
      "Epoch 21/100\n",
      "242/242 [==============================] - 0s 552us/step - loss: 0.6045 - val_loss: 0.8746\n",
      "Epoch 22/100\n",
      "242/242 [==============================] - 0s 556us/step - loss: 0.6008 - val_loss: 0.8963\n",
      "Epoch 23/100\n",
      "242/242 [==============================] - 0s 573us/step - loss: 0.5980 - val_loss: 0.8793\n",
      "Epoch 24/100\n",
      "242/242 [==============================] - 0s 531us/step - loss: 0.5952 - val_loss: 0.8970\n",
      "Epoch 25/100\n",
      "242/242 [==============================] - 0s 510us/step - loss: 0.5930 - val_loss: 0.8892\n",
      "Epoch 26/100\n",
      "242/242 [==============================] - 0s 523us/step - loss: 0.5908 - val_loss: 0.8840\n",
      "Epoch 27/100\n",
      "242/242 [==============================] - 0s 519us/step - loss: 0.5888 - val_loss: 0.8843\n",
      "Epoch 28/100\n",
      "242/242 [==============================] - 0s 517us/step - loss: 0.5867 - val_loss: 0.9006\n",
      "Epoch 29/100\n",
      "242/242 [==============================] - 0s 519us/step - loss: 0.5852 - val_loss: 0.8814\n",
      "Epoch 30/100\n",
      "242/242 [==============================] - 0s 523us/step - loss: 0.5834 - val_loss: 0.8666\n",
      "Epoch 31/100\n",
      "242/242 [==============================] - 0s 519us/step - loss: 0.5817 - val_loss: 0.8788\n",
      "Epoch 32/100\n",
      "242/242 [==============================] - 0s 523us/step - loss: 0.5802 - val_loss: 0.8712\n",
      "Epoch 33/100\n",
      "242/242 [==============================] - 0s 527us/step - loss: 0.5787 - val_loss: 0.8707\n",
      "Epoch 34/100\n",
      "242/242 [==============================] - 0s 519us/step - loss: 0.5772 - val_loss: 0.8567\n",
      "Epoch 35/100\n",
      "242/242 [==============================] - 0s 519us/step - loss: 0.5758 - val_loss: 0.8526\n",
      "Epoch 36/100\n",
      "242/242 [==============================] - 0s 527us/step - loss: 0.5744 - val_loss: 0.8562\n",
      "Epoch 37/100\n",
      "242/242 [==============================] - 0s 523us/step - loss: 0.5731 - val_loss: 0.8454\n",
      "Epoch 38/100\n",
      "242/242 [==============================] - 0s 519us/step - loss: 0.5719 - val_loss: 0.8365\n",
      "Epoch 39/100\n",
      "242/242 [==============================] - 0s 527us/step - loss: 0.5705 - val_loss: 0.8520\n",
      "Epoch 40/100\n",
      "242/242 [==============================] - 0s 527us/step - loss: 0.5693 - val_loss: 0.8409\n",
      "Epoch 41/100\n",
      "242/242 [==============================] - 0s 519us/step - loss: 0.5681 - val_loss: 0.8407\n",
      "Epoch 42/100\n",
      "242/242 [==============================] - 0s 523us/step - loss: 0.5669 - val_loss: 0.8526\n",
      "Epoch 43/100\n",
      "242/242 [==============================] - 0s 523us/step - loss: 0.5659 - val_loss: 0.8378\n",
      "Epoch 44/100\n",
      "242/242 [==============================] - 0s 519us/step - loss: 0.5647 - val_loss: 0.8487\n",
      "Epoch 45/100\n",
      "242/242 [==============================] - 0s 531us/step - loss: 0.5637 - val_loss: 0.8432\n",
      "Epoch 46/100\n",
      "242/242 [==============================] - 0s 535us/step - loss: 0.5625 - val_loss: 0.8581\n",
      "Epoch 47/100\n",
      "242/242 [==============================] - 0s 527us/step - loss: 0.5615 - val_loss: 0.8704\n",
      "Epoch 48/100\n",
      "242/242 [==============================] - 0s 540us/step - loss: 0.5607 - val_loss: 0.8599\n",
      "121/121 [==============================] - 0s 333us/step - loss: 0.5603\n",
      "[CV] END learning_rate=0.00036385827571052293, n_hidden=0, n_neurons=25; total time=   6.5s\n",
      "Epoch 1/100\n"
     ]
    },
    {
     "name": "stderr",
     "output_type": "stream",
     "text": [
      "C:\\Users\\anpdi\\anaconda3\\lib\\site-packages\\tensorflow\\python\\keras\\optimizer_v2\\optimizer_v2.py:374: UserWarning: The `lr` argument is deprecated, use `learning_rate` instead.\n",
      "  warnings.warn(\n"
     ]
    },
    {
     "name": "stdout",
     "output_type": "stream",
     "text": [
      "242/242 [==============================] - 0s 843us/step - loss: 4.5824 - val_loss: 7.8128\n",
      "Epoch 2/100\n",
      "242/242 [==============================] - 0s 564us/step - loss: 3.4246 - val_loss: 7.3823\n",
      "Epoch 3/100\n",
      "242/242 [==============================] - 0s 560us/step - loss: 2.6076 - val_loss: 7.2071\n",
      "Epoch 4/100\n",
      "242/242 [==============================] - 0s 519us/step - loss: 2.0308 - val_loss: 7.2121\n",
      "Epoch 5/100\n",
      "242/242 [==============================] - 0s 540us/step - loss: 1.6230 - val_loss: 7.3395\n",
      "Epoch 6/100\n",
      "242/242 [==============================] - 0s 515us/step - loss: 1.3336 - val_loss: 7.5501\n",
      "Epoch 7/100\n",
      "242/242 [==============================] - 0s 527us/step - loss: 1.1279 - val_loss: 7.8180\n",
      "Epoch 8/100\n",
      "242/242 [==============================] - 0s 581us/step - loss: 0.9813 - val_loss: 8.1277\n",
      "Epoch 9/100\n",
      "242/242 [==============================] - 0s 600us/step - loss: 0.8764 - val_loss: 8.4572\n",
      "Epoch 10/100\n",
      "242/242 [==============================] - 0s 606us/step - loss: 0.8009 - val_loss: 8.8035\n",
      "Epoch 11/100\n",
      "242/242 [==============================] - 0s 531us/step - loss: 0.7463 - val_loss: 9.1596\n",
      "Epoch 12/100\n",
      "242/242 [==============================] - 0s 523us/step - loss: 0.7064 - val_loss: 9.5188\n",
      "Epoch 13/100\n",
      "242/242 [==============================] - 0s 531us/step - loss: 0.6770 - val_loss: 9.8773\n",
      "121/121 [==============================] - 0s 325us/step - loss: 0.8889\n",
      "[CV] END learning_rate=0.00036385827571052293, n_hidden=0, n_neurons=25; total time=   2.0s\n",
      "Epoch 1/100\n"
     ]
    },
    {
     "name": "stderr",
     "output_type": "stream",
     "text": [
      "C:\\Users\\anpdi\\anaconda3\\lib\\site-packages\\tensorflow\\python\\keras\\optimizer_v2\\optimizer_v2.py:374: UserWarning: The `lr` argument is deprecated, use `learning_rate` instead.\n",
      "  warnings.warn(\n"
     ]
    },
    {
     "name": "stdout",
     "output_type": "stream",
     "text": [
      "242/242 [==============================] - 0s 774us/step - loss: 7.3223 - val_loss: 35.8407\n",
      "Epoch 2/100\n",
      "242/242 [==============================] - 0s 527us/step - loss: 5.0552 - val_loss: 21.2385\n",
      "Epoch 3/100\n",
      "242/242 [==============================] - 0s 544us/step - loss: 3.6475 - val_loss: 12.6353\n",
      "Epoch 4/100\n",
      "242/242 [==============================] - 0s 552us/step - loss: 2.7390 - val_loss: 7.6275\n",
      "Epoch 5/100\n",
      "242/242 [==============================] - 0s 540us/step - loss: 2.1333 - val_loss: 4.6907\n",
      "Epoch 6/100\n",
      "242/242 [==============================] - 0s 506us/step - loss: 1.7199 - val_loss: 2.9384\n",
      "Epoch 7/100\n",
      "242/242 [==============================] - 0s 515us/step - loss: 1.4322 - val_loss: 1.9425\n",
      "Epoch 8/100\n",
      "242/242 [==============================] - 0s 523us/step - loss: 1.2296 - val_loss: 1.3803\n",
      "Epoch 9/100\n",
      "242/242 [==============================] - 0s 510us/step - loss: 1.0847 - val_loss: 1.0589\n",
      "Epoch 10/100\n",
      "242/242 [==============================] - 0s 519us/step - loss: 0.9804 - val_loss: 0.8992\n",
      "Epoch 11/100\n",
      "242/242 [==============================] - 0s 519us/step - loss: 0.9046 - val_loss: 0.8176\n",
      "Epoch 12/100\n",
      "242/242 [==============================] - 0s 519us/step - loss: 0.8485 - val_loss: 0.7849\n",
      "Epoch 13/100\n",
      "242/242 [==============================] - 0s 515us/step - loss: 0.8068 - val_loss: 0.7785\n",
      "Epoch 14/100\n",
      "242/242 [==============================] - 0s 523us/step - loss: 0.7754 - val_loss: 0.7828\n",
      "Epoch 15/100\n",
      "242/242 [==============================] - 0s 527us/step - loss: 0.7514 - val_loss: 0.7931\n",
      "Epoch 16/100\n",
      "242/242 [==============================] - 0s 531us/step - loss: 0.7327 - val_loss: 0.8093\n",
      "Epoch 17/100\n",
      "242/242 [==============================] - 0s 519us/step - loss: 0.7180 - val_loss: 0.8184\n",
      "Epoch 18/100\n",
      "242/242 [==============================] - 0s 544us/step - loss: 0.7060 - val_loss: 0.8438\n",
      "Epoch 19/100\n",
      "242/242 [==============================] - 0s 535us/step - loss: 0.6961 - val_loss: 0.8713\n",
      "Epoch 20/100\n",
      "242/242 [==============================] - 0s 515us/step - loss: 0.6880 - val_loss: 0.8918\n",
      "Epoch 21/100\n",
      "242/242 [==============================] - 0s 527us/step - loss: 0.6811 - val_loss: 0.8917\n",
      "Epoch 22/100\n",
      "242/242 [==============================] - 0s 515us/step - loss: 0.6748 - val_loss: 0.9135\n",
      "Epoch 23/100\n",
      "242/242 [==============================] - 0s 579us/step - loss: 0.6696 - val_loss: 0.9023\n",
      "121/121 [==============================] - 0s 358us/step - loss: 0.6695\n",
      "[CV] END learning_rate=0.00036385827571052293, n_hidden=0, n_neurons=25; total time=   3.2s\n",
      "Epoch 1/100\n"
     ]
    },
    {
     "name": "stderr",
     "output_type": "stream",
     "text": [
      "C:\\Users\\anpdi\\anaconda3\\lib\\site-packages\\tensorflow\\python\\keras\\optimizer_v2\\optimizer_v2.py:374: UserWarning: The `lr` argument is deprecated, use `learning_rate` instead.\n",
      "  warnings.warn(\n"
     ]
    },
    {
     "name": "stdout",
     "output_type": "stream",
     "text": [
      "242/242 [==============================] - 0s 780us/step - loss: 1.2112 - val_loss: 1531.3798\n",
      "Epoch 2/100\n",
      "242/242 [==============================] - 0s 519us/step - loss: 7.5216 - val_loss: 3128.6584\n",
      "Epoch 3/100\n",
      "242/242 [==============================] - 0s 548us/step - loss: 3.1613 - val_loss: 27620.7012\n",
      "Epoch 4/100\n",
      "242/242 [==============================] - 0s 519us/step - loss: 80.9298 - val_loss: 64231.9609\n",
      "Epoch 5/100\n",
      "242/242 [==============================] - 0s 519us/step - loss: 1591.0215 - val_loss: 187069.7969\n",
      "Epoch 6/100\n",
      "242/242 [==============================] - 0s 506us/step - loss: 133.9301 - val_loss: 511301.4688\n",
      "Epoch 7/100\n",
      "242/242 [==============================] - 0s 519us/step - loss: 29135.4141 - val_loss: 1441811.8750\n",
      "Epoch 8/100\n",
      "242/242 [==============================] - 0s 510us/step - loss: 3374.6270 - val_loss: 4346432.0000\n",
      "Epoch 9/100\n",
      "242/242 [==============================] - 0s 556us/step - loss: 5902.3789 - val_loss: 12742476.0000\n",
      "Epoch 10/100\n",
      "242/242 [==============================] - 0s 552us/step - loss: 105755.6406 - val_loss: 37202780.0000\n",
      "Epoch 11/100\n",
      "242/242 [==============================] - 0s 573us/step - loss: 27645.7012 - val_loss: 115053696.0000\n",
      "121/121 [==============================] - 0s 333us/step - loss: 310072.0312\n",
      "[CV] END learning_rate=0.02407542200360601, n_hidden=0, n_neurons=85; total time=   1.7s\n"
     ]
    },
    {
     "name": "stderr",
     "output_type": "stream",
     "text": [
      "C:\\Users\\anpdi\\anaconda3\\lib\\site-packages\\tensorflow\\python\\keras\\optimizer_v2\\optimizer_v2.py:374: UserWarning: The `lr` argument is deprecated, use `learning_rate` instead.\n",
      "  warnings.warn(\n"
     ]
    },
    {
     "name": "stdout",
     "output_type": "stream",
     "text": [
      "Epoch 1/100\n",
      "242/242 [==============================] - 0s 760us/step - loss: 0.8485 - val_loss: 27.4108\n",
      "Epoch 2/100\n",
      "242/242 [==============================] - 0s 519us/step - loss: 0.5257 - val_loss: 8.8696\n",
      "Epoch 3/100\n",
      "242/242 [==============================] - 0s 531us/step - loss: 0.5143 - val_loss: 8.4015\n",
      "Epoch 4/100\n",
      "242/242 [==============================] - 0s 510us/step - loss: 0.5053 - val_loss: 27.1911\n",
      "Epoch 5/100\n",
      "242/242 [==============================] - 0s 527us/step - loss: 0.5114 - val_loss: 22.3268\n",
      "Epoch 6/100\n",
      "242/242 [==============================] - 0s 515us/step - loss: 0.5117 - val_loss: 8.3784\n",
      "Epoch 7/100\n",
      "242/242 [==============================] - 0s 519us/step - loss: 0.5169 - val_loss: 8.2054\n",
      "Epoch 8/100\n",
      "242/242 [==============================] - 0s 510us/step - loss: 0.5146 - val_loss: 10.9878\n",
      "Epoch 9/100\n",
      "242/242 [==============================] - 0s 506us/step - loss: 0.5152 - val_loss: 10.4827\n",
      "Epoch 10/100\n",
      "242/242 [==============================] - 0s 510us/step - loss: 0.5150 - val_loss: 8.9957\n",
      "Epoch 11/100\n",
      "242/242 [==============================] - 0s 506us/step - loss: 0.5078 - val_loss: 25.0933\n",
      "Epoch 12/100\n",
      "242/242 [==============================] - 0s 515us/step - loss: 0.5133 - val_loss: 20.7892\n",
      "Epoch 13/100\n",
      "242/242 [==============================] - 0s 510us/step - loss: 0.5131 - val_loss: 13.2974\n",
      "Epoch 14/100\n",
      "242/242 [==============================] - 0s 515us/step - loss: 0.5229 - val_loss: 12.7593\n",
      "Epoch 15/100\n",
      "242/242 [==============================] - 0s 510us/step - loss: 0.5105 - val_loss: 19.3235\n",
      "Epoch 16/100\n",
      "242/242 [==============================] - 0s 523us/step - loss: 0.5106 - val_loss: 14.3669\n",
      "Epoch 17/100\n",
      "242/242 [==============================] - 0s 515us/step - loss: 0.5194 - val_loss: 18.0023\n",
      "121/121 [==============================] - 0s 325us/step - loss: 0.9693\n",
      "[CV] END learning_rate=0.02407542200360601, n_hidden=0, n_neurons=85; total time=   2.5s\n",
      "Epoch 1/100\n",
      "  1/242 [..............................] - ETA: 37s - loss: 8.3382"
     ]
    },
    {
     "name": "stderr",
     "output_type": "stream",
     "text": [
      "C:\\Users\\anpdi\\anaconda3\\lib\\site-packages\\tensorflow\\python\\keras\\optimizer_v2\\optimizer_v2.py:374: UserWarning: The `lr` argument is deprecated, use `learning_rate` instead.\n",
      "  warnings.warn(\n"
     ]
    },
    {
     "name": "stdout",
     "output_type": "stream",
     "text": [
      "242/242 [==============================] - 0s 776us/step - loss: 1.6780 - val_loss: 0.5918\n",
      "Epoch 2/100\n",
      "242/242 [==============================] - 0s 506us/step - loss: 1.4162 - val_loss: 34.8864\n",
      "Epoch 3/100\n",
      "242/242 [==============================] - 0s 510us/step - loss: 0.6478 - val_loss: 0.7278\n",
      "Epoch 4/100\n",
      "242/242 [==============================] - 0s 535us/step - loss: 0.9066 - val_loss: 386.1079\n",
      "Epoch 5/100\n",
      "242/242 [==============================] - 0s 573us/step - loss: 2.3438 - val_loss: 94.8444\n",
      "Epoch 6/100\n",
      "242/242 [==============================] - 0s 535us/step - loss: 8.1052 - val_loss: 8.6551\n",
      "Epoch 7/100\n",
      "242/242 [==============================] - 0s 510us/step - loss: 0.6965 - val_loss: 0.9327\n",
      "Epoch 8/100\n",
      "242/242 [==============================] - 0s 519us/step - loss: 1.0099 - val_loss: 17.7424\n",
      "Epoch 9/100\n",
      "242/242 [==============================] - 0s 519us/step - loss: 0.5729 - val_loss: 2.7169\n",
      "Epoch 10/100\n",
      "242/242 [==============================] - 0s 510us/step - loss: 0.9662 - val_loss: 1.3491\n",
      "Epoch 11/100\n",
      "242/242 [==============================] - 0s 506us/step - loss: 1.1442 - val_loss: 617.9660\n",
      "121/121 [==============================] - 0s 308us/step - loss: 1.6253\n",
      "[CV] END learning_rate=0.02407542200360601, n_hidden=0, n_neurons=85; total time=   1.6s\n",
      "Epoch 1/100\n"
     ]
    },
    {
     "name": "stderr",
     "output_type": "stream",
     "text": [
      "C:\\Users\\anpdi\\anaconda3\\lib\\site-packages\\tensorflow\\python\\keras\\optimizer_v2\\optimizer_v2.py:374: UserWarning: The `lr` argument is deprecated, use `learning_rate` instead.\n",
      "  warnings.warn(\n"
     ]
    },
    {
     "name": "stdout",
     "output_type": "stream",
     "text": [
      "242/242 [==============================] - 0s 813us/step - loss: 2.9828 - val_loss: 1.7659\n",
      "Epoch 2/100\n",
      "242/242 [==============================] - 0s 544us/step - loss: 0.8831 - val_loss: 0.8154\n",
      "Epoch 3/100\n",
      "242/242 [==============================] - 0s 569us/step - loss: 0.6757 - val_loss: 0.6184\n",
      "Epoch 4/100\n",
      "242/242 [==============================] - 0s 564us/step - loss: 0.6313 - val_loss: 0.6621\n",
      "Epoch 5/100\n",
      "242/242 [==============================] - 0s 560us/step - loss: 0.6033 - val_loss: 0.5560\n",
      "Epoch 6/100\n",
      "242/242 [==============================] - 0s 560us/step - loss: 0.5829 - val_loss: 0.5591\n",
      "Epoch 7/100\n",
      "242/242 [==============================] - 0s 560us/step - loss: 0.5651 - val_loss: 0.5410\n",
      "Epoch 8/100\n",
      "242/242 [==============================] - 0s 573us/step - loss: 0.5489 - val_loss: 0.5138\n",
      "Epoch 9/100\n",
      "242/242 [==============================] - 0s 573us/step - loss: 0.5362 - val_loss: 0.4976\n",
      "Epoch 10/100\n",
      "242/242 [==============================] - 0s 581us/step - loss: 0.5235 - val_loss: 0.4864\n",
      "Epoch 11/100\n",
      "242/242 [==============================] - 0s 581us/step - loss: 0.5128 - val_loss: 0.4916\n",
      "Epoch 12/100\n",
      "242/242 [==============================] - 0s 569us/step - loss: 0.5023 - val_loss: 0.4960\n",
      "Epoch 13/100\n",
      "242/242 [==============================] - 0s 574us/step - loss: 0.4929 - val_loss: 0.4599\n",
      "Epoch 14/100\n",
      "242/242 [==============================] - 0s 564us/step - loss: 0.4857 - val_loss: 0.4801\n",
      "Epoch 15/100\n",
      "242/242 [==============================] - 0s 560us/step - loss: 0.4778 - val_loss: 0.4560\n",
      "Epoch 16/100\n",
      "242/242 [==============================] - 0s 552us/step - loss: 0.4712 - val_loss: 0.4708\n",
      "Epoch 17/100\n",
      "242/242 [==============================] - 0s 556us/step - loss: 0.4649 - val_loss: 0.4332\n",
      "Epoch 18/100\n",
      "242/242 [==============================] - 0s 560us/step - loss: 0.4598 - val_loss: 0.4606\n",
      "Epoch 19/100\n",
      "242/242 [==============================] - 0s 552us/step - loss: 0.4544 - val_loss: 0.4300\n",
      "Epoch 20/100\n",
      "242/242 [==============================] - 0s 556us/step - loss: 0.4496 - val_loss: 0.4218\n",
      "Epoch 21/100\n",
      "242/242 [==============================] - 0s 556us/step - loss: 0.4456 - val_loss: 0.4273\n",
      "Epoch 22/100\n",
      "242/242 [==============================] - 0s 556us/step - loss: 0.4413 - val_loss: 0.4340\n",
      "Epoch 23/100\n",
      "242/242 [==============================] - 0s 560us/step - loss: 0.4376 - val_loss: 0.4219\n",
      "Epoch 24/100\n",
      "242/242 [==============================] - 0s 552us/step - loss: 0.4339 - val_loss: 0.4246\n",
      "Epoch 25/100\n",
      "242/242 [==============================] - 0s 564us/step - loss: 0.4309 - val_loss: 0.4225\n",
      "Epoch 26/100\n",
      "242/242 [==============================] - 0s 560us/step - loss: 0.4279 - val_loss: 0.4236\n",
      "Epoch 27/100\n",
      "242/242 [==============================] - 0s 552us/step - loss: 0.4249 - val_loss: 0.4215\n",
      "Epoch 28/100\n",
      "242/242 [==============================] - 0s 552us/step - loss: 0.4221 - val_loss: 0.4054\n",
      "Epoch 29/100\n",
      "242/242 [==============================] - 0s 564us/step - loss: 0.4196 - val_loss: 0.4060\n",
      "Epoch 30/100\n",
      "242/242 [==============================] - 0s 552us/step - loss: 0.4170 - val_loss: 0.4163\n",
      "Epoch 31/100\n",
      "242/242 [==============================] - 0s 548us/step - loss: 0.4151 - val_loss: 0.4228\n",
      "Epoch 32/100\n",
      "242/242 [==============================] - 0s 540us/step - loss: 0.4125 - val_loss: 0.4153\n",
      "Epoch 33/100\n",
      "242/242 [==============================] - 0s 560us/step - loss: 0.4107 - val_loss: 0.4247\n",
      "Epoch 34/100\n",
      "242/242 [==============================] - 0s 560us/step - loss: 0.4087 - val_loss: 0.3903\n",
      "Epoch 35/100\n",
      "242/242 [==============================] - 0s 552us/step - loss: 0.4067 - val_loss: 0.4051\n",
      "Epoch 36/100\n",
      "242/242 [==============================] - 0s 556us/step - loss: 0.4046 - val_loss: 0.4132\n",
      "Epoch 37/100\n",
      "242/242 [==============================] - 0s 544us/step - loss: 0.4030 - val_loss: 0.3996\n",
      "Epoch 38/100\n",
      "242/242 [==============================] - 0s 552us/step - loss: 0.4012 - val_loss: 0.4032\n",
      "Epoch 39/100\n",
      "242/242 [==============================] - 0s 548us/step - loss: 0.3995 - val_loss: 0.4138\n",
      "Epoch 40/100\n",
      "242/242 [==============================] - 0s 589us/step - loss: 0.3982 - val_loss: 0.3836\n",
      "Epoch 41/100\n",
      "242/242 [==============================] - 0s 598us/step - loss: 0.3964 - val_loss: 0.4014\n",
      "Epoch 42/100\n",
      "242/242 [==============================] - 0s 560us/step - loss: 0.3950 - val_loss: 0.3840\n",
      "Epoch 43/100\n",
      "242/242 [==============================] - 0s 552us/step - loss: 0.3937 - val_loss: 0.3946\n",
      "Epoch 44/100\n",
      "242/242 [==============================] - 0s 560us/step - loss: 0.3924 - val_loss: 0.3816\n",
      "Epoch 45/100\n",
      "242/242 [==============================] - 0s 556us/step - loss: 0.3911 - val_loss: 0.3825\n",
      "Epoch 46/100\n",
      "242/242 [==============================] - 0s 556us/step - loss: 0.3899 - val_loss: 0.3776\n",
      "Epoch 47/100\n",
      "242/242 [==============================] - 0s 577us/step - loss: 0.3887 - val_loss: 0.3781\n",
      "Epoch 48/100\n",
      "242/242 [==============================] - 0s 577us/step - loss: 0.3875 - val_loss: 0.3727\n",
      "Epoch 49/100\n",
      "242/242 [==============================] - 0s 548us/step - loss: 0.3865 - val_loss: 0.3832\n",
      "Epoch 50/100\n",
      "242/242 [==============================] - 0s 552us/step - loss: 0.3854 - val_loss: 0.4040\n",
      "Epoch 51/100\n",
      "242/242 [==============================] - 0s 556us/step - loss: 0.3845 - val_loss: 0.4052\n",
      "Epoch 52/100\n",
      "242/242 [==============================] - 0s 548us/step - loss: 0.3835 - val_loss: 0.3966\n",
      "Epoch 53/100\n",
      "242/242 [==============================] - 0s 552us/step - loss: 0.3826 - val_loss: 0.3807\n",
      "Epoch 54/100\n",
      "242/242 [==============================] - 0s 566us/step - loss: 0.3816 - val_loss: 0.3974\n",
      "Epoch 55/100\n",
      "242/242 [==============================] - 0s 589us/step - loss: 0.3809 - val_loss: 0.3678\n",
      "Epoch 56/100\n",
      "242/242 [==============================] - 0s 573us/step - loss: 0.3800 - val_loss: 0.3709\n",
      "Epoch 57/100\n",
      "242/242 [==============================] - 0s 573us/step - loss: 0.3791 - val_loss: 0.4046\n",
      "Epoch 58/100\n",
      "242/242 [==============================] - 0s 564us/step - loss: 0.3784 - val_loss: 0.3976\n",
      "Epoch 59/100\n",
      "242/242 [==============================] - 0s 560us/step - loss: 0.3775 - val_loss: 0.3964\n",
      "Epoch 60/100\n",
      "242/242 [==============================] - 0s 556us/step - loss: 0.3769 - val_loss: 0.3734\n",
      "Epoch 61/100\n",
      "242/242 [==============================] - 0s 564us/step - loss: 0.3761 - val_loss: 0.3985\n",
      "Epoch 62/100\n",
      "242/242 [==============================] - 0s 564us/step - loss: 0.3755 - val_loss: 0.3900\n",
      "Epoch 63/100\n",
      "242/242 [==============================] - 0s 569us/step - loss: 0.3748 - val_loss: 0.3595\n",
      "Epoch 64/100\n",
      "242/242 [==============================] - 0s 569us/step - loss: 0.3741 - val_loss: 0.3820\n",
      "Epoch 65/100\n",
      "242/242 [==============================] - 0s 560us/step - loss: 0.3733 - val_loss: 0.3956\n",
      "Epoch 66/100\n",
      "242/242 [==============================] - 0s 564us/step - loss: 0.3727 - val_loss: 0.3919\n",
      "Epoch 67/100\n",
      "242/242 [==============================] - 0s 552us/step - loss: 0.3720 - val_loss: 0.3920\n",
      "Epoch 68/100\n",
      "242/242 [==============================] - 0s 552us/step - loss: 0.3717 - val_loss: 0.3670\n",
      "Epoch 69/100\n",
      "242/242 [==============================] - 0s 560us/step - loss: 0.3708 - val_loss: 0.3929\n",
      "Epoch 70/100\n",
      "242/242 [==============================] - 0s 560us/step - loss: 0.3703 - val_loss: 0.3767\n",
      "Epoch 71/100\n",
      "242/242 [==============================] - 0s 564us/step - loss: 0.3695 - val_loss: 0.3737\n",
      "Epoch 72/100\n",
      "242/242 [==============================] - 0s 560us/step - loss: 0.3690 - val_loss: 0.3573\n",
      "Epoch 73/100\n",
      "242/242 [==============================] - 0s 556us/step - loss: 0.3684 - val_loss: 0.4012\n",
      "Epoch 74/100\n",
      "242/242 [==============================] - 0s 556us/step - loss: 0.3680 - val_loss: 0.3654\n",
      "Epoch 75/100\n",
      "242/242 [==============================] - 0s 552us/step - loss: 0.3674 - val_loss: 0.3753\n",
      "Epoch 76/100\n",
      "242/242 [==============================] - 0s 548us/step - loss: 0.3666 - val_loss: 0.3898\n",
      "Epoch 77/100\n",
      "242/242 [==============================] - 0s 556us/step - loss: 0.3666 - val_loss: 0.3537\n",
      "Epoch 78/100\n",
      "242/242 [==============================] - 0s 552us/step - loss: 0.3657 - val_loss: 0.3599\n",
      "Epoch 79/100\n",
      "242/242 [==============================] - 0s 560us/step - loss: 0.3654 - val_loss: 0.3851\n"
     ]
    },
    {
     "name": "stdout",
     "output_type": "stream",
     "text": [
      "Epoch 80/100\n",
      "242/242 [==============================] - 0s 564us/step - loss: 0.3649 - val_loss: 0.3883\n",
      "Epoch 81/100\n",
      "242/242 [==============================] - 0s 560us/step - loss: 0.3645 - val_loss: 0.3493\n",
      "Epoch 82/100\n",
      "242/242 [==============================] - 0s 556us/step - loss: 0.3639 - val_loss: 0.3635\n",
      "Epoch 83/100\n",
      "242/242 [==============================] - 0s 556us/step - loss: 0.3634 - val_loss: 0.3596\n",
      "Epoch 84/100\n",
      "242/242 [==============================] - 0s 552us/step - loss: 0.3631 - val_loss: 0.3537\n",
      "Epoch 85/100\n",
      "242/242 [==============================] - 0s 564us/step - loss: 0.3625 - val_loss: 0.3836\n",
      "Epoch 86/100\n",
      "242/242 [==============================] - 0s 556us/step - loss: 0.3622 - val_loss: 0.3774\n",
      "Epoch 87/100\n",
      "242/242 [==============================] - 0s 556us/step - loss: 0.3617 - val_loss: 0.3842\n",
      "Epoch 88/100\n",
      "242/242 [==============================] - 0s 556us/step - loss: 0.3614 - val_loss: 0.3779\n",
      "Epoch 89/100\n",
      "242/242 [==============================] - 0s 564us/step - loss: 0.3609 - val_loss: 0.3535\n",
      "Epoch 90/100\n",
      "242/242 [==============================] - 0s 564us/step - loss: 0.3605 - val_loss: 0.3533\n",
      "Epoch 91/100\n",
      "242/242 [==============================] - 0s 560us/step - loss: 0.3600 - val_loss: 0.3542\n",
      "121/121 [==============================] - 0s 325us/step - loss: 0.3735\n",
      "[CV] END learning_rate=0.0010080809905466269, n_hidden=1, n_neurons=75; total time=  12.7s\n",
      "Epoch 1/100\n"
     ]
    },
    {
     "name": "stderr",
     "output_type": "stream",
     "text": [
      "C:\\Users\\anpdi\\anaconda3\\lib\\site-packages\\tensorflow\\python\\keras\\optimizer_v2\\optimizer_v2.py:374: UserWarning: The `lr` argument is deprecated, use `learning_rate` instead.\n",
      "  warnings.warn(\n"
     ]
    },
    {
     "name": "stdout",
     "output_type": "stream",
     "text": [
      "242/242 [==============================] - 0s 830us/step - loss: 2.4582 - val_loss: 1.6594\n",
      "Epoch 2/100\n",
      "242/242 [==============================] - 0s 560us/step - loss: 0.8291 - val_loss: 1.1376\n",
      "Epoch 3/100\n",
      "242/242 [==============================] - 0s 564us/step - loss: 0.7120 - val_loss: 0.7346\n",
      "Epoch 4/100\n",
      "242/242 [==============================] - 0s 560us/step - loss: 0.6713 - val_loss: 0.6322\n",
      "Epoch 5/100\n",
      "242/242 [==============================] - 0s 560us/step - loss: 0.6417 - val_loss: 0.7002\n",
      "Epoch 6/100\n",
      "242/242 [==============================] - 0s 573us/step - loss: 0.6162 - val_loss: 0.8676\n",
      "Epoch 7/100\n",
      "242/242 [==============================] - 0s 564us/step - loss: 0.5936 - val_loss: 1.0700\n",
      "Epoch 8/100\n",
      "242/242 [==============================] - 0s 569us/step - loss: 0.5733 - val_loss: 1.3031\n",
      "Epoch 9/100\n",
      "242/242 [==============================] - 0s 556us/step - loss: 0.5552 - val_loss: 1.4809\n",
      "Epoch 10/100\n",
      "242/242 [==============================] - 0s 556us/step - loss: 0.5392 - val_loss: 1.7282\n",
      "Epoch 11/100\n",
      "242/242 [==============================] - 0s 556us/step - loss: 0.5246 - val_loss: 1.8396\n",
      "Epoch 12/100\n",
      "242/242 [==============================] - 0s 564us/step - loss: 0.5120 - val_loss: 2.0178\n",
      "Epoch 13/100\n",
      "242/242 [==============================] - 0s 560us/step - loss: 0.5005 - val_loss: 2.1320\n",
      "Epoch 14/100\n",
      "242/242 [==============================] - 0s 564us/step - loss: 0.4902 - val_loss: 2.2284\n",
      "121/121 [==============================] - 0s 342us/step - loss: 0.5354\n",
      "[CV] END learning_rate=0.0010080809905466269, n_hidden=1, n_neurons=75; total time=   2.2s\n",
      "Epoch 1/100\n"
     ]
    },
    {
     "name": "stderr",
     "output_type": "stream",
     "text": [
      "C:\\Users\\anpdi\\anaconda3\\lib\\site-packages\\tensorflow\\python\\keras\\optimizer_v2\\optimizer_v2.py:374: UserWarning: The `lr` argument is deprecated, use `learning_rate` instead.\n",
      "  warnings.warn(\n"
     ]
    },
    {
     "name": "stdout",
     "output_type": "stream",
     "text": [
      "242/242 [==============================] - 0s 818us/step - loss: 2.5187 - val_loss: 9.2668\n",
      "Epoch 2/100\n",
      "242/242 [==============================] - 0s 552us/step - loss: 1.0909 - val_loss: 0.8745\n",
      "Epoch 3/100\n",
      "242/242 [==============================] - 0s 552us/step - loss: 0.7770 - val_loss: 0.7840\n",
      "Epoch 4/100\n",
      "242/242 [==============================] - 0s 560us/step - loss: 0.7058 - val_loss: 0.6732\n",
      "Epoch 5/100\n",
      "242/242 [==============================] - 0s 564us/step - loss: 0.6671 - val_loss: 0.6325\n",
      "Epoch 6/100\n",
      "242/242 [==============================] - 0s 556us/step - loss: 0.6389 - val_loss: 0.6062\n",
      "Epoch 7/100\n",
      "242/242 [==============================] - 0s 560us/step - loss: 0.6154 - val_loss: 0.6010\n",
      "Epoch 8/100\n",
      "242/242 [==============================] - 0s 552us/step - loss: 0.5945 - val_loss: 0.5641\n",
      "Epoch 9/100\n",
      "242/242 [==============================] - 0s 560us/step - loss: 0.5769 - val_loss: 0.5501\n",
      "Epoch 10/100\n",
      "242/242 [==============================] - 0s 560us/step - loss: 0.5599 - val_loss: 0.5330\n",
      "Epoch 11/100\n",
      "242/242 [==============================] - 0s 564us/step - loss: 0.5460 - val_loss: 0.5298\n",
      "Epoch 12/100\n",
      "242/242 [==============================] - 0s 560us/step - loss: 0.5326 - val_loss: 0.5429\n",
      "Epoch 13/100\n",
      "242/242 [==============================] - 0s 560us/step - loss: 0.5210 - val_loss: 0.4966\n",
      "Epoch 14/100\n",
      "242/242 [==============================] - 0s 573us/step - loss: 0.5109 - val_loss: 0.4999\n",
      "Epoch 15/100\n",
      "242/242 [==============================] - 0s 569us/step - loss: 0.5013 - val_loss: 0.4778\n",
      "Epoch 16/100\n",
      "242/242 [==============================] - 0s 623us/step - loss: 0.4927 - val_loss: 0.4664\n",
      "Epoch 17/100\n",
      "242/242 [==============================] - 0s 569us/step - loss: 0.4850 - val_loss: 0.4533\n",
      "Epoch 18/100\n",
      "242/242 [==============================] - 0s 631us/step - loss: 0.4781 - val_loss: 0.4612\n",
      "Epoch 19/100\n",
      "242/242 [==============================] - 0s 643us/step - loss: 0.4722 - val_loss: 0.4427\n",
      "Epoch 20/100\n",
      "242/242 [==============================] - 0s 581us/step - loss: 0.4668 - val_loss: 0.4353\n",
      "Epoch 21/100\n",
      "242/242 [==============================] - 0s 623us/step - loss: 0.4617 - val_loss: 0.4526\n",
      "Epoch 22/100\n",
      "242/242 [==============================] - 0s 556us/step - loss: 0.4569 - val_loss: 0.4391\n",
      "Epoch 23/100\n",
      "242/242 [==============================] - 0s 560us/step - loss: 0.4529 - val_loss: 0.4303\n",
      "Epoch 24/100\n",
      "242/242 [==============================] - 0s 602us/step - loss: 0.4490 - val_loss: 0.4286\n",
      "Epoch 25/100\n",
      "242/242 [==============================] - 0s 602us/step - loss: 0.4455 - val_loss: 0.4147\n",
      "Epoch 26/100\n",
      "242/242 [==============================] - 0s 552us/step - loss: 0.4423 - val_loss: 0.4298\n",
      "Epoch 27/100\n",
      "242/242 [==============================] - 0s 596us/step - loss: 0.4393 - val_loss: 0.4268\n",
      "Epoch 28/100\n",
      "242/242 [==============================] - 0s 602us/step - loss: 0.4367 - val_loss: 0.4210\n",
      "Epoch 29/100\n",
      "242/242 [==============================] - 0s 610us/step - loss: 0.4342 - val_loss: 0.4043\n",
      "Epoch 30/100\n",
      "242/242 [==============================] - 0s 602us/step - loss: 0.4319 - val_loss: 0.4207\n",
      "Epoch 31/100\n",
      "242/242 [==============================] - 0s 573us/step - loss: 0.4296 - val_loss: 0.4181\n",
      "Epoch 32/100\n",
      "242/242 [==============================] - 0s 564us/step - loss: 0.4275 - val_loss: 0.4158\n",
      "Epoch 33/100\n",
      "242/242 [==============================] - 0s 573us/step - loss: 0.4254 - val_loss: 0.4396\n",
      "Epoch 34/100\n",
      "242/242 [==============================] - 0s 564us/step - loss: 0.4240 - val_loss: 0.3981\n",
      "Epoch 35/100\n",
      "242/242 [==============================] - 0s 564us/step - loss: 0.4221 - val_loss: 0.4043\n",
      "Epoch 36/100\n",
      "242/242 [==============================] - 0s 564us/step - loss: 0.4204 - val_loss: 0.4175\n",
      "Epoch 37/100\n",
      "242/242 [==============================] - 0s 564us/step - loss: 0.4189 - val_loss: 0.3895\n",
      "Epoch 38/100\n",
      "242/242 [==============================] - 0s 569us/step - loss: 0.4175 - val_loss: 0.4047\n",
      "Epoch 39/100\n",
      "242/242 [==============================] - 0s 569us/step - loss: 0.4160 - val_loss: 0.3956\n",
      "Epoch 40/100\n",
      "242/242 [==============================] - 0s 562us/step - loss: 0.4148 - val_loss: 0.3915\n",
      "Epoch 41/100\n",
      "242/242 [==============================] - 0s 564us/step - loss: 0.4134 - val_loss: 0.3878\n",
      "Epoch 42/100\n",
      "242/242 [==============================] - 0s 556us/step - loss: 0.4119 - val_loss: 0.4088\n",
      "Epoch 43/100\n",
      "242/242 [==============================] - 0s 569us/step - loss: 0.4110 - val_loss: 0.3940\n",
      "Epoch 44/100\n",
      "242/242 [==============================] - 0s 552us/step - loss: 0.4099 - val_loss: 0.3805\n",
      "Epoch 45/100\n",
      "242/242 [==============================] - 0s 560us/step - loss: 0.4083 - val_loss: 0.4412\n",
      "Epoch 46/100\n",
      "242/242 [==============================] - 0s 560us/step - loss: 0.4079 - val_loss: 0.3776\n",
      "Epoch 47/100\n",
      "242/242 [==============================] - 0s 560us/step - loss: 0.4062 - val_loss: 0.4323\n",
      "Epoch 48/100\n",
      "242/242 [==============================] - 0s 564us/step - loss: 0.4056 - val_loss: 0.4183\n",
      "Epoch 49/100\n",
      "242/242 [==============================] - 0s 560us/step - loss: 0.4046 - val_loss: 0.4137\n",
      "Epoch 50/100\n",
      "242/242 [==============================] - 0s 560us/step - loss: 0.4036 - val_loss: 0.3741\n",
      "Epoch 51/100\n",
      "242/242 [==============================] - 0s 560us/step - loss: 0.4025 - val_loss: 0.3804\n",
      "Epoch 52/100\n",
      "242/242 [==============================] - 0s 564us/step - loss: 0.4012 - val_loss: 0.4288\n",
      "Epoch 53/100\n",
      "242/242 [==============================] - 0s 556us/step - loss: 0.4011 - val_loss: 0.3755\n",
      "Epoch 54/100\n",
      "242/242 [==============================] - 0s 556us/step - loss: 0.3997 - val_loss: 0.3949\n",
      "Epoch 55/100\n",
      "242/242 [==============================] - 0s 560us/step - loss: 0.3993 - val_loss: 0.3821\n",
      "Epoch 56/100\n",
      "242/242 [==============================] - 0s 560us/step - loss: 0.3982 - val_loss: 0.3983\n",
      "Epoch 57/100\n",
      "242/242 [==============================] - 0s 564us/step - loss: 0.3975 - val_loss: 0.3843\n",
      "Epoch 58/100\n",
      "242/242 [==============================] - 0s 556us/step - loss: 0.3968 - val_loss: 0.3815\n",
      "Epoch 59/100\n",
      "242/242 [==============================] - 0s 560us/step - loss: 0.3956 - val_loss: 0.4054\n",
      "Epoch 60/100\n",
      "242/242 [==============================] - 0s 554us/step - loss: 0.3954 - val_loss: 0.3834\n",
      "121/121 [==============================] - 0s 325us/step - loss: 0.3934\n",
      "[CV] END learning_rate=0.0010080809905466269, n_hidden=1, n_neurons=75; total time=   8.6s\n",
      "Epoch 1/100\n"
     ]
    },
    {
     "name": "stderr",
     "output_type": "stream",
     "text": [
      "C:\\Users\\anpdi\\anaconda3\\lib\\site-packages\\tensorflow\\python\\keras\\optimizer_v2\\optimizer_v2.py:374: UserWarning: The `lr` argument is deprecated, use `learning_rate` instead.\n",
      "  warnings.warn(\n"
     ]
    },
    {
     "name": "stdout",
     "output_type": "stream",
     "text": [
      "242/242 [==============================] - 1s 847us/step - loss: 1.1671 - val_loss: 4.6712\n",
      "Epoch 2/100\n",
      "242/242 [==============================] - 0s 564us/step - loss: 0.7388 - val_loss: 23.7102\n",
      "Epoch 3/100\n",
      "242/242 [==============================] - 0s 560us/step - loss: 0.6984 - val_loss: 4.7314\n",
      "Epoch 4/100\n",
      "242/242 [==============================] - 0s 556us/step - loss: 0.5346 - val_loss: 0.5076\n",
      "Epoch 5/100\n",
      "242/242 [==============================] - 0s 560us/step - loss: 0.4520 - val_loss: 0.4572\n",
      "Epoch 6/100\n",
      "242/242 [==============================] - 0s 561us/step - loss: 0.4374 - val_loss: 0.4145\n",
      "Epoch 7/100\n",
      "242/242 [==============================] - 0s 569us/step - loss: 0.4271 - val_loss: 0.3980\n",
      "Epoch 8/100\n",
      "242/242 [==============================] - 0s 564us/step - loss: 0.4189 - val_loss: 0.3877\n",
      "Epoch 9/100\n",
      "242/242 [==============================] - 0s 569us/step - loss: 0.4124 - val_loss: 0.3833\n",
      "Epoch 10/100\n",
      "242/242 [==============================] - 0s 548us/step - loss: 0.4071 - val_loss: 0.3775\n",
      "Epoch 11/100\n",
      "242/242 [==============================] - 0s 560us/step - loss: 0.4026 - val_loss: 0.3813\n",
      "Epoch 12/100\n",
      "242/242 [==============================] - 0s 548us/step - loss: 0.3992 - val_loss: 0.3824\n",
      "Epoch 13/100\n",
      "242/242 [==============================] - 0s 544us/step - loss: 0.3949 - val_loss: 0.3786\n",
      "Epoch 14/100\n",
      "242/242 [==============================] - 0s 550us/step - loss: 0.3913 - val_loss: 0.3939\n",
      "Epoch 15/100\n",
      "242/242 [==============================] - 0s 569us/step - loss: 0.3882 - val_loss: 0.3888\n",
      "Epoch 16/100\n",
      "242/242 [==============================] - 0s 602us/step - loss: 0.3849 - val_loss: 0.3950\n",
      "Epoch 17/100\n",
      "242/242 [==============================] - 0s 643us/step - loss: 0.3828 - val_loss: 0.3833\n",
      "Epoch 18/100\n",
      "242/242 [==============================] - 0s 610us/step - loss: 0.3803 - val_loss: 0.3908\n",
      "Epoch 19/100\n",
      "242/242 [==============================] - 0s 623us/step - loss: 0.3788 - val_loss: 0.3834\n",
      "Epoch 20/100\n",
      "242/242 [==============================] - 0s 664us/step - loss: 0.3774 - val_loss: 0.3826\n",
      "121/121 [==============================] - 0s 317us/step - loss: 0.3920\n",
      "[CV] END learning_rate=0.005066194105744595, n_hidden=1, n_neurons=40; total time=   3.2s\n",
      "Epoch 1/100\n"
     ]
    },
    {
     "name": "stderr",
     "output_type": "stream",
     "text": [
      "C:\\Users\\anpdi\\anaconda3\\lib\\site-packages\\tensorflow\\python\\keras\\optimizer_v2\\optimizer_v2.py:374: UserWarning: The `lr` argument is deprecated, use `learning_rate` instead.\n",
      "  warnings.warn(\n"
     ]
    },
    {
     "name": "stdout",
     "output_type": "stream",
     "text": [
      "242/242 [==============================] - 0s 901us/step - loss: 1.0707 - val_loss: 1.8013\n",
      "Epoch 2/100\n",
      "242/242 [==============================] - 0s 535us/step - loss: 0.5732 - val_loss: 0.6113\n",
      "Epoch 3/100\n",
      "242/242 [==============================] - 0s 515us/step - loss: 0.5000 - val_loss: 0.4529\n",
      "Epoch 4/100\n",
      "242/242 [==============================] - 0s 531us/step - loss: 0.4603 - val_loss: 0.4856\n",
      "Epoch 5/100\n",
      "242/242 [==============================] - 0s 529us/step - loss: 0.4393 - val_loss: 0.4820\n",
      "Epoch 6/100\n",
      "242/242 [==============================] - 0s 544us/step - loss: 0.4240 - val_loss: 0.4362\n",
      "Epoch 7/100\n",
      "242/242 [==============================] - 0s 564us/step - loss: 0.4158 - val_loss: 0.4030\n",
      "Epoch 8/100\n",
      "242/242 [==============================] - 0s 556us/step - loss: 0.4091 - val_loss: 0.3819\n",
      "Epoch 9/100\n",
      "242/242 [==============================] - 0s 544us/step - loss: 0.4038 - val_loss: 0.3835\n",
      "Epoch 10/100\n",
      "242/242 [==============================] - 0s 519us/step - loss: 0.3993 - val_loss: 0.4010\n",
      "Epoch 11/100\n",
      "242/242 [==============================] - 0s 548us/step - loss: 0.3950 - val_loss: 0.4324\n",
      "Epoch 12/100\n",
      "242/242 [==============================] - 0s 523us/step - loss: 0.3918 - val_loss: 0.5092\n",
      "Epoch 13/100\n",
      "242/242 [==============================] - 0s 519us/step - loss: 0.3894 - val_loss: 0.5697\n",
      "Epoch 14/100\n",
      "242/242 [==============================] - 0s 535us/step - loss: 0.3857 - val_loss: 0.6202\n",
      "Epoch 15/100\n",
      "242/242 [==============================] - 0s 544us/step - loss: 0.3839 - val_loss: 0.6973\n",
      "Epoch 16/100\n",
      "242/242 [==============================] - 0s 556us/step - loss: 0.3809 - val_loss: 0.7634\n",
      "Epoch 17/100\n",
      "242/242 [==============================] - 0s 510us/step - loss: 0.3789 - val_loss: 0.7942\n",
      "Epoch 18/100\n",
      "242/242 [==============================] - 0s 519us/step - loss: 0.3755 - val_loss: 0.8847\n",
      "121/121 [==============================] - 0s 317us/step - loss: 0.3994\n",
      "[CV] END learning_rate=0.005066194105744595, n_hidden=1, n_neurons=40; total time=   2.6s\n",
      "Epoch 1/100\n"
     ]
    },
    {
     "name": "stderr",
     "output_type": "stream",
     "text": [
      "C:\\Users\\anpdi\\anaconda3\\lib\\site-packages\\tensorflow\\python\\keras\\optimizer_v2\\optimizer_v2.py:374: UserWarning: The `lr` argument is deprecated, use `learning_rate` instead.\n",
      "  warnings.warn(\n"
     ]
    },
    {
     "name": "stdout",
     "output_type": "stream",
     "text": [
      "242/242 [==============================] - 0s 863us/step - loss: 1.2144 - val_loss: 15.1987\n",
      "Epoch 2/100\n",
      "242/242 [==============================] - 0s 569us/step - loss: 0.7584 - val_loss: 23.4356\n",
      "Epoch 3/100\n",
      "242/242 [==============================] - 0s 535us/step - loss: 0.8264 - val_loss: 2.8614\n",
      "Epoch 4/100\n",
      "242/242 [==============================] - 0s 510us/step - loss: 0.5505 - val_loss: 0.5135\n",
      "Epoch 5/100\n",
      "242/242 [==============================] - 0s 548us/step - loss: 0.4751 - val_loss: 0.4330\n",
      "Epoch 6/100\n",
      "242/242 [==============================] - 0s 544us/step - loss: 0.4486 - val_loss: 0.4005\n",
      "Epoch 7/100\n",
      "242/242 [==============================] - 0s 536us/step - loss: 0.4352 - val_loss: 0.4118\n",
      "Epoch 8/100\n",
      "242/242 [==============================] - 0s 523us/step - loss: 0.4278 - val_loss: 0.3928\n",
      "Epoch 9/100\n",
      "242/242 [==============================] - 0s 540us/step - loss: 0.4171 - val_loss: 0.3927\n",
      "Epoch 10/100\n",
      "242/242 [==============================] - 0s 577us/step - loss: 0.4169 - val_loss: 0.3983\n",
      "Epoch 11/100\n",
      "242/242 [==============================] - 0s 548us/step - loss: 0.4117 - val_loss: 0.3939\n",
      "Epoch 12/100\n",
      "242/242 [==============================] - 0s 573us/step - loss: 0.4022 - val_loss: 0.3959\n",
      "Epoch 13/100\n",
      "242/242 [==============================] - 0s 560us/step - loss: 0.4001 - val_loss: 0.3955\n",
      "Epoch 14/100\n",
      "242/242 [==============================] - 0s 527us/step - loss: 0.4029 - val_loss: 0.3943\n",
      "Epoch 15/100\n",
      "242/242 [==============================] - 0s 527us/step - loss: 0.3931 - val_loss: 0.3921\n",
      "Epoch 16/100\n",
      "242/242 [==============================] - 0s 544us/step - loss: 0.3931 - val_loss: 0.3915\n",
      "Epoch 17/100\n",
      "242/242 [==============================] - 0s 531us/step - loss: 0.3913 - val_loss: 0.3873\n",
      "Epoch 18/100\n",
      "242/242 [==============================] - 0s 560us/step - loss: 0.3865 - val_loss: 0.3947\n",
      "Epoch 19/100\n",
      "242/242 [==============================] - 0s 544us/step - loss: 0.3843 - val_loss: 0.3905\n",
      "Epoch 20/100\n",
      "242/242 [==============================] - 0s 527us/step - loss: 0.3813 - val_loss: 0.3893\n",
      "Epoch 21/100\n",
      "242/242 [==============================] - 0s 527us/step - loss: 0.3814 - val_loss: 0.3904\n",
      "Epoch 22/100\n",
      "242/242 [==============================] - 0s 527us/step - loss: 0.3824 - val_loss: 0.3932\n",
      "Epoch 23/100\n",
      "242/242 [==============================] - 0s 527us/step - loss: 0.3753 - val_loss: 0.3910\n",
      "Epoch 24/100\n",
      "242/242 [==============================] - 0s 552us/step - loss: 0.3754 - val_loss: 0.3853\n",
      "Epoch 25/100\n",
      "242/242 [==============================] - 0s 552us/step - loss: 0.3739 - val_loss: 0.3869\n",
      "Epoch 26/100\n",
      "242/242 [==============================] - 0s 548us/step - loss: 0.3721 - val_loss: 0.3854\n",
      "Epoch 27/100\n",
      "242/242 [==============================] - 0s 531us/step - loss: 0.3727 - val_loss: 0.3845\n",
      "Epoch 28/100\n",
      "242/242 [==============================] - 0s 535us/step - loss: 0.3691 - val_loss: 0.3855\n",
      "Epoch 29/100\n",
      "242/242 [==============================] - 0s 531us/step - loss: 0.3685 - val_loss: 0.3823\n",
      "Epoch 30/100\n",
      "242/242 [==============================] - 0s 510us/step - loss: 0.3674 - val_loss: 0.3755\n",
      "Epoch 31/100\n",
      "242/242 [==============================] - 0s 519us/step - loss: 0.3655 - val_loss: 0.3757\n",
      "Epoch 32/100\n",
      "242/242 [==============================] - 0s 540us/step - loss: 0.3651 - val_loss: 0.3784\n",
      "Epoch 33/100\n",
      "242/242 [==============================] - 0s 544us/step - loss: 0.3648 - val_loss: 0.3716\n",
      "Epoch 34/100\n",
      "242/242 [==============================] - 0s 523us/step - loss: 0.3630 - val_loss: 0.3733\n",
      "Epoch 35/100\n",
      "242/242 [==============================] - 0s 502us/step - loss: 0.3614 - val_loss: 0.3804\n",
      "Epoch 36/100\n",
      "242/242 [==============================] - 0s 515us/step - loss: 0.3608 - val_loss: 0.3705\n",
      "Epoch 37/100\n",
      "242/242 [==============================] - 0s 515us/step - loss: 0.3622 - val_loss: 0.3665\n",
      "Epoch 38/100\n",
      "242/242 [==============================] - 0s 519us/step - loss: 0.3585 - val_loss: 0.3703\n",
      "Epoch 39/100\n",
      "242/242 [==============================] - 0s 523us/step - loss: 0.3575 - val_loss: 0.3708\n",
      "Epoch 40/100\n",
      "242/242 [==============================] - 0s 515us/step - loss: 0.3586 - val_loss: 0.3691\n",
      "Epoch 41/100\n",
      "242/242 [==============================] - 0s 519us/step - loss: 0.3772 - val_loss: 0.3654\n",
      "Epoch 42/100\n",
      "242/242 [==============================] - 0s 515us/step - loss: 0.3663 - val_loss: 0.3665\n",
      "Epoch 43/100\n",
      "242/242 [==============================] - 0s 506us/step - loss: 0.3587 - val_loss: 0.3690\n",
      "Epoch 44/100\n",
      "242/242 [==============================] - 0s 515us/step - loss: 0.3542 - val_loss: 0.3658\n",
      "Epoch 45/100\n",
      "242/242 [==============================] - 0s 523us/step - loss: 0.3559 - val_loss: 0.3603\n",
      "Epoch 46/100\n",
      "242/242 [==============================] - 0s 523us/step - loss: 0.3542 - val_loss: 0.3591\n",
      "Epoch 47/100\n",
      "242/242 [==============================] - 0s 523us/step - loss: 0.3536 - val_loss: 0.3590\n",
      "Epoch 48/100\n",
      "242/242 [==============================] - 0s 535us/step - loss: 0.3526 - val_loss: 0.3582\n",
      "Epoch 49/100\n",
      "242/242 [==============================] - 0s 519us/step - loss: 0.3539 - val_loss: 0.3614\n",
      "Epoch 50/100\n",
      "242/242 [==============================] - 0s 515us/step - loss: 0.3558 - val_loss: 0.3588\n",
      "Epoch 51/100\n",
      "242/242 [==============================] - 0s 515us/step - loss: 0.3496 - val_loss: 0.3538\n",
      "Epoch 52/100\n",
      "242/242 [==============================] - 0s 515us/step - loss: 0.3524 - val_loss: 0.3583\n",
      "Epoch 53/100\n",
      "242/242 [==============================] - 0s 523us/step - loss: 0.3510 - val_loss: 0.3599\n",
      "Epoch 54/100\n",
      "242/242 [==============================] - 0s 523us/step - loss: 0.3488 - val_loss: 0.3561\n",
      "Epoch 55/100\n",
      "242/242 [==============================] - 0s 523us/step - loss: 0.3482 - val_loss: 0.3620\n",
      "Epoch 56/100\n",
      "242/242 [==============================] - 0s 519us/step - loss: 0.3578 - val_loss: 0.3658\n",
      "Epoch 57/100\n",
      "242/242 [==============================] - 0s 519us/step - loss: 0.3552 - val_loss: 0.3618\n",
      "Epoch 58/100\n",
      "242/242 [==============================] - 0s 527us/step - loss: 0.3490 - val_loss: 0.3602\n",
      "Epoch 59/100\n",
      "242/242 [==============================] - 0s 540us/step - loss: 0.3490 - val_loss: 0.4007\n",
      "Epoch 60/100\n",
      "242/242 [==============================] - 0s 515us/step - loss: 0.3474 - val_loss: 0.3596\n",
      "Epoch 61/100\n",
      "242/242 [==============================] - 0s 523us/step - loss: 0.3463 - val_loss: 0.3613\n",
      "121/121 [==============================] - 0s 325us/step - loss: 0.3450\n",
      "[CV] END learning_rate=0.005066194105744595, n_hidden=1, n_neurons=40; total time=   8.1s\n",
      "Epoch 1/100\n"
     ]
    },
    {
     "name": "stderr",
     "output_type": "stream",
     "text": [
      "C:\\Users\\anpdi\\anaconda3\\lib\\site-packages\\tensorflow\\python\\keras\\optimizer_v2\\optimizer_v2.py:374: UserWarning: The `lr` argument is deprecated, use `learning_rate` instead.\n",
      "  warnings.warn(\n"
     ]
    },
    {
     "name": "stdout",
     "output_type": "stream",
     "text": [
      "242/242 [==============================] - 0s 867us/step - loss: 2.2495 - val_loss: 0.9723\n",
      "Epoch 2/100\n",
      "242/242 [==============================] - 0s 564us/step - loss: 0.6868 - val_loss: 0.5988\n",
      "Epoch 3/100\n",
      "242/242 [==============================] - 0s 573us/step - loss: 0.5691 - val_loss: 0.5268\n",
      "Epoch 4/100\n",
      "242/242 [==============================] - 0s 564us/step - loss: 0.5294 - val_loss: 0.5047\n",
      "Epoch 5/100\n",
      "242/242 [==============================] - 0s 598us/step - loss: 0.5086 - val_loss: 0.5073\n",
      "Epoch 6/100\n",
      "242/242 [==============================] - 0s 610us/step - loss: 0.4945 - val_loss: 0.4966\n",
      "Epoch 7/100\n",
      "242/242 [==============================] - 0s 569us/step - loss: 0.4842 - val_loss: 0.4950\n",
      "Epoch 8/100\n",
      "242/242 [==============================] - 0s 585us/step - loss: 0.4765 - val_loss: 0.4937\n",
      "Epoch 9/100\n",
      "242/242 [==============================] - 0s 614us/step - loss: 0.4693 - val_loss: 0.5016\n",
      "Epoch 10/100\n",
      "242/242 [==============================] - 0s 585us/step - loss: 0.4635 - val_loss: 0.4934\n",
      "Epoch 11/100\n",
      "242/242 [==============================] - 0s 569us/step - loss: 0.4583 - val_loss: 0.4831\n",
      "Epoch 12/100\n",
      "242/242 [==============================] - 0s 564us/step - loss: 0.4532 - val_loss: 0.4747\n",
      "Epoch 13/100\n",
      "242/242 [==============================] - 0s 564us/step - loss: 0.4489 - val_loss: 0.4774\n",
      "Epoch 14/100\n",
      "242/242 [==============================] - 0s 573us/step - loss: 0.4447 - val_loss: 0.4702\n",
      "Epoch 15/100\n",
      "242/242 [==============================] - 0s 593us/step - loss: 0.4407 - val_loss: 0.4670\n",
      "Epoch 16/100\n",
      "242/242 [==============================] - 0s 593us/step - loss: 0.4368 - val_loss: 0.4664\n",
      "Epoch 17/100\n",
      "242/242 [==============================] - 0s 589us/step - loss: 0.4329 - val_loss: 0.4553\n",
      "Epoch 18/100\n",
      "242/242 [==============================] - 0s 614us/step - loss: 0.4298 - val_loss: 0.4518\n",
      "Epoch 19/100\n",
      "242/242 [==============================] - 0s 572us/step - loss: 0.4261 - val_loss: 0.4573\n",
      "Epoch 20/100\n",
      "242/242 [==============================] - 0s 564us/step - loss: 0.4229 - val_loss: 0.4481\n",
      "Epoch 21/100\n",
      "242/242 [==============================] - 0s 573us/step - loss: 0.4196 - val_loss: 0.4457\n",
      "Epoch 22/100\n",
      "242/242 [==============================] - 0s 569us/step - loss: 0.4171 - val_loss: 0.4435\n",
      "Epoch 23/100\n",
      "242/242 [==============================] - 0s 573us/step - loss: 0.4141 - val_loss: 0.4397\n",
      "Epoch 24/100\n",
      "242/242 [==============================] - 0s 569us/step - loss: 0.4118 - val_loss: 0.4419\n",
      "Epoch 25/100\n",
      "242/242 [==============================] - 0s 564us/step - loss: 0.4090 - val_loss: 0.4458\n",
      "Epoch 26/100\n",
      "242/242 [==============================] - 0s 564us/step - loss: 0.4060 - val_loss: 0.4332\n",
      "Epoch 27/100\n",
      "242/242 [==============================] - 0s 569us/step - loss: 0.4038 - val_loss: 0.4297\n",
      "Epoch 28/100\n",
      "242/242 [==============================] - 0s 569us/step - loss: 0.4018 - val_loss: 0.4301\n",
      "Epoch 29/100\n",
      "242/242 [==============================] - 0s 585us/step - loss: 0.3997 - val_loss: 0.4261\n",
      "Epoch 30/100\n",
      "242/242 [==============================] - 0s 569us/step - loss: 0.3977 - val_loss: 0.4269\n",
      "Epoch 31/100\n",
      "242/242 [==============================] - 0s 564us/step - loss: 0.3960 - val_loss: 0.4214\n",
      "Epoch 32/100\n",
      "242/242 [==============================] - 0s 560us/step - loss: 0.3944 - val_loss: 0.4205\n",
      "Epoch 33/100\n",
      "242/242 [==============================] - 0s 569us/step - loss: 0.3928 - val_loss: 0.4263\n",
      "Epoch 34/100\n",
      "242/242 [==============================] - 0s 564us/step - loss: 0.3914 - val_loss: 0.4143\n",
      "Epoch 35/100\n",
      "242/242 [==============================] - 0s 564us/step - loss: 0.3901 - val_loss: 0.4057\n",
      "Epoch 36/100\n",
      "242/242 [==============================] - 0s 556us/step - loss: 0.3888 - val_loss: 0.4074\n",
      "Epoch 37/100\n",
      "242/242 [==============================] - 0s 573us/step - loss: 0.3875 - val_loss: 0.4122\n",
      "Epoch 38/100\n",
      "242/242 [==============================] - 0s 569us/step - loss: 0.3862 - val_loss: 0.4133\n",
      "Epoch 39/100\n",
      "242/242 [==============================] - 0s 573us/step - loss: 0.3850 - val_loss: 0.4064\n",
      "Epoch 40/100\n",
      "242/242 [==============================] - 0s 569us/step - loss: 0.3838 - val_loss: 0.3969\n",
      "Epoch 41/100\n",
      "242/242 [==============================] - 0s 573us/step - loss: 0.3826 - val_loss: 0.4003\n",
      "Epoch 42/100\n",
      "242/242 [==============================] - 0s 581us/step - loss: 0.3818 - val_loss: 0.3984\n",
      "Epoch 43/100\n",
      "242/242 [==============================] - 0s 573us/step - loss: 0.3804 - val_loss: 0.4058\n",
      "Epoch 44/100\n",
      "242/242 [==============================] - 0s 577us/step - loss: 0.3798 - val_loss: 0.4038\n",
      "Epoch 45/100\n",
      "242/242 [==============================] - 0s 564us/step - loss: 0.3787 - val_loss: 0.4052\n",
      "Epoch 46/100\n",
      "242/242 [==============================] - 0s 564us/step - loss: 0.3779 - val_loss: 0.3978\n",
      "Epoch 47/100\n",
      "242/242 [==============================] - 0s 560us/step - loss: 0.3771 - val_loss: 0.3989\n",
      "Epoch 48/100\n",
      "242/242 [==============================] - 0s 564us/step - loss: 0.3756 - val_loss: 0.4014\n",
      "Epoch 49/100\n",
      "242/242 [==============================] - 0s 564us/step - loss: 0.3754 - val_loss: 0.3910\n",
      "Epoch 50/100\n",
      "242/242 [==============================] - 0s 556us/step - loss: 0.3742 - val_loss: 0.3885\n",
      "Epoch 51/100\n",
      "242/242 [==============================] - 0s 573us/step - loss: 0.3740 - val_loss: 0.3897\n",
      "Epoch 52/100\n",
      "242/242 [==============================] - 0s 573us/step - loss: 0.3730 - val_loss: 0.3911\n",
      "Epoch 53/100\n",
      "242/242 [==============================] - 0s 564us/step - loss: 0.3721 - val_loss: 0.3879\n",
      "Epoch 54/100\n",
      "242/242 [==============================] - 0s 560us/step - loss: 0.3717 - val_loss: 0.3989\n",
      "Epoch 55/100\n",
      "242/242 [==============================] - 0s 558us/step - loss: 0.3708 - val_loss: 0.3865\n",
      "Epoch 56/100\n",
      "242/242 [==============================] - 0s 564us/step - loss: 0.3699 - val_loss: 0.3918\n",
      "Epoch 57/100\n",
      "242/242 [==============================] - 0s 560us/step - loss: 0.3700 - val_loss: 0.3900\n",
      "Epoch 58/100\n",
      "242/242 [==============================] - 0s 556us/step - loss: 0.3691 - val_loss: 0.3855\n",
      "Epoch 59/100\n",
      "242/242 [==============================] - 0s 556us/step - loss: 0.3688 - val_loss: 0.3902\n",
      "Epoch 60/100\n",
      "242/242 [==============================] - 0s 560us/step - loss: 0.3679 - val_loss: 0.3970\n",
      "Epoch 61/100\n",
      "242/242 [==============================] - 0s 564us/step - loss: 0.3676 - val_loss: 0.3888\n",
      "Epoch 62/100\n",
      "242/242 [==============================] - 0s 560us/step - loss: 0.3668 - val_loss: 0.3928\n",
      "Epoch 63/100\n",
      "242/242 [==============================] - 0s 560us/step - loss: 0.3662 - val_loss: 0.3887\n",
      "Epoch 64/100\n",
      "242/242 [==============================] - 0s 577us/step - loss: 0.3657 - val_loss: 0.3850\n",
      "Epoch 65/100\n",
      "242/242 [==============================] - 0s 564us/step - loss: 0.3655 - val_loss: 0.3925\n",
      "Epoch 66/100\n",
      "242/242 [==============================] - 0s 573us/step - loss: 0.3648 - val_loss: 0.3880\n",
      "Epoch 67/100\n",
      "242/242 [==============================] - 0s 569us/step - loss: 0.3643 - val_loss: 0.3832\n",
      "Epoch 68/100\n",
      "242/242 [==============================] - 0s 560us/step - loss: 0.3638 - val_loss: 0.3879\n",
      "Epoch 69/100\n",
      "242/242 [==============================] - 0s 564us/step - loss: 0.3634 - val_loss: 0.3789\n",
      "Epoch 70/100\n",
      "242/242 [==============================] - 0s 569us/step - loss: 0.3629 - val_loss: 0.3887\n",
      "Epoch 71/100\n",
      "242/242 [==============================] - 0s 569us/step - loss: 0.3622 - val_loss: 0.3794\n",
      "Epoch 72/100\n",
      "242/242 [==============================] - 0s 564us/step - loss: 0.3620 - val_loss: 0.3918\n",
      "Epoch 73/100\n",
      "242/242 [==============================] - 0s 602us/step - loss: 0.3618 - val_loss: 0.3757\n",
      "Epoch 74/100\n",
      "242/242 [==============================] - 0s 598us/step - loss: 0.3614 - val_loss: 0.3845\n",
      "Epoch 75/100\n",
      "242/242 [==============================] - 0s 569us/step - loss: 0.3605 - val_loss: 0.3870\n",
      "Epoch 76/100\n",
      "242/242 [==============================] - 0s 560us/step - loss: 0.3606 - val_loss: 0.3822\n",
      "Epoch 77/100\n",
      "242/242 [==============================] - 0s 560us/step - loss: 0.3599 - val_loss: 0.3791\n",
      "Epoch 78/100\n",
      "242/242 [==============================] - 0s 569us/step - loss: 0.3596 - val_loss: 0.3778\n",
      "Epoch 79/100\n",
      "242/242 [==============================] - 0s 564us/step - loss: 0.3592 - val_loss: 0.3833\n"
     ]
    },
    {
     "name": "stdout",
     "output_type": "stream",
     "text": [
      "Epoch 80/100\n",
      "242/242 [==============================] - 0s 573us/step - loss: 0.3586 - val_loss: 0.3765\n",
      "Epoch 81/100\n",
      "242/242 [==============================] - 0s 573us/step - loss: 0.3585 - val_loss: 0.3733\n",
      "Epoch 82/100\n",
      "242/242 [==============================] - 0s 569us/step - loss: 0.3580 - val_loss: 0.3769\n",
      "Epoch 83/100\n",
      "242/242 [==============================] - 0s 564us/step - loss: 0.3578 - val_loss: 0.3769\n",
      "Epoch 84/100\n",
      "242/242 [==============================] - 0s 585us/step - loss: 0.3574 - val_loss: 0.3737\n",
      "Epoch 85/100\n",
      "242/242 [==============================] - 0s 569us/step - loss: 0.3570 - val_loss: 0.3739\n",
      "Epoch 86/100\n",
      "242/242 [==============================] - 0s 569us/step - loss: 0.3567 - val_loss: 0.3779\n",
      "Epoch 87/100\n",
      "242/242 [==============================] - 0s 560us/step - loss: 0.3560 - val_loss: 0.3701\n",
      "Epoch 88/100\n",
      "242/242 [==============================] - 0s 623us/step - loss: 0.3559 - val_loss: 0.3654\n",
      "Epoch 89/100\n",
      "242/242 [==============================] - 0s 581us/step - loss: 0.3556 - val_loss: 0.3676\n",
      "Epoch 90/100\n",
      "242/242 [==============================] - 0s 556us/step - loss: 0.3552 - val_loss: 0.3762\n",
      "Epoch 91/100\n",
      "242/242 [==============================] - 0s 573us/step - loss: 0.3550 - val_loss: 0.3737\n",
      "Epoch 92/100\n",
      "242/242 [==============================] - 0s 615us/step - loss: 0.3545 - val_loss: 0.3707\n",
      "Epoch 93/100\n",
      "242/242 [==============================] - 0s 560us/step - loss: 0.3542 - val_loss: 0.3684\n",
      "Epoch 94/100\n",
      "242/242 [==============================] - 0s 569us/step - loss: 0.3540 - val_loss: 0.3706\n",
      "Epoch 95/100\n",
      "242/242 [==============================] - 0s 631us/step - loss: 0.3533 - val_loss: 0.3733\n",
      "Epoch 96/100\n",
      "242/242 [==============================] - 0s 654us/step - loss: 0.3532 - val_loss: 0.3670\n",
      "Epoch 97/100\n",
      "242/242 [==============================] - 0s 681us/step - loss: 0.3528 - val_loss: 0.3664\n",
      "Epoch 98/100\n",
      "242/242 [==============================] - 0s 664us/step - loss: 0.3524 - val_loss: 0.3698\n",
      "121/121 [==============================] - 0s 467us/step - loss: 0.3703\n",
      "[CV] END learning_rate=0.0012837467543940191, n_hidden=3, n_neurons=11; total time=  14.1s\n",
      "Epoch 1/100\n"
     ]
    },
    {
     "name": "stderr",
     "output_type": "stream",
     "text": [
      "C:\\Users\\anpdi\\anaconda3\\lib\\site-packages\\tensorflow\\python\\keras\\optimizer_v2\\optimizer_v2.py:374: UserWarning: The `lr` argument is deprecated, use `learning_rate` instead.\n",
      "  warnings.warn(\n"
     ]
    },
    {
     "name": "stdout",
     "output_type": "stream",
     "text": [
      "242/242 [==============================] - 0s 984us/step - loss: 3.0174 - val_loss: 2.4487\n",
      "Epoch 2/100\n",
      "242/242 [==============================] - 0s 627us/step - loss: 1.2077 - val_loss: 2.2284\n",
      "Epoch 3/100\n",
      "242/242 [==============================] - 0s 606us/step - loss: 0.9354 - val_loss: 1.6253\n",
      "Epoch 4/100\n",
      "242/242 [==============================] - 0s 589us/step - loss: 0.8013 - val_loss: 1.1031\n",
      "Epoch 5/100\n",
      "242/242 [==============================] - 0s 606us/step - loss: 0.7399 - val_loss: 0.7754\n",
      "Epoch 6/100\n",
      "242/242 [==============================] - 0s 635us/step - loss: 0.7032 - val_loss: 0.6520\n",
      "Epoch 7/100\n",
      "242/242 [==============================] - 0s 695us/step - loss: 0.6728 - val_loss: 0.6695\n",
      "Epoch 8/100\n",
      "242/242 [==============================] - 0s 660us/step - loss: 0.6458 - val_loss: 0.7157\n",
      "Epoch 9/100\n",
      "242/242 [==============================] - 0s 614us/step - loss: 0.6202 - val_loss: 0.7952\n",
      "Epoch 10/100\n",
      "242/242 [==============================] - 0s 643us/step - loss: 0.5968 - val_loss: 0.8294\n",
      "Epoch 11/100\n",
      "242/242 [==============================] - 0s 616us/step - loss: 0.5746 - val_loss: 0.8430\n",
      "Epoch 12/100\n",
      "242/242 [==============================] - 0s 610us/step - loss: 0.5533 - val_loss: 0.8678\n",
      "Epoch 13/100\n",
      "242/242 [==============================] - 0s 614us/step - loss: 0.5335 - val_loss: 0.8956\n",
      "Epoch 14/100\n",
      "242/242 [==============================] - 0s 660us/step - loss: 0.5154 - val_loss: 0.9166\n",
      "Epoch 15/100\n",
      "242/242 [==============================] - 0s 618us/step - loss: 0.5000 - val_loss: 0.9356\n",
      "Epoch 16/100\n",
      "242/242 [==============================] - 0s 602us/step - loss: 0.4866 - val_loss: 0.9547\n",
      "121/121 [==============================] - 0s 358us/step - loss: 0.5117\n",
      "[CV] END learning_rate=0.0012837467543940191, n_hidden=3, n_neurons=11; total time=   2.8s\n",
      "Epoch 1/100\n"
     ]
    },
    {
     "name": "stderr",
     "output_type": "stream",
     "text": [
      "C:\\Users\\anpdi\\anaconda3\\lib\\site-packages\\tensorflow\\python\\keras\\optimizer_v2\\optimizer_v2.py:374: UserWarning: The `lr` argument is deprecated, use `learning_rate` instead.\n",
      "  warnings.warn(\n"
     ]
    },
    {
     "name": "stdout",
     "output_type": "stream",
     "text": [
      "242/242 [==============================] - 1s 963us/step - loss: 2.2243 - val_loss: 4.8490\n",
      "Epoch 2/100\n",
      "242/242 [==============================] - 0s 583us/step - loss: 0.9261 - val_loss: 1.7273\n",
      "Epoch 3/100\n",
      "242/242 [==============================] - 0s 577us/step - loss: 0.7293 - val_loss: 1.3041\n",
      "Epoch 4/100\n",
      "242/242 [==============================] - 0s 606us/step - loss: 0.6714 - val_loss: 0.9773\n",
      "Epoch 5/100\n",
      "242/242 [==============================] - 0s 656us/step - loss: 0.6397 - val_loss: 0.8356\n",
      "Epoch 6/100\n",
      "242/242 [==============================] - 0s 623us/step - loss: 0.6134 - val_loss: 0.7384\n",
      "Epoch 7/100\n",
      "242/242 [==============================] - 0s 583us/step - loss: 0.5908 - val_loss: 0.6601\n",
      "Epoch 8/100\n",
      "242/242 [==============================] - 0s 635us/step - loss: 0.5676 - val_loss: 0.5969\n",
      "Epoch 9/100\n",
      "242/242 [==============================] - 0s 652us/step - loss: 0.5472 - val_loss: 0.5679\n",
      "Epoch 10/100\n",
      "242/242 [==============================] - 0s 585us/step - loss: 0.5275 - val_loss: 0.5302\n",
      "Epoch 11/100\n",
      "242/242 [==============================] - 0s 577us/step - loss: 0.5102 - val_loss: 0.4984\n",
      "Epoch 12/100\n",
      "242/242 [==============================] - 0s 581us/step - loss: 0.4945 - val_loss: 0.4783\n",
      "Epoch 13/100\n",
      "242/242 [==============================] - 0s 589us/step - loss: 0.4807 - val_loss: 0.4610\n",
      "Epoch 14/100\n",
      "242/242 [==============================] - 0s 593us/step - loss: 0.4685 - val_loss: 0.4459\n",
      "Epoch 15/100\n",
      "242/242 [==============================] - 0s 647us/step - loss: 0.4581 - val_loss: 0.4373\n",
      "Epoch 16/100\n",
      "242/242 [==============================] - 0s 602us/step - loss: 0.4485 - val_loss: 0.4267\n",
      "Epoch 17/100\n",
      "242/242 [==============================] - 0s 652us/step - loss: 0.4410 - val_loss: 0.4203\n",
      "Epoch 18/100\n",
      "242/242 [==============================] - 0s 618us/step - loss: 0.4345 - val_loss: 0.4153\n",
      "Epoch 19/100\n",
      "242/242 [==============================] - 0s 647us/step - loss: 0.4295 - val_loss: 0.4100\n",
      "Epoch 20/100\n",
      "242/242 [==============================] - 0s 610us/step - loss: 0.4249 - val_loss: 0.4062\n",
      "Epoch 21/100\n",
      "242/242 [==============================] - 0s 664us/step - loss: 0.4214 - val_loss: 0.4064\n",
      "Epoch 22/100\n",
      "242/242 [==============================] - 0s 613us/step - loss: 0.4175 - val_loss: 0.4064\n",
      "Epoch 23/100\n",
      "242/242 [==============================] - 0s 714us/step - loss: 0.4152 - val_loss: 0.4045\n",
      "Epoch 24/100\n",
      "242/242 [==============================] - 0s 656us/step - loss: 0.4129 - val_loss: 0.4021\n",
      "Epoch 25/100\n",
      "242/242 [==============================] - 0s 652us/step - loss: 0.4103 - val_loss: 0.4021\n",
      "Epoch 26/100\n",
      "242/242 [==============================] - 0s 614us/step - loss: 0.4082 - val_loss: 0.4013\n",
      "Epoch 27/100\n",
      "242/242 [==============================] - 0s 627us/step - loss: 0.4070 - val_loss: 0.4001\n",
      "Epoch 28/100\n",
      "242/242 [==============================] - 0s 631us/step - loss: 0.4054 - val_loss: 0.4000\n",
      "Epoch 29/100\n",
      "242/242 [==============================] - 0s 606us/step - loss: 0.4038 - val_loss: 0.3985\n",
      "Epoch 30/100\n",
      "242/242 [==============================] - 0s 639us/step - loss: 0.4026 - val_loss: 0.4006\n",
      "Epoch 31/100\n",
      "242/242 [==============================] - 0s 614us/step - loss: 0.4014 - val_loss: 0.4022\n",
      "Epoch 32/100\n",
      "242/242 [==============================] - 0s 647us/step - loss: 0.4001 - val_loss: 0.3997\n",
      "Epoch 33/100\n",
      "242/242 [==============================] - 0s 639us/step - loss: 0.3989 - val_loss: 0.4027\n",
      "Epoch 34/100\n",
      "242/242 [==============================] - 0s 660us/step - loss: 0.3981 - val_loss: 0.4018\n",
      "Epoch 35/100\n",
      "242/242 [==============================] - 0s 627us/step - loss: 0.3972 - val_loss: 0.3998\n",
      "Epoch 36/100\n",
      "242/242 [==============================] - 0s 650us/step - loss: 0.3961 - val_loss: 0.4000\n",
      "Epoch 37/100\n",
      "242/242 [==============================] - 0s 623us/step - loss: 0.3950 - val_loss: 0.4015\n",
      "Epoch 38/100\n",
      "242/242 [==============================] - 0s 656us/step - loss: 0.3942 - val_loss: 0.4046\n",
      "Epoch 39/100\n",
      "242/242 [==============================] - 0s 623us/step - loss: 0.3935 - val_loss: 0.4036\n",
      "121/121 [==============================] - 0s 367us/step - loss: 0.3857\n",
      "[CV] END learning_rate=0.0012837467543940191, n_hidden=3, n_neurons=11; total time=   6.5s\n",
      "Epoch 1/100\n",
      "  1/242 [..............................] - ETA: 37s - loss: 8.4573"
     ]
    },
    {
     "name": "stderr",
     "output_type": "stream",
     "text": [
      "C:\\Users\\anpdi\\anaconda3\\lib\\site-packages\\tensorflow\\python\\keras\\optimizer_v2\\optimizer_v2.py:374: UserWarning: The `lr` argument is deprecated, use `learning_rate` instead.\n",
      "  warnings.warn(\n"
     ]
    },
    {
     "name": "stdout",
     "output_type": "stream",
     "text": [
      "242/242 [==============================] - 0s 863us/step - loss: 1.6279 - val_loss: 18.6475\n",
      "Epoch 2/100\n",
      "242/242 [==============================] - 0s 560us/step - loss: 1.0107 - val_loss: 60.4413\n",
      "Epoch 3/100\n",
      "242/242 [==============================] - 0s 593us/step - loss: 0.8430 - val_loss: 67.2112\n",
      "Epoch 4/100\n",
      "242/242 [==============================] - 0s 552us/step - loss: 1.2474 - val_loss: 269.7464\n",
      "Epoch 5/100\n",
      "242/242 [==============================] - 0s 531us/step - loss: 2.7643 - val_loss: 624.2971\n",
      "Epoch 6/100\n",
      "242/242 [==============================] - 0s 556us/step - loss: 10.2994 - val_loss: 1544.4521\n",
      "Epoch 7/100\n",
      "242/242 [==============================] - 0s 593us/step - loss: 16.5714 - val_loss: 3567.5869\n",
      "Epoch 8/100\n",
      "242/242 [==============================] - 0s 523us/step - loss: 45.7895 - val_loss: 8959.7529\n",
      "Epoch 9/100\n",
      "242/242 [==============================] - 0s 527us/step - loss: 56.9785 - val_loss: 21144.0684\n",
      "Epoch 10/100\n",
      "242/242 [==============================] - 0s 535us/step - loss: 374.2615 - val_loss: 51967.7188\n",
      "Epoch 11/100\n",
      "242/242 [==============================] - 0s 531us/step - loss: 294.9300 - val_loss: 127926.2891\n",
      "121/121 [==============================] - 0s 325us/step - loss: 358.8185\n",
      "[CV] END learning_rate=0.006251289133268363, n_hidden=0, n_neurons=32; total time=   1.7s\n",
      "Epoch 1/100\n",
      "  1/242 [..............................] - ETA: 37s - loss: 6.3172"
     ]
    },
    {
     "name": "stderr",
     "output_type": "stream",
     "text": [
      "C:\\Users\\anpdi\\anaconda3\\lib\\site-packages\\tensorflow\\python\\keras\\optimizer_v2\\optimizer_v2.py:374: UserWarning: The `lr` argument is deprecated, use `learning_rate` instead.\n",
      "  warnings.warn(\n"
     ]
    },
    {
     "name": "stdout",
     "output_type": "stream",
     "text": [
      "242/242 [==============================] - 0s 784us/step - loss: 1.7770 - val_loss: 29.9460\n",
      "Epoch 2/100\n",
      "242/242 [==============================] - 0s 531us/step - loss: 0.6225 - val_loss: 28.4227\n",
      "Epoch 3/100\n",
      "242/242 [==============================] - 0s 527us/step - loss: 0.5785 - val_loss: 25.5805\n",
      "Epoch 4/100\n",
      "242/242 [==============================] - 0s 573us/step - loss: 0.5520 - val_loss: 25.3184\n",
      "Epoch 5/100\n",
      "242/242 [==============================] - 0s 564us/step - loss: 0.5348 - val_loss: 21.8082\n",
      "Epoch 6/100\n",
      "242/242 [==============================] - 0s 519us/step - loss: 0.5235 - val_loss: 20.5731\n",
      "Epoch 7/100\n",
      "242/242 [==============================] - 0s 531us/step - loss: 0.5165 - val_loss: 18.9246\n",
      "Epoch 8/100\n",
      "242/242 [==============================] - 0s 531us/step - loss: 0.5100 - val_loss: 19.4929\n",
      "Epoch 9/100\n",
      "242/242 [==============================] - 0s 531us/step - loss: 0.5085 - val_loss: 19.6465\n",
      "Epoch 10/100\n",
      "242/242 [==============================] - 0s 523us/step - loss: 0.5064 - val_loss: 19.7748\n",
      "Epoch 11/100\n",
      "242/242 [==============================] - 0s 527us/step - loss: 0.5044 - val_loss: 20.4145\n",
      "Epoch 12/100\n",
      "242/242 [==============================] - 0s 531us/step - loss: 0.5033 - val_loss: 21.4183\n",
      "Epoch 13/100\n",
      "242/242 [==============================] - 0s 523us/step - loss: 0.5031 - val_loss: 20.4217\n",
      "Epoch 14/100\n",
      "242/242 [==============================] - 0s 540us/step - loss: 0.5028 - val_loss: 20.2339\n",
      "Epoch 15/100\n",
      "242/242 [==============================] - 0s 531us/step - loss: 0.5019 - val_loss: 19.0738\n",
      "Epoch 16/100\n",
      "242/242 [==============================] - 0s 515us/step - loss: 0.5016 - val_loss: 19.1554\n",
      "Epoch 17/100\n",
      "242/242 [==============================] - 0s 519us/step - loss: 0.5014 - val_loss: 19.1169\n",
      "121/121 [==============================] - 0s 308us/step - loss: 0.9599\n",
      "[CV] END learning_rate=0.006251289133268363, n_hidden=0, n_neurons=32; total time=   2.4s\n",
      "Epoch 1/100\n",
      "  1/242 [..............................] - ETA: 37s - loss: 6.8425"
     ]
    },
    {
     "name": "stderr",
     "output_type": "stream",
     "text": [
      "C:\\Users\\anpdi\\anaconda3\\lib\\site-packages\\tensorflow\\python\\keras\\optimizer_v2\\optimizer_v2.py:374: UserWarning: The `lr` argument is deprecated, use `learning_rate` instead.\n",
      "  warnings.warn(\n"
     ]
    },
    {
     "name": "stdout",
     "output_type": "stream",
     "text": [
      "242/242 [==============================] - 0s 768us/step - loss: 1.8415 - val_loss: 3.2217\n",
      "Epoch 2/100\n",
      "242/242 [==============================] - 0s 510us/step - loss: 0.6861 - val_loss: 15.2181\n",
      "Epoch 3/100\n",
      "242/242 [==============================] - 0s 502us/step - loss: 0.6792 - val_loss: 35.6258\n",
      "Epoch 4/100\n",
      "242/242 [==============================] - 0s 515us/step - loss: 0.8109 - val_loss: 131.4839\n",
      "Epoch 5/100\n",
      "242/242 [==============================] - 0s 519us/step - loss: 0.9593 - val_loss: 90.9305\n",
      "Epoch 6/100\n",
      "242/242 [==============================] - 0s 506us/step - loss: 1.0490 - val_loss: 226.3184\n",
      "Epoch 7/100\n",
      "242/242 [==============================] - 0s 510us/step - loss: 4.5467 - val_loss: 393.4521\n",
      "Epoch 8/100\n",
      "242/242 [==============================] - 0s 515us/step - loss: 9.3245 - val_loss: 521.2675\n",
      "Epoch 9/100\n",
      "242/242 [==============================] - 0s 502us/step - loss: 3.0035 - val_loss: 687.4807\n",
      "Epoch 10/100\n",
      "242/242 [==============================] - 0s 494us/step - loss: 11.0753 - val_loss: 1075.6411\n",
      "Epoch 11/100\n",
      "242/242 [==============================] - 0s 527us/step - loss: 7.2842 - val_loss: 1567.5062\n",
      "121/121 [==============================] - 0s 325us/step - loss: 1.5655\n",
      "[CV] END learning_rate=0.006251289133268363, n_hidden=0, n_neurons=32; total time=   1.6s\n",
      "Epoch 1/100\n"
     ]
    },
    {
     "name": "stderr",
     "output_type": "stream",
     "text": [
      "C:\\Users\\anpdi\\anaconda3\\lib\\site-packages\\tensorflow\\python\\keras\\optimizer_v2\\optimizer_v2.py:374: UserWarning: The `lr` argument is deprecated, use `learning_rate` instead.\n",
      "  warnings.warn(\n"
     ]
    },
    {
     "name": "stdout",
     "output_type": "stream",
     "text": [
      "242/242 [==============================] - 0s 867us/step - loss: 4.1664 - val_loss: 2.9894\n",
      "Epoch 2/100\n",
      "242/242 [==============================] - 0s 556us/step - loss: 2.4986 - val_loss: 1.9842\n",
      "Epoch 3/100\n",
      "242/242 [==============================] - 0s 573us/step - loss: 1.8132 - val_loss: 1.5791\n",
      "Epoch 4/100\n",
      "242/242 [==============================] - 0s 578us/step - loss: 1.5326 - val_loss: 1.4171\n",
      "Epoch 5/100\n",
      "242/242 [==============================] - 0s 548us/step - loss: 1.4169 - val_loss: 1.3523\n",
      "Epoch 6/100\n",
      "242/242 [==============================] - 0s 556us/step - loss: 1.3691 - val_loss: 1.3280\n",
      "Epoch 7/100\n",
      "242/242 [==============================] - 0s 560us/step - loss: 1.3496 - val_loss: 1.3187\n",
      "Epoch 8/100\n",
      "242/242 [==============================] - 0s 564us/step - loss: 1.3414 - val_loss: 1.3156\n",
      "Epoch 9/100\n",
      "242/242 [==============================] - 0s 552us/step - loss: 1.3381 - val_loss: 1.3149\n",
      "Epoch 10/100\n",
      "242/242 [==============================] - 0s 569us/step - loss: 1.3368 - val_loss: 1.3149\n",
      "Epoch 11/100\n",
      "242/242 [==============================] - 0s 552us/step - loss: 1.3362 - val_loss: 1.3150\n",
      "Epoch 12/100\n",
      "242/242 [==============================] - 0s 560us/step - loss: 1.3360 - val_loss: 1.3152\n",
      "Epoch 13/100\n",
      "242/242 [==============================] - 0s 564us/step - loss: 1.3359 - val_loss: 1.3153\n",
      "Epoch 14/100\n",
      "242/242 [==============================] - 0s 560us/step - loss: 1.3359 - val_loss: 1.3155\n",
      "Epoch 15/100\n",
      "242/242 [==============================] - 0s 564us/step - loss: 1.3358 - val_loss: 1.3156\n",
      "Epoch 16/100\n",
      "242/242 [==============================] - 0s 564us/step - loss: 1.3358 - val_loss: 1.3156\n",
      "Epoch 17/100\n",
      "242/242 [==============================] - 0s 569us/step - loss: 1.3358 - val_loss: 1.3157\n",
      "Epoch 18/100\n",
      "242/242 [==============================] - 0s 564us/step - loss: 1.3358 - val_loss: 1.3157\n",
      "Epoch 19/100\n",
      "242/242 [==============================] - 0s 560us/step - loss: 1.3358 - val_loss: 1.3157\n",
      "Epoch 20/100\n",
      "242/242 [==============================] - 0s 569us/step - loss: 1.3358 - val_loss: 1.3158\n",
      "121/121 [==============================] - 0s 333us/step - loss: 1.3501\n",
      "[CV] END learning_rate=0.0009172223568843883, n_hidden=3, n_neurons=1; total time=   3.0s\n",
      "Epoch 1/100\n"
     ]
    },
    {
     "name": "stderr",
     "output_type": "stream",
     "text": [
      "C:\\Users\\anpdi\\anaconda3\\lib\\site-packages\\tensorflow\\python\\keras\\optimizer_v2\\optimizer_v2.py:374: UserWarning: The `lr` argument is deprecated, use `learning_rate` instead.\n",
      "  warnings.warn(\n"
     ]
    },
    {
     "name": "stdout",
     "output_type": "stream",
     "text": [
      "242/242 [==============================] - 0s 855us/step - loss: 4.2375 - val_loss: 2.9664\n",
      "Epoch 2/100\n",
      "242/242 [==============================] - 0s 540us/step - loss: 2.5343 - val_loss: 1.9628\n",
      "Epoch 3/100\n",
      "242/242 [==============================] - 0s 552us/step - loss: 1.8354 - val_loss: 1.5624\n",
      "Epoch 4/100\n",
      "242/242 [==============================] - 0s 556us/step - loss: 1.5481 - val_loss: 1.4052\n",
      "Epoch 5/100\n",
      "242/242 [==============================] - 0s 552us/step - loss: 1.4299 - val_loss: 1.3450\n",
      "Epoch 6/100\n",
      "242/242 [==============================] - 0s 540us/step - loss: 1.3814 - val_loss: 1.3235\n",
      "Epoch 7/100\n",
      "242/242 [==============================] - 0s 544us/step - loss: 1.3615 - val_loss: 1.3165\n",
      "Epoch 8/100\n",
      "242/242 [==============================] - 0s 548us/step - loss: 1.3532 - val_loss: 1.3149\n",
      "Epoch 9/100\n",
      "242/242 [==============================] - 0s 544us/step - loss: 1.3498 - val_loss: 1.3150\n",
      "Epoch 10/100\n",
      "242/242 [==============================] - 0s 531us/step - loss: 1.3484 - val_loss: 1.3156\n",
      "Epoch 11/100\n",
      "242/242 [==============================] - 0s 552us/step - loss: 1.3478 - val_loss: 1.3161\n",
      "Epoch 12/100\n",
      "242/242 [==============================] - 0s 548us/step - loss: 1.3476 - val_loss: 1.3165\n",
      "Epoch 13/100\n",
      "242/242 [==============================] - 0s 552us/step - loss: 1.3475 - val_loss: 1.3168\n",
      "Epoch 14/100\n",
      "242/242 [==============================] - 0s 565us/step - loss: 1.3474 - val_loss: 1.3170\n",
      "Epoch 15/100\n",
      "242/242 [==============================] - 0s 618us/step - loss: 1.3474 - val_loss: 1.3171\n",
      "Epoch 16/100\n",
      "242/242 [==============================] - 0s 581us/step - loss: 1.3474 - val_loss: 1.3173\n",
      "Epoch 17/100\n",
      "242/242 [==============================] - 0s 573us/step - loss: 1.3474 - val_loss: 1.3175\n",
      "Epoch 18/100\n",
      "242/242 [==============================] - 0s 623us/step - loss: 1.3474 - val_loss: 1.3175\n",
      "121/121 [==============================] - 0s 342us/step - loss: 1.3262\n",
      "[CV] END learning_rate=0.0009172223568843883, n_hidden=3, n_neurons=1; total time=   2.8s\n",
      "Epoch 1/100\n"
     ]
    },
    {
     "name": "stderr",
     "output_type": "stream",
     "text": [
      "C:\\Users\\anpdi\\anaconda3\\lib\\site-packages\\tensorflow\\python\\keras\\optimizer_v2\\optimizer_v2.py:374: UserWarning: The `lr` argument is deprecated, use `learning_rate` instead.\n",
      "  warnings.warn(\n"
     ]
    },
    {
     "name": "stdout",
     "output_type": "stream",
     "text": [
      "242/242 [==============================] - 1s 859us/step - loss: 4.2501 - val_loss: 2.9648\n",
      "Epoch 2/100\n",
      "242/242 [==============================] - 0s 564us/step - loss: 2.5349 - val_loss: 1.9573\n",
      "Epoch 3/100\n",
      "242/242 [==============================] - 0s 569us/step - loss: 1.8291 - val_loss: 1.5576\n",
      "Epoch 4/100\n",
      "242/242 [==============================] - 0s 564us/step - loss: 1.5398 - val_loss: 1.4018\n",
      "Epoch 5/100\n",
      "242/242 [==============================] - 0s 564us/step - loss: 1.4204 - val_loss: 1.3428\n",
      "Epoch 6/100\n",
      "242/242 [==============================] - 0s 569us/step - loss: 1.3715 - val_loss: 1.3223\n",
      "Epoch 7/100\n",
      "242/242 [==============================] - 0s 548us/step - loss: 1.3515 - val_loss: 1.3160\n",
      "Epoch 8/100\n",
      "242/242 [==============================] - 0s 585us/step - loss: 1.3431 - val_loss: 1.3148\n",
      "Epoch 9/100\n",
      "242/242 [==============================] - 0s 585us/step - loss: 1.3397 - val_loss: 1.3152\n",
      "Epoch 10/100\n",
      "242/242 [==============================] - 0s 564us/step - loss: 1.3383 - val_loss: 1.3160\n",
      "Epoch 11/100\n",
      "242/242 [==============================] - 0s 560us/step - loss: 1.3377 - val_loss: 1.3167\n",
      "Epoch 12/100\n",
      "242/242 [==============================] - 0s 552us/step - loss: 1.3375 - val_loss: 1.3172\n",
      "Epoch 13/100\n",
      "242/242 [==============================] - 0s 552us/step - loss: 1.3374 - val_loss: 1.3176\n",
      "Epoch 14/100\n",
      "242/242 [==============================] - 0s 577us/step - loss: 1.3373 - val_loss: 1.3179\n",
      "Epoch 15/100\n",
      "242/242 [==============================] - 0s 643us/step - loss: 1.3373 - val_loss: 1.3180\n",
      "Epoch 16/100\n",
      "242/242 [==============================] - 0s 643us/step - loss: 1.3373 - val_loss: 1.3181\n",
      "Epoch 17/100\n",
      "242/242 [==============================] - 0s 656us/step - loss: 1.3373 - val_loss: 1.3183\n",
      "Epoch 18/100\n",
      "242/242 [==============================] - 0s 593us/step - loss: 1.3373 - val_loss: 1.3183\n",
      "121/121 [==============================] - 0s 408us/step - loss: 1.3467\n",
      "[CV] END learning_rate=0.0009172223568843883, n_hidden=3, n_neurons=1; total time=   3.1s\n",
      "Epoch 1/100\n"
     ]
    },
    {
     "name": "stderr",
     "output_type": "stream",
     "text": [
      "C:\\Users\\anpdi\\anaconda3\\lib\\site-packages\\tensorflow\\python\\keras\\optimizer_v2\\optimizer_v2.py:374: UserWarning: The `lr` argument is deprecated, use `learning_rate` instead.\n",
      "  warnings.warn(\n"
     ]
    },
    {
     "name": "stdout",
     "output_type": "stream",
     "text": [
      "242/242 [==============================] - 0s 1ms/step - loss: 2.3588 - val_loss: 5.0707\n",
      "Epoch 2/100\n",
      "242/242 [==============================] - 0s 668us/step - loss: 0.9502 - val_loss: 1.1761\n",
      "Epoch 3/100\n",
      "242/242 [==============================] - 0s 639us/step - loss: 0.7891 - val_loss: 0.7574\n",
      "Epoch 4/100\n",
      "242/242 [==============================] - 0s 594us/step - loss: 0.7174 - val_loss: 0.6599\n",
      "Epoch 5/100\n",
      "242/242 [==============================] - 0s 633us/step - loss: 0.6701 - val_loss: 0.6172\n",
      "Epoch 6/100\n",
      "242/242 [==============================] - 0s 614us/step - loss: 0.6333 - val_loss: 0.5893\n",
      "Epoch 7/100\n",
      "242/242 [==============================] - 0s 652us/step - loss: 0.6019 - val_loss: 0.5602\n",
      "Epoch 8/100\n",
      "242/242 [==============================] - 0s 618us/step - loss: 0.5738 - val_loss: 0.5392\n",
      "Epoch 9/100\n",
      "242/242 [==============================] - 0s 598us/step - loss: 0.5483 - val_loss: 0.5107\n",
      "Epoch 10/100\n",
      "242/242 [==============================] - 0s 639us/step - loss: 0.5258 - val_loss: 0.4895\n",
      "Epoch 11/100\n",
      "242/242 [==============================] - 0s 618us/step - loss: 0.5064 - val_loss: 0.4688\n",
      "Epoch 12/100\n",
      "242/242 [==============================] - 0s 618us/step - loss: 0.4900 - val_loss: 0.4546\n",
      "Epoch 13/100\n",
      "242/242 [==============================] - 0s 672us/step - loss: 0.4759 - val_loss: 0.4412\n",
      "Epoch 14/100\n",
      "242/242 [==============================] - 0s 664us/step - loss: 0.4637 - val_loss: 0.4314\n",
      "Epoch 15/100\n",
      "242/242 [==============================] - 0s 635us/step - loss: 0.4529 - val_loss: 0.4223\n",
      "Epoch 16/100\n",
      "242/242 [==============================] - 0s 598us/step - loss: 0.4436 - val_loss: 0.4142\n",
      "Epoch 17/100\n",
      "242/242 [==============================] - 0s 610us/step - loss: 0.4353 - val_loss: 0.4076\n",
      "Epoch 18/100\n",
      "242/242 [==============================] - 0s 610us/step - loss: 0.4282 - val_loss: 0.4036\n",
      "Epoch 19/100\n",
      "242/242 [==============================] - 0s 606us/step - loss: 0.4210 - val_loss: 0.4031\n",
      "Epoch 20/100\n",
      "242/242 [==============================] - 0s 589us/step - loss: 0.4153 - val_loss: 0.3925\n",
      "Epoch 21/100\n",
      "242/242 [==============================] - 0s 631us/step - loss: 0.4096 - val_loss: 0.3928\n",
      "Epoch 22/100\n",
      "242/242 [==============================] - 0s 614us/step - loss: 0.4044 - val_loss: 0.3824\n",
      "Epoch 23/100\n",
      "242/242 [==============================] - 0s 593us/step - loss: 0.3991 - val_loss: 0.3824\n",
      "Epoch 24/100\n",
      "242/242 [==============================] - 0s 602us/step - loss: 0.3954 - val_loss: 0.3816\n",
      "Epoch 25/100\n",
      "242/242 [==============================] - 0s 623us/step - loss: 0.3909 - val_loss: 0.3742\n",
      "Epoch 26/100\n",
      "242/242 [==============================] - 0s 618us/step - loss: 0.3871 - val_loss: 0.3766\n",
      "Epoch 27/100\n",
      "242/242 [==============================] - 0s 636us/step - loss: 0.3836 - val_loss: 0.3654\n",
      "Epoch 28/100\n",
      "242/242 [==============================] - 0s 606us/step - loss: 0.3803 - val_loss: 0.3664\n",
      "Epoch 29/100\n",
      "242/242 [==============================] - 0s 610us/step - loss: 0.3767 - val_loss: 0.3642\n",
      "Epoch 30/100\n",
      "242/242 [==============================] - 0s 606us/step - loss: 0.3744 - val_loss: 0.3678\n",
      "Epoch 31/100\n",
      "242/242 [==============================] - 0s 618us/step - loss: 0.3718 - val_loss: 0.3632\n",
      "Epoch 32/100\n",
      "242/242 [==============================] - 0s 602us/step - loss: 0.3695 - val_loss: 0.3572\n",
      "Epoch 33/100\n",
      "242/242 [==============================] - 0s 605us/step - loss: 0.3672 - val_loss: 0.3539\n",
      "Epoch 34/100\n",
      "242/242 [==============================] - 0s 631us/step - loss: 0.3647 - val_loss: 0.3557\n",
      "Epoch 35/100\n",
      "242/242 [==============================] - 0s 610us/step - loss: 0.3629 - val_loss: 0.3521\n",
      "Epoch 36/100\n",
      "242/242 [==============================] - 0s 644us/step - loss: 0.3613 - val_loss: 0.3495\n",
      "Epoch 37/100\n",
      "242/242 [==============================] - 0s 635us/step - loss: 0.3592 - val_loss: 0.3481\n",
      "Epoch 38/100\n",
      "242/242 [==============================] - 0s 598us/step - loss: 0.3574 - val_loss: 0.3533\n",
      "Epoch 39/100\n",
      "242/242 [==============================] - 0s 647us/step - loss: 0.3560 - val_loss: 0.3478\n",
      "Epoch 40/100\n",
      "242/242 [==============================] - 0s 614us/step - loss: 0.3538 - val_loss: 0.3524\n",
      "Epoch 41/100\n",
      "242/242 [==============================] - 0s 631us/step - loss: 0.3532 - val_loss: 0.3498\n",
      "Epoch 42/100\n",
      "242/242 [==============================] - 0s 629us/step - loss: 0.3516 - val_loss: 0.3424\n",
      "Epoch 43/100\n",
      "242/242 [==============================] - 0s 623us/step - loss: 0.3504 - val_loss: 0.3409\n",
      "Epoch 44/100\n",
      "242/242 [==============================] - 0s 627us/step - loss: 0.3487 - val_loss: 0.3488\n",
      "Epoch 45/100\n",
      "242/242 [==============================] - 0s 589us/step - loss: 0.3482 - val_loss: 0.3408\n",
      "Epoch 46/100\n",
      "242/242 [==============================] - 0s 623us/step - loss: 0.3469 - val_loss: 0.3395\n",
      "Epoch 47/100\n",
      "242/242 [==============================] - 0s 589us/step - loss: 0.3459 - val_loss: 0.3410\n",
      "Epoch 48/100\n",
      "242/242 [==============================] - 0s 614us/step - loss: 0.3450 - val_loss: 0.3388\n",
      "Epoch 49/100\n",
      "242/242 [==============================] - 0s 618us/step - loss: 0.3440 - val_loss: 0.3375\n",
      "Epoch 50/100\n",
      "242/242 [==============================] - 0s 610us/step - loss: 0.3433 - val_loss: 0.3415\n",
      "Epoch 51/100\n",
      "242/242 [==============================] - 0s 610us/step - loss: 0.3423 - val_loss: 0.3359\n",
      "Epoch 52/100\n",
      "242/242 [==============================] - 0s 606us/step - loss: 0.3414 - val_loss: 0.3389\n",
      "Epoch 53/100\n",
      "242/242 [==============================] - 0s 593us/step - loss: 0.3403 - val_loss: 0.3361\n",
      "Epoch 54/100\n",
      "242/242 [==============================] - 0s 593us/step - loss: 0.3398 - val_loss: 0.3346\n",
      "Epoch 55/100\n",
      "242/242 [==============================] - 0s 625us/step - loss: 0.3395 - val_loss: 0.3403\n",
      "Epoch 56/100\n",
      "242/242 [==============================] - 0s 614us/step - loss: 0.3382 - val_loss: 0.3344\n",
      "Epoch 57/100\n",
      "242/242 [==============================] - 0s 614us/step - loss: 0.3376 - val_loss: 0.3331\n",
      "Epoch 58/100\n",
      "242/242 [==============================] - 0s 593us/step - loss: 0.3369 - val_loss: 0.3397\n",
      "Epoch 59/100\n",
      "242/242 [==============================] - 0s 614us/step - loss: 0.3363 - val_loss: 0.3319\n",
      "Epoch 60/100\n",
      "242/242 [==============================] - 0s 594us/step - loss: 0.3355 - val_loss: 0.3308\n",
      "Epoch 61/100\n",
      "242/242 [==============================] - 0s 602us/step - loss: 0.3353 - val_loss: 0.3313\n",
      "Epoch 62/100\n",
      "242/242 [==============================] - 0s 604us/step - loss: 0.3346 - val_loss: 0.3303\n",
      "Epoch 63/100\n",
      "242/242 [==============================] - 0s 659us/step - loss: 0.3337 - val_loss: 0.3319\n",
      "Epoch 64/100\n",
      "242/242 [==============================] - 0s 643us/step - loss: 0.3336 - val_loss: 0.3392\n",
      "Epoch 65/100\n",
      "242/242 [==============================] - 0s 623us/step - loss: 0.3326 - val_loss: 0.3286\n",
      "Epoch 66/100\n",
      "242/242 [==============================] - 0s 573us/step - loss: 0.3318 - val_loss: 0.3277\n",
      "Epoch 67/100\n",
      "242/242 [==============================] - 0s 585us/step - loss: 0.3309 - val_loss: 0.3343\n",
      "Epoch 68/100\n",
      "242/242 [==============================] - 0s 573us/step - loss: 0.3307 - val_loss: 0.3273\n",
      "Epoch 69/100\n",
      "242/242 [==============================] - 0s 569us/step - loss: 0.3299 - val_loss: 0.3262\n",
      "Epoch 70/100\n",
      "242/242 [==============================] - 0s 577us/step - loss: 0.3297 - val_loss: 0.3322\n",
      "Epoch 71/100\n",
      "242/242 [==============================] - 0s 585us/step - loss: 0.3290 - val_loss: 0.3252\n",
      "Epoch 72/100\n",
      "242/242 [==============================] - 0s 621us/step - loss: 0.3285 - val_loss: 0.3268\n",
      "Epoch 73/100\n",
      "242/242 [==============================] - 0s 589us/step - loss: 0.3277 - val_loss: 0.3253\n",
      "Epoch 74/100\n",
      "242/242 [==============================] - 0s 585us/step - loss: 0.3271 - val_loss: 0.3269\n",
      "Epoch 75/100\n",
      "242/242 [==============================] - 0s 577us/step - loss: 0.3270 - val_loss: 0.3256\n",
      "Epoch 76/100\n",
      "242/242 [==============================] - 0s 581us/step - loss: 0.3262 - val_loss: 0.3266\n",
      "Epoch 77/100\n",
      "242/242 [==============================] - 0s 569us/step - loss: 0.3262 - val_loss: 0.3236\n",
      "Epoch 78/100\n",
      "242/242 [==============================] - 0s 564us/step - loss: 0.3254 - val_loss: 0.3287\n",
      "Epoch 79/100\n",
      "242/242 [==============================] - 0s 564us/step - loss: 0.3250 - val_loss: 0.3247\n"
     ]
    },
    {
     "name": "stdout",
     "output_type": "stream",
     "text": [
      "Epoch 80/100\n",
      "242/242 [==============================] - 0s 569us/step - loss: 0.3244 - val_loss: 0.3217\n",
      "Epoch 81/100\n",
      "242/242 [==============================] - 0s 581us/step - loss: 0.3240 - val_loss: 0.3405\n",
      "Epoch 82/100\n",
      "242/242 [==============================] - 0s 571us/step - loss: 0.3236 - val_loss: 0.3261\n",
      "Epoch 83/100\n",
      "242/242 [==============================] - 0s 573us/step - loss: 0.3234 - val_loss: 0.3417\n",
      "Epoch 84/100\n",
      "242/242 [==============================] - 0s 577us/step - loss: 0.3232 - val_loss: 0.3218\n",
      "Epoch 85/100\n",
      "242/242 [==============================] - 0s 581us/step - loss: 0.3222 - val_loss: 0.3367\n",
      "Epoch 86/100\n",
      "242/242 [==============================] - 0s 573us/step - loss: 0.3220 - val_loss: 0.3259\n",
      "Epoch 87/100\n",
      "242/242 [==============================] - 0s 581us/step - loss: 0.3214 - val_loss: 0.3242\n",
      "Epoch 88/100\n",
      "242/242 [==============================] - 0s 581us/step - loss: 0.3211 - val_loss: 0.3264\n",
      "Epoch 89/100\n",
      "242/242 [==============================] - 0s 581us/step - loss: 0.3208 - val_loss: 0.3274\n",
      "Epoch 90/100\n",
      "242/242 [==============================] - 0s 564us/step - loss: 0.3204 - val_loss: 0.3271\n",
      "121/121 [==============================] - 0s 325us/step - loss: 0.3475\n",
      "[CV] END learning_rate=0.0011587711178708176, n_hidden=3, n_neurons=40; total time=  13.6s\n",
      "Epoch 1/100\n"
     ]
    },
    {
     "name": "stderr",
     "output_type": "stream",
     "text": [
      "C:\\Users\\anpdi\\anaconda3\\lib\\site-packages\\tensorflow\\python\\keras\\optimizer_v2\\optimizer_v2.py:374: UserWarning: The `lr` argument is deprecated, use `learning_rate` instead.\n",
      "  warnings.warn(\n"
     ]
    },
    {
     "name": "stdout",
     "output_type": "stream",
     "text": [
      "242/242 [==============================] - 0s 967us/step - loss: 2.4786 - val_loss: 17.3316\n",
      "Epoch 2/100\n",
      "242/242 [==============================] - 0s 669us/step - loss: 1.0183 - val_loss: 8.2650\n",
      "Epoch 3/100\n",
      "242/242 [==============================] - 0s 672us/step - loss: 0.7528 - val_loss: 3.8493\n",
      "Epoch 4/100\n",
      "242/242 [==============================] - 0s 623us/step - loss: 0.6661 - val_loss: 1.7424\n",
      "Epoch 5/100\n",
      "242/242 [==============================] - 0s 635us/step - loss: 0.6206 - val_loss: 0.7399\n",
      "Epoch 6/100\n",
      "242/242 [==============================] - 0s 635us/step - loss: 0.5873 - val_loss: 0.5360\n",
      "Epoch 7/100\n",
      "242/242 [==============================] - 0s 631us/step - loss: 0.5595 - val_loss: 0.6005\n",
      "Epoch 8/100\n",
      "242/242 [==============================] - 0s 689us/step - loss: 0.5357 - val_loss: 0.7386\n",
      "Epoch 9/100\n",
      "242/242 [==============================] - 0s 652us/step - loss: 0.5147 - val_loss: 0.8166\n",
      "Epoch 10/100\n",
      "242/242 [==============================] - 0s 664us/step - loss: 0.4965 - val_loss: 0.8463\n",
      "Epoch 11/100\n",
      "242/242 [==============================] - 0s 672us/step - loss: 0.4806 - val_loss: 0.8554\n",
      "Epoch 12/100\n",
      "242/242 [==============================] - 0s 610us/step - loss: 0.4659 - val_loss: 0.8670\n",
      "Epoch 13/100\n",
      "242/242 [==============================] - 0s 631us/step - loss: 0.4541 - val_loss: 0.8693\n",
      "Epoch 14/100\n",
      "242/242 [==============================] - 0s 697us/step - loss: 0.4440 - val_loss: 0.8071\n",
      "Epoch 15/100\n",
      "242/242 [==============================] - 0s 739us/step - loss: 0.4348 - val_loss: 0.7690\n",
      "Epoch 16/100\n",
      "242/242 [==============================] - 0s 714us/step - loss: 0.4269 - val_loss: 0.7444\n",
      "121/121 [==============================] - 0s 333us/step - loss: 0.4523\n",
      "[CV] END learning_rate=0.0011587711178708176, n_hidden=3, n_neurons=40; total time=   2.9s\n",
      "Epoch 1/100\n"
     ]
    },
    {
     "name": "stderr",
     "output_type": "stream",
     "text": [
      "C:\\Users\\anpdi\\anaconda3\\lib\\site-packages\\tensorflow\\python\\keras\\optimizer_v2\\optimizer_v2.py:374: UserWarning: The `lr` argument is deprecated, use `learning_rate` instead.\n",
      "  warnings.warn(\n"
     ]
    },
    {
     "name": "stdout",
     "output_type": "stream",
     "text": [
      "242/242 [==============================] - 0s 938us/step - loss: 2.3897 - val_loss: 2.7555\n",
      "Epoch 2/100\n",
      "242/242 [==============================] - 0s 610us/step - loss: 0.7673 - val_loss: 0.6885\n",
      "Epoch 3/100\n",
      "242/242 [==============================] - 0s 610us/step - loss: 0.6456 - val_loss: 0.6699\n",
      "Epoch 4/100\n",
      "242/242 [==============================] - 0s 677us/step - loss: 0.6108 - val_loss: 0.7890\n",
      "Epoch 5/100\n",
      "242/242 [==============================] - 0s 660us/step - loss: 0.5801 - val_loss: 0.7240\n",
      "Epoch 6/100\n",
      "242/242 [==============================] - 0s 664us/step - loss: 0.5626 - val_loss: 0.7514\n",
      "Epoch 7/100\n",
      "242/242 [==============================] - 0s 660us/step - loss: 0.5399 - val_loss: 0.5121\n",
      "Epoch 8/100\n",
      "242/242 [==============================] - 0s 606us/step - loss: 0.5231 - val_loss: 0.4917\n",
      "Epoch 9/100\n",
      "242/242 [==============================] - 0s 627us/step - loss: 0.5073 - val_loss: 0.4873\n",
      "Epoch 10/100\n",
      "242/242 [==============================] - 0s 643us/step - loss: 0.4941 - val_loss: 0.5417\n",
      "Epoch 11/100\n",
      "242/242 [==============================] - 0s 689us/step - loss: 0.4822 - val_loss: 0.4694\n",
      "Epoch 12/100\n",
      "242/242 [==============================] - 0s 660us/step - loss: 0.4727 - val_loss: 0.4867\n",
      "Epoch 13/100\n",
      "242/242 [==============================] - 0s 668us/step - loss: 0.4623 - val_loss: 0.4345\n",
      "Epoch 14/100\n",
      "242/242 [==============================] - 0s 643us/step - loss: 0.4538 - val_loss: 0.4521\n",
      "Epoch 15/100\n",
      "242/242 [==============================] - 0s 616us/step - loss: 0.4459 - val_loss: 0.4435\n",
      "Epoch 16/100\n",
      "242/242 [==============================] - 0s 614us/step - loss: 0.4387 - val_loss: 0.4142\n",
      "Epoch 17/100\n",
      "242/242 [==============================] - 0s 614us/step - loss: 0.4327 - val_loss: 0.4757\n",
      "Epoch 18/100\n",
      "242/242 [==============================] - 0s 623us/step - loss: 0.4265 - val_loss: 0.4082\n",
      "Epoch 19/100\n",
      "242/242 [==============================] - 0s 606us/step - loss: 0.4206 - val_loss: 0.4110\n",
      "Epoch 20/100\n",
      "242/242 [==============================] - 0s 627us/step - loss: 0.4162 - val_loss: 0.3934\n",
      "Epoch 21/100\n",
      "242/242 [==============================] - 0s 623us/step - loss: 0.4109 - val_loss: 0.4114\n",
      "Epoch 22/100\n",
      "242/242 [==============================] - 0s 610us/step - loss: 0.4084 - val_loss: 0.3931\n",
      "Epoch 23/100\n",
      "242/242 [==============================] - 0s 618us/step - loss: 0.4032 - val_loss: 0.4822\n",
      "Epoch 24/100\n",
      "242/242 [==============================] - 0s 618us/step - loss: 0.3996 - val_loss: 0.4100\n",
      "Epoch 25/100\n",
      "242/242 [==============================] - 0s 614us/step - loss: 0.3964 - val_loss: 0.3825\n",
      "Epoch 26/100\n",
      "242/242 [==============================] - 0s 602us/step - loss: 0.3922 - val_loss: 0.3961\n",
      "Epoch 27/100\n",
      "242/242 [==============================] - 0s 615us/step - loss: 0.3895 - val_loss: 0.3724\n",
      "Epoch 28/100\n",
      "242/242 [==============================] - 0s 614us/step - loss: 0.3865 - val_loss: 0.4006\n",
      "Epoch 29/100\n",
      "242/242 [==============================] - 0s 606us/step - loss: 0.3838 - val_loss: 0.3644\n",
      "Epoch 30/100\n",
      "242/242 [==============================] - 0s 618us/step - loss: 0.3806 - val_loss: 0.4262\n",
      "Epoch 31/100\n",
      "242/242 [==============================] - 0s 613us/step - loss: 0.3789 - val_loss: 0.3872\n",
      "Epoch 32/100\n",
      "242/242 [==============================] - 0s 618us/step - loss: 0.3763 - val_loss: 0.3896\n",
      "Epoch 33/100\n",
      "242/242 [==============================] - 0s 606us/step - loss: 0.3743 - val_loss: 0.3814\n",
      "Epoch 34/100\n",
      "242/242 [==============================] - 0s 606us/step - loss: 0.3720 - val_loss: 0.4673\n",
      "Epoch 35/100\n",
      "242/242 [==============================] - 0s 614us/step - loss: 0.3714 - val_loss: 0.3558\n",
      "Epoch 36/100\n",
      "242/242 [==============================] - 0s 614us/step - loss: 0.3682 - val_loss: 0.4288\n",
      "Epoch 37/100\n",
      "242/242 [==============================] - 0s 618us/step - loss: 0.3672 - val_loss: 0.3508\n",
      "Epoch 38/100\n",
      "242/242 [==============================] - 0s 614us/step - loss: 0.3648 - val_loss: 0.3617\n",
      "Epoch 39/100\n",
      "242/242 [==============================] - 0s 585us/step - loss: 0.3632 - val_loss: 0.3501\n",
      "Epoch 40/100\n",
      "242/242 [==============================] - 0s 606us/step - loss: 0.3616 - val_loss: 0.4700\n",
      "Epoch 41/100\n",
      "242/242 [==============================] - 0s 602us/step - loss: 0.3615 - val_loss: 0.3538\n",
      "Epoch 42/100\n",
      "242/242 [==============================] - 0s 598us/step - loss: 0.3589 - val_loss: 0.4337\n",
      "Epoch 43/100\n",
      "242/242 [==============================] - 0s 602us/step - loss: 0.3582 - val_loss: 0.3588\n",
      "Epoch 44/100\n",
      "242/242 [==============================] - 0s 606us/step - loss: 0.3565 - val_loss: 0.3571\n",
      "Epoch 45/100\n",
      "242/242 [==============================] - 0s 610us/step - loss: 0.3558 - val_loss: 0.3497\n",
      "Epoch 46/100\n",
      "242/242 [==============================] - 0s 602us/step - loss: 0.3540 - val_loss: 0.3427\n",
      "Epoch 47/100\n",
      "242/242 [==============================] - 0s 618us/step - loss: 0.3535 - val_loss: 0.3496\n",
      "Epoch 48/100\n",
      "242/242 [==============================] - 0s 610us/step - loss: 0.3521 - val_loss: 0.3436\n",
      "Epoch 49/100\n",
      "242/242 [==============================] - 0s 612us/step - loss: 0.3511 - val_loss: 0.4193\n",
      "Epoch 50/100\n",
      "242/242 [==============================] - 0s 614us/step - loss: 0.3513 - val_loss: 0.3373\n",
      "Epoch 51/100\n",
      "242/242 [==============================] - 0s 618us/step - loss: 0.3492 - val_loss: 0.4363\n",
      "Epoch 52/100\n",
      "242/242 [==============================] - 0s 614us/step - loss: 0.3500 - val_loss: 0.3405\n",
      "Epoch 53/100\n",
      "242/242 [==============================] - 0s 606us/step - loss: 0.3476 - val_loss: 0.4010\n",
      "Epoch 54/100\n",
      "242/242 [==============================] - 0s 614us/step - loss: 0.3481 - val_loss: 0.3436\n",
      "Epoch 55/100\n",
      "242/242 [==============================] - 0s 610us/step - loss: 0.3459 - val_loss: 0.5003\n",
      "Epoch 56/100\n",
      "242/242 [==============================] - 0s 589us/step - loss: 0.3479 - val_loss: 0.3419\n",
      "Epoch 57/100\n",
      "242/242 [==============================] - 0s 614us/step - loss: 0.3450 - val_loss: 0.3513\n",
      "Epoch 58/100\n",
      "242/242 [==============================] - 0s 618us/step - loss: 0.3440 - val_loss: 0.3320\n",
      "Epoch 59/100\n",
      "242/242 [==============================] - 0s 618us/step - loss: 0.3431 - val_loss: 0.3329\n",
      "Epoch 60/100\n",
      "242/242 [==============================] - 0s 606us/step - loss: 0.3425 - val_loss: 0.4614\n",
      "Epoch 61/100\n",
      "242/242 [==============================] - 0s 614us/step - loss: 0.3422 - val_loss: 0.3631\n",
      "Epoch 62/100\n",
      "242/242 [==============================] - 0s 610us/step - loss: 0.3417 - val_loss: 0.5731\n",
      "Epoch 63/100\n",
      "242/242 [==============================] - 0s 610us/step - loss: 0.3422 - val_loss: 0.3297\n",
      "Epoch 64/100\n",
      "242/242 [==============================] - 0s 610us/step - loss: 0.3396 - val_loss: 0.3558\n",
      "Epoch 65/100\n",
      "242/242 [==============================] - 0s 618us/step - loss: 0.3398 - val_loss: 0.3548\n",
      "Epoch 66/100\n",
      "242/242 [==============================] - 0s 585us/step - loss: 0.3390 - val_loss: 0.3571\n",
      "Epoch 67/100\n",
      "242/242 [==============================] - 0s 581us/step - loss: 0.3376 - val_loss: 0.3764\n",
      "Epoch 68/100\n",
      "242/242 [==============================] - 0s 614us/step - loss: 0.3380 - val_loss: 0.3315\n",
      "Epoch 69/100\n",
      "242/242 [==============================] - 0s 585us/step - loss: 0.3372 - val_loss: 0.3487\n",
      "Epoch 70/100\n",
      "242/242 [==============================] - 0s 581us/step - loss: 0.3355 - val_loss: 0.4303\n",
      "Epoch 71/100\n",
      "242/242 [==============================] - 0s 585us/step - loss: 0.3363 - val_loss: 0.3733\n",
      "Epoch 72/100\n",
      "242/242 [==============================] - 0s 598us/step - loss: 0.3350 - val_loss: 0.3332\n",
      "Epoch 73/100\n",
      "242/242 [==============================] - 0s 585us/step - loss: 0.3349 - val_loss: 0.3244\n",
      "Epoch 74/100\n",
      "242/242 [==============================] - 0s 585us/step - loss: 0.3338 - val_loss: 0.3349\n",
      "Epoch 75/100\n",
      "242/242 [==============================] - 0s 602us/step - loss: 0.3343 - val_loss: 0.3341\n",
      "Epoch 76/100\n",
      "242/242 [==============================] - 0s 598us/step - loss: 0.3331 - val_loss: 0.3457\n",
      "Epoch 77/100\n",
      "242/242 [==============================] - 0s 614us/step - loss: 0.3323 - val_loss: 0.3575\n",
      "Epoch 78/100\n",
      "242/242 [==============================] - 0s 585us/step - loss: 0.3315 - val_loss: 0.3609\n",
      "Epoch 79/100\n",
      "242/242 [==============================] - 0s 606us/step - loss: 0.3315 - val_loss: 0.3275\n"
     ]
    },
    {
     "name": "stdout",
     "output_type": "stream",
     "text": [
      "Epoch 80/100\n",
      "242/242 [==============================] - 0s 577us/step - loss: 0.3301 - val_loss: 0.4465\n",
      "Epoch 81/100\n",
      "242/242 [==============================] - 0s 573us/step - loss: 0.3311 - val_loss: 0.3236\n",
      "Epoch 82/100\n",
      "242/242 [==============================] - 0s 606us/step - loss: 0.3300 - val_loss: 0.3394\n",
      "Epoch 83/100\n",
      "242/242 [==============================] - 0s 599us/step - loss: 0.3293 - val_loss: 0.3220\n",
      "Epoch 84/100\n",
      "242/242 [==============================] - 0s 610us/step - loss: 0.3289 - val_loss: 0.3266\n",
      "Epoch 85/100\n",
      "242/242 [==============================] - 0s 602us/step - loss: 0.3286 - val_loss: 0.3221\n",
      "Epoch 86/100\n",
      "242/242 [==============================] - 0s 602us/step - loss: 0.3278 - val_loss: 0.3351\n",
      "Epoch 87/100\n",
      "242/242 [==============================] - 0s 602us/step - loss: 0.3275 - val_loss: 0.3540\n",
      "Epoch 88/100\n",
      "242/242 [==============================] - 0s 598us/step - loss: 0.3266 - val_loss: 0.3968\n",
      "Epoch 89/100\n",
      "242/242 [==============================] - 0s 581us/step - loss: 0.3259 - val_loss: 0.3394\n",
      "Epoch 90/100\n",
      "242/242 [==============================] - 0s 577us/step - loss: 0.3254 - val_loss: 0.3775\n",
      "Epoch 91/100\n",
      "242/242 [==============================] - 0s 602us/step - loss: 0.3251 - val_loss: 0.4113\n",
      "Epoch 92/100\n",
      "242/242 [==============================] - 0s 581us/step - loss: 0.3259 - val_loss: 0.3193\n",
      "Epoch 93/100\n",
      "242/242 [==============================] - 0s 606us/step - loss: 0.3244 - val_loss: 0.4039\n",
      "Epoch 94/100\n",
      "242/242 [==============================] - 0s 606us/step - loss: 0.3253 - val_loss: 0.3193\n",
      "Epoch 95/100\n",
      "242/242 [==============================] - 0s 585us/step - loss: 0.3242 - val_loss: 0.3175\n",
      "Epoch 96/100\n",
      "242/242 [==============================] - 0s 585us/step - loss: 0.3232 - val_loss: 0.3626\n",
      "Epoch 97/100\n",
      "242/242 [==============================] - 0s 610us/step - loss: 0.3236 - val_loss: 0.3306\n",
      "Epoch 98/100\n",
      "242/242 [==============================] - 0s 585us/step - loss: 0.3223 - val_loss: 0.3182\n",
      "Epoch 99/100\n",
      "242/242 [==============================] - 0s 610us/step - loss: 0.3221 - val_loss: 0.3324\n",
      "Epoch 100/100\n",
      "242/242 [==============================] - 0s 610us/step - loss: 0.3216 - val_loss: 0.3233\n",
      "121/121 [==============================] - 0s 342us/step - loss: 0.3303\n",
      "[CV] END learning_rate=0.0011587711178708176, n_hidden=3, n_neurons=40; total time=  15.2s\n",
      "Epoch 1/100\n"
     ]
    },
    {
     "name": "stderr",
     "output_type": "stream",
     "text": [
      "C:\\Users\\anpdi\\anaconda3\\lib\\site-packages\\tensorflow\\python\\keras\\optimizer_v2\\optimizer_v2.py:374: UserWarning: The `lr` argument is deprecated, use `learning_rate` instead.\n",
      "  warnings.warn(\n"
     ]
    },
    {
     "name": "stdout",
     "output_type": "stream",
     "text": [
      "242/242 [==============================] - 0s 979us/step - loss: 1.1003 - val_loss: 11.4733\n",
      "Epoch 2/100\n",
      "242/242 [==============================] - 0s 672us/step - loss: 0.6576 - val_loss: 5.1121\n",
      "Epoch 3/100\n",
      "242/242 [==============================] - 0s 685us/step - loss: 0.5167 - val_loss: 0.4830\n",
      "Epoch 4/100\n",
      "242/242 [==============================] - 0s 685us/step - loss: 0.4187 - val_loss: 0.4206\n",
      "Epoch 5/100\n",
      "242/242 [==============================] - 0s 672us/step - loss: 0.3907 - val_loss: 0.4579\n",
      "Epoch 6/100\n",
      "242/242 [==============================] - 0s 681us/step - loss: 0.3758 - val_loss: 0.3589\n",
      "Epoch 7/100\n",
      "242/242 [==============================] - 0s 681us/step - loss: 0.3663 - val_loss: 0.4563\n",
      "Epoch 8/100\n",
      "242/242 [==============================] - 0s 672us/step - loss: 0.3594 - val_loss: 0.4158\n",
      "Epoch 9/100\n",
      "242/242 [==============================] - 0s 676us/step - loss: 0.3530 - val_loss: 0.3940\n",
      "Epoch 10/100\n",
      "242/242 [==============================] - 0s 685us/step - loss: 0.3478 - val_loss: 0.3369\n",
      "Epoch 11/100\n",
      "242/242 [==============================] - 0s 676us/step - loss: 0.3434 - val_loss: 0.3530\n",
      "Epoch 12/100\n",
      "242/242 [==============================] - 0s 676us/step - loss: 0.3393 - val_loss: 0.3487\n",
      "Epoch 13/100\n",
      "242/242 [==============================] - 0s 685us/step - loss: 0.3368 - val_loss: 0.3581\n",
      "Epoch 14/100\n",
      "242/242 [==============================] - 0s 672us/step - loss: 0.3326 - val_loss: 0.3852\n",
      "Epoch 15/100\n",
      "242/242 [==============================] - 0s 685us/step - loss: 0.3308 - val_loss: 0.3417\n",
      "Epoch 16/100\n",
      "242/242 [==============================] - 0s 689us/step - loss: 0.3280 - val_loss: 0.3959\n",
      "Epoch 17/100\n",
      "242/242 [==============================] - 0s 681us/step - loss: 0.3261 - val_loss: 0.3245\n",
      "Epoch 18/100\n",
      "242/242 [==============================] - 0s 681us/step - loss: 0.3223 - val_loss: 0.4177\n",
      "Epoch 19/100\n",
      "242/242 [==============================] - 0s 685us/step - loss: 0.3223 - val_loss: 0.3217\n",
      "Epoch 20/100\n",
      "242/242 [==============================] - 0s 676us/step - loss: 0.3186 - val_loss: 0.3952\n",
      "Epoch 21/100\n",
      "242/242 [==============================] - 0s 668us/step - loss: 0.3178 - val_loss: 0.3483\n",
      "Epoch 22/100\n",
      "242/242 [==============================] - 0s 676us/step - loss: 0.3145 - val_loss: 0.3927\n",
      "Epoch 23/100\n",
      "242/242 [==============================] - 0s 681us/step - loss: 0.3136 - val_loss: 0.3103\n",
      "Epoch 24/100\n",
      "242/242 [==============================] - 0s 676us/step - loss: 0.3123 - val_loss: 0.3334\n",
      "Epoch 25/100\n",
      "242/242 [==============================] - 0s 676us/step - loss: 0.3103 - val_loss: 0.3240\n",
      "Epoch 26/100\n",
      "242/242 [==============================] - 0s 681us/step - loss: 0.3068 - val_loss: 0.3348\n",
      "Epoch 27/100\n",
      "242/242 [==============================] - 0s 674us/step - loss: 0.3065 - val_loss: 0.3117\n",
      "Epoch 28/100\n",
      "242/242 [==============================] - 0s 685us/step - loss: 0.3045 - val_loss: 0.3279\n",
      "Epoch 29/100\n",
      "242/242 [==============================] - 0s 681us/step - loss: 0.3021 - val_loss: 0.4434\n",
      "Epoch 30/100\n",
      "242/242 [==============================] - 0s 668us/step - loss: 0.3020 - val_loss: 0.3096\n",
      "Epoch 31/100\n",
      "242/242 [==============================] - 0s 664us/step - loss: 0.3020 - val_loss: 0.3132\n",
      "Epoch 32/100\n",
      "242/242 [==============================] - 0s 668us/step - loss: 0.2983 - val_loss: 0.3209\n",
      "Epoch 33/100\n",
      "242/242 [==============================] - 0s 676us/step - loss: 0.2962 - val_loss: 0.3082\n",
      "Epoch 34/100\n",
      "242/242 [==============================] - 0s 714us/step - loss: 0.2965 - val_loss: 0.3756\n",
      "Epoch 35/100\n",
      "242/242 [==============================] - 0s 693us/step - loss: 0.2939 - val_loss: 0.3190\n",
      "Epoch 36/100\n",
      "242/242 [==============================] - 0s 776us/step - loss: 0.2925 - val_loss: 0.2972\n",
      "Epoch 37/100\n",
      "242/242 [==============================] - 0s 722us/step - loss: 0.2907 - val_loss: 0.4108\n",
      "Epoch 38/100\n",
      "242/242 [==============================] - 0s 851us/step - loss: 0.2911 - val_loss: 0.2958\n",
      "Epoch 39/100\n",
      "242/242 [==============================] - 0s 755us/step - loss: 0.2888 - val_loss: 0.3388\n",
      "Epoch 40/100\n",
      "242/242 [==============================] - 0s 764us/step - loss: 0.2874 - val_loss: 0.3150\n",
      "Epoch 41/100\n",
      "242/242 [==============================] - 0s 664us/step - loss: 0.2871 - val_loss: 0.2984\n",
      "Epoch 42/100\n",
      "242/242 [==============================] - 0s 693us/step - loss: 0.2855 - val_loss: 0.3243\n",
      "Epoch 43/100\n",
      "242/242 [==============================] - 0s 648us/step - loss: 0.2850 - val_loss: 0.2939\n",
      "Epoch 44/100\n",
      "242/242 [==============================] - 0s 652us/step - loss: 0.2842 - val_loss: 0.3843\n",
      "Epoch 45/100\n",
      "242/242 [==============================] - 0s 672us/step - loss: 0.2847 - val_loss: 0.2915\n",
      "Epoch 46/100\n",
      "242/242 [==============================] - 0s 718us/step - loss: 0.2823 - val_loss: 0.3988\n",
      "Epoch 47/100\n",
      "242/242 [==============================] - 0s 689us/step - loss: 0.2816 - val_loss: 0.3098\n",
      "Epoch 48/100\n",
      "242/242 [==============================] - 0s 656us/step - loss: 0.2810 - val_loss: 0.3635\n",
      "Epoch 49/100\n",
      "242/242 [==============================] - 0s 660us/step - loss: 0.2792 - val_loss: 0.2829\n",
      "Epoch 50/100\n",
      "242/242 [==============================] - 0s 710us/step - loss: 0.2787 - val_loss: 0.3841\n",
      "Epoch 51/100\n",
      "242/242 [==============================] - 0s 660us/step - loss: 0.2781 - val_loss: 0.2927\n",
      "Epoch 52/100\n",
      "242/242 [==============================] - 0s 721us/step - loss: 0.2770 - val_loss: 0.3431\n",
      "Epoch 53/100\n",
      "242/242 [==============================] - 0s 706us/step - loss: 0.2778 - val_loss: 0.2817\n",
      "Epoch 54/100\n",
      "242/242 [==============================] - 0s 722us/step - loss: 0.2733 - val_loss: 0.3538\n",
      "Epoch 55/100\n",
      "242/242 [==============================] - 0s 672us/step - loss: 0.2743 - val_loss: 0.2968\n",
      "Epoch 56/100\n",
      "242/242 [==============================] - 0s 672us/step - loss: 0.2719 - val_loss: 0.4027\n",
      "Epoch 57/100\n",
      "242/242 [==============================] - 0s 676us/step - loss: 0.2728 - val_loss: 0.3744\n",
      "Epoch 58/100\n",
      "242/242 [==============================] - 0s 708us/step - loss: 0.2733 - val_loss: 0.3831\n",
      "Epoch 59/100\n",
      "242/242 [==============================] - 0s 768us/step - loss: 0.2713 - val_loss: 0.3096\n",
      "Epoch 60/100\n",
      "242/242 [==============================] - 0s 676us/step - loss: 0.2696 - val_loss: 0.5007\n",
      "Epoch 61/100\n",
      "242/242 [==============================] - 0s 730us/step - loss: 0.2709 - val_loss: 0.2984\n",
      "Epoch 62/100\n",
      "242/242 [==============================] - 0s 697us/step - loss: 0.2699 - val_loss: 0.4290\n",
      "Epoch 63/100\n",
      "242/242 [==============================] - 0s 697us/step - loss: 0.2680 - val_loss: 0.2871\n",
      "121/121 [==============================] - 0s 383us/step - loss: 0.3238\n",
      "[CV] END learning_rate=0.004633158448989678, n_hidden=3, n_neurons=98; total time=  10.9s\n"
     ]
    },
    {
     "name": "stderr",
     "output_type": "stream",
     "text": [
      "C:\\Users\\anpdi\\anaconda3\\lib\\site-packages\\tensorflow\\python\\keras\\optimizer_v2\\optimizer_v2.py:374: UserWarning: The `lr` argument is deprecated, use `learning_rate` instead.\n",
      "  warnings.warn(\n"
     ]
    },
    {
     "name": "stdout",
     "output_type": "stream",
     "text": [
      "Epoch 1/100\n",
      "242/242 [==============================] - 0s 963us/step - loss: 1.0446 - val_loss: 2.6113\n",
      "Epoch 2/100\n",
      "242/242 [==============================] - 0s 672us/step - loss: 0.5373 - val_loss: 0.6699\n",
      "Epoch 3/100\n",
      "242/242 [==============================] - 0s 672us/step - loss: 0.4499 - val_loss: 0.3994\n",
      "Epoch 4/100\n",
      "242/242 [==============================] - 0s 676us/step - loss: 0.4040 - val_loss: 0.3714\n",
      "Epoch 5/100\n",
      "242/242 [==============================] - 0s 685us/step - loss: 0.3868 - val_loss: 0.4203\n",
      "Epoch 6/100\n",
      "242/242 [==============================] - 0s 720us/step - loss: 0.3735 - val_loss: 0.5714\n",
      "Epoch 7/100\n",
      "242/242 [==============================] - 0s 714us/step - loss: 0.3636 - val_loss: 0.5616\n",
      "Epoch 8/100\n",
      "242/242 [==============================] - 0s 730us/step - loss: 0.3586 - val_loss: 0.6972\n",
      "Epoch 9/100\n",
      "242/242 [==============================] - 0s 697us/step - loss: 0.3547 - val_loss: 0.7454\n",
      "Epoch 10/100\n",
      "242/242 [==============================] - 0s 675us/step - loss: 0.3505 - val_loss: 0.8409\n",
      "Epoch 11/100\n",
      "242/242 [==============================] - 0s 664us/step - loss: 0.3465 - val_loss: 0.8731\n",
      "Epoch 12/100\n",
      "242/242 [==============================] - 0s 714us/step - loss: 0.3436 - val_loss: 0.9039\n",
      "Epoch 13/100\n",
      "242/242 [==============================] - 0s 697us/step - loss: 0.3399 - val_loss: 0.6574\n",
      "Epoch 14/100\n",
      "242/242 [==============================] - 0s 697us/step - loss: 0.3363 - val_loss: 0.8164\n",
      "121/121 [==============================] - 0s 367us/step - loss: 0.3603\n",
      "[CV] END learning_rate=0.004633158448989678, n_hidden=3, n_neurons=98; total time=   2.9s\n",
      "Epoch 1/100\n"
     ]
    },
    {
     "name": "stderr",
     "output_type": "stream",
     "text": [
      "C:\\Users\\anpdi\\anaconda3\\lib\\site-packages\\tensorflow\\python\\keras\\optimizer_v2\\optimizer_v2.py:374: UserWarning: The `lr` argument is deprecated, use `learning_rate` instead.\n",
      "  warnings.warn(\n"
     ]
    },
    {
     "name": "stdout",
     "output_type": "stream",
     "text": [
      "242/242 [==============================] - 0s 992us/step - loss: 0.9770 - val_loss: 2.2370\n",
      "Epoch 2/100\n",
      "242/242 [==============================] - 0s 672us/step - loss: 0.4834 - val_loss: 1.1238\n",
      "Epoch 3/100\n",
      "242/242 [==============================] - 0s 660us/step - loss: 0.4207 - val_loss: 0.3692\n",
      "Epoch 4/100\n",
      "242/242 [==============================] - 0s 672us/step - loss: 0.3927 - val_loss: 0.4080\n",
      "Epoch 5/100\n",
      "242/242 [==============================] - 0s 693us/step - loss: 0.3799 - val_loss: 0.4280\n",
      "Epoch 6/100\n",
      "242/242 [==============================] - 0s 689us/step - loss: 0.3705 - val_loss: 0.3458\n",
      "Epoch 7/100\n",
      "242/242 [==============================] - 0s 681us/step - loss: 0.3690 - val_loss: 0.3715\n",
      "Epoch 8/100\n",
      "242/242 [==============================] - 0s 685us/step - loss: 0.3598 - val_loss: 0.3567\n",
      "Epoch 9/100\n",
      "242/242 [==============================] - 0s 664us/step - loss: 0.3521 - val_loss: 0.4355\n",
      "Epoch 10/100\n",
      "242/242 [==============================] - 0s 677us/step - loss: 0.3490 - val_loss: 0.3290\n",
      "Epoch 11/100\n",
      "242/242 [==============================] - 0s 668us/step - loss: 0.3433 - val_loss: 0.3737\n",
      "Epoch 12/100\n",
      "242/242 [==============================] - 0s 676us/step - loss: 0.3408 - val_loss: 0.3441\n",
      "Epoch 13/100\n",
      "242/242 [==============================] - 0s 681us/step - loss: 0.3377 - val_loss: 0.5061\n",
      "Epoch 14/100\n",
      "242/242 [==============================] - 0s 718us/step - loss: 0.3367 - val_loss: 0.3213\n",
      "Epoch 15/100\n",
      "242/242 [==============================] - 0s 672us/step - loss: 0.3323 - val_loss: 0.4254\n",
      "Epoch 16/100\n",
      "242/242 [==============================] - 0s 672us/step - loss: 0.3300 - val_loss: 0.3897\n",
      "Epoch 17/100\n",
      "242/242 [==============================] - 0s 781us/step - loss: 0.3271 - val_loss: 0.3376\n",
      "Epoch 18/100\n",
      "242/242 [==============================] - 0s 701us/step - loss: 0.3264 - val_loss: 0.3109\n",
      "Epoch 19/100\n",
      "242/242 [==============================] - 0s 672us/step - loss: 0.3218 - val_loss: 0.3706\n",
      "Epoch 20/100\n",
      "242/242 [==============================] - 0s 689us/step - loss: 0.3226 - val_loss: 0.4157\n",
      "Epoch 21/100\n",
      "242/242 [==============================] - 0s 668us/step - loss: 0.3221 - val_loss: 0.3486\n",
      "Epoch 22/100\n",
      "242/242 [==============================] - 0s 672us/step - loss: 0.3189 - val_loss: 0.3330\n",
      "Epoch 23/100\n",
      "242/242 [==============================] - 0s 668us/step - loss: 0.3164 - val_loss: 0.3172\n",
      "Epoch 24/100\n",
      "242/242 [==============================] - 0s 668us/step - loss: 0.3148 - val_loss: 0.3543\n",
      "Epoch 25/100\n",
      "242/242 [==============================] - 0s 656us/step - loss: 0.3134 - val_loss: 0.3142\n",
      "Epoch 26/100\n",
      "242/242 [==============================] - 0s 685us/step - loss: 0.3096 - val_loss: 0.3078\n",
      "Epoch 27/100\n",
      "242/242 [==============================] - 0s 735us/step - loss: 0.3103 - val_loss: 0.3136\n",
      "Epoch 28/100\n",
      "242/242 [==============================] - 0s 710us/step - loss: 0.3085 - val_loss: 0.3276\n",
      "Epoch 29/100\n",
      "242/242 [==============================] - 0s 722us/step - loss: 0.3047 - val_loss: 0.3013\n",
      "Epoch 30/100\n",
      "242/242 [==============================] - 0s 730us/step - loss: 0.3041 - val_loss: 0.4252\n",
      "Epoch 31/100\n",
      "242/242 [==============================] - 0s 714us/step - loss: 0.3050 - val_loss: 0.3039\n",
      "Epoch 32/100\n",
      "242/242 [==============================] - 0s 718us/step - loss: 0.3019 - val_loss: 0.3705\n",
      "Epoch 33/100\n",
      "242/242 [==============================] - 0s 701us/step - loss: 0.3023 - val_loss: 0.2935\n",
      "Epoch 34/100\n",
      "242/242 [==============================] - 0s 739us/step - loss: 0.2984 - val_loss: 0.3846\n",
      "Epoch 35/100\n",
      "242/242 [==============================] - 0s 739us/step - loss: 0.2987 - val_loss: 0.3001\n",
      "Epoch 36/100\n",
      "242/242 [==============================] - 0s 760us/step - loss: 0.2960 - val_loss: 0.3408\n",
      "Epoch 37/100\n",
      "242/242 [==============================] - 0s 780us/step - loss: 0.2958 - val_loss: 0.2918\n",
      "Epoch 38/100\n",
      "242/242 [==============================] - 0s 751us/step - loss: 0.2944 - val_loss: 0.3814\n",
      "Epoch 39/100\n",
      "242/242 [==============================] - 0s 743us/step - loss: 0.2930 - val_loss: 0.3004\n",
      "Epoch 40/100\n",
      "242/242 [==============================] - 0s 793us/step - loss: 0.2920 - val_loss: 0.4726\n",
      "Epoch 41/100\n",
      "242/242 [==============================] - 0s 747us/step - loss: 0.2936 - val_loss: 0.6583\n",
      "Epoch 42/100\n",
      "242/242 [==============================] - 0s 685us/step - loss: 0.2948 - val_loss: 0.7079\n",
      "Epoch 43/100\n",
      "242/242 [==============================] - 0s 685us/step - loss: 0.2955 - val_loss: 0.3514\n",
      "Epoch 44/100\n",
      "242/242 [==============================] - 0s 722us/step - loss: 0.2902 - val_loss: 0.5274\n",
      "Epoch 45/100\n",
      "242/242 [==============================] - 0s 718us/step - loss: 0.2906 - val_loss: 0.3253\n",
      "Epoch 46/100\n",
      "242/242 [==============================] - 0s 697us/step - loss: 0.2866 - val_loss: 0.3216\n",
      "Epoch 47/100\n",
      "242/242 [==============================] - 0s 760us/step - loss: 0.2851 - val_loss: 0.3265\n",
      "121/121 [==============================] - 0s 383us/step - loss: 0.3013\n",
      "[CV] END learning_rate=0.004633158448989678, n_hidden=3, n_neurons=98; total time=   8.4s\n",
      "Epoch 1/100\n",
      "363/363 [==============================] - 1s 873us/step - loss: 0.8698 - val_loss: 2.3043\n",
      "Epoch 2/100\n",
      "363/363 [==============================] - 0s 619us/step - loss: 0.4709 - val_loss: 1.8981\n",
      "Epoch 3/100\n",
      "363/363 [==============================] - 0s 619us/step - loss: 0.4125 - val_loss: 0.5889\n",
      "Epoch 4/100\n",
      "363/363 [==============================] - 0s 619us/step - loss: 0.3804 - val_loss: 0.4142\n",
      "Epoch 5/100\n",
      "363/363 [==============================] - 0s 616us/step - loss: 0.3639 - val_loss: 0.3813\n",
      "Epoch 6/100\n",
      "363/363 [==============================] - 0s 611us/step - loss: 0.3568 - val_loss: 0.4249\n",
      "Epoch 7/100\n",
      "363/363 [==============================] - 0s 608us/step - loss: 0.3517 - val_loss: 0.3285\n",
      "Epoch 8/100\n",
      "363/363 [==============================] - 0s 611us/step - loss: 0.3443 - val_loss: 0.4200\n",
      "Epoch 9/100\n",
      "363/363 [==============================] - 0s 608us/step - loss: 0.3417 - val_loss: 0.4674\n",
      "Epoch 10/100\n",
      "363/363 [==============================] - 0s 613us/step - loss: 0.3376 - val_loss: 0.3352\n",
      "Epoch 11/100\n",
      "363/363 [==============================] - 0s 613us/step - loss: 0.3334 - val_loss: 0.3266\n",
      "Epoch 12/100\n",
      "363/363 [==============================] - 0s 611us/step - loss: 0.3283 - val_loss: 0.3551\n",
      "Epoch 13/100\n",
      "363/363 [==============================] - 0s 605us/step - loss: 0.3264 - val_loss: 0.3795\n",
      "Epoch 14/100\n",
      "363/363 [==============================] - 0s 616us/step - loss: 0.3221 - val_loss: 0.3674\n",
      "Epoch 15/100\n",
      "363/363 [==============================] - 0s 608us/step - loss: 0.3194 - val_loss: 0.4675\n",
      "Epoch 16/100\n",
      "363/363 [==============================] - 0s 613us/step - loss: 0.3206 - val_loss: 0.3524\n",
      "Epoch 17/100\n",
      "363/363 [==============================] - 0s 611us/step - loss: 0.3139 - val_loss: 0.3742\n",
      "Epoch 18/100\n",
      "363/363 [==============================] - 0s 611us/step - loss: 0.3119 - val_loss: 0.3645\n",
      "Epoch 19/100\n",
      "363/363 [==============================] - 0s 611us/step - loss: 0.3105 - val_loss: 0.3212\n",
      "Epoch 20/100\n",
      "363/363 [==============================] - 0s 611us/step - loss: 0.3083 - val_loss: 0.3266\n",
      "Epoch 21/100\n",
      "363/363 [==============================] - 0s 624us/step - loss: 0.3057 - val_loss: 0.3883\n",
      "Epoch 22/100\n",
      "363/363 [==============================] - 0s 609us/step - loss: 0.3057 - val_loss: 0.3004\n",
      "Epoch 23/100\n",
      "363/363 [==============================] - 0s 611us/step - loss: 0.3031 - val_loss: 0.2947\n",
      "Epoch 24/100\n",
      "363/363 [==============================] - 0s 606us/step - loss: 0.3011 - val_loss: 0.4210\n",
      "Epoch 25/100\n",
      "363/363 [==============================] - 0s 613us/step - loss: 0.3021 - val_loss: 0.5314\n",
      "Epoch 26/100\n",
      "363/363 [==============================] - 0s 611us/step - loss: 0.3008 - val_loss: 0.7953\n",
      "Epoch 27/100\n",
      "363/363 [==============================] - 0s 608us/step - loss: 0.3002 - val_loss: 0.3583\n",
      "Epoch 28/100\n",
      "363/363 [==============================] - 0s 608us/step - loss: 0.2947 - val_loss: 0.4285\n",
      "Epoch 29/100\n",
      "363/363 [==============================] - 0s 616us/step - loss: 0.2931 - val_loss: 0.2847\n",
      "Epoch 30/100\n",
      "363/363 [==============================] - 0s 616us/step - loss: 0.2912 - val_loss: 0.2952\n",
      "Epoch 31/100\n"
     ]
    },
    {
     "name": "stdout",
     "output_type": "stream",
     "text": [
      "363/363 [==============================] - 0s 611us/step - loss: 0.2890 - val_loss: 0.2999\n",
      "Epoch 32/100\n",
      "363/363 [==============================] - 0s 602us/step - loss: 0.2894 - val_loss: 0.3783\n",
      "Epoch 33/100\n",
      "363/363 [==============================] - 0s 626us/step - loss: 0.2880 - val_loss: 0.4138\n",
      "Epoch 34/100\n",
      "363/363 [==============================] - 0s 649us/step - loss: 0.2882 - val_loss: 0.3200\n",
      "Epoch 35/100\n",
      "363/363 [==============================] - 0s 644us/step - loss: 0.2850 - val_loss: 0.3692\n",
      "Epoch 36/100\n",
      "363/363 [==============================] - 0s 600us/step - loss: 0.2832 - val_loss: 0.3018\n",
      "Epoch 37/100\n",
      "363/363 [==============================] - 0s 594us/step - loss: 0.2821 - val_loss: 0.2937\n",
      "Epoch 38/100\n",
      "363/363 [==============================] - 0s 600us/step - loss: 0.2805 - val_loss: 0.2854\n",
      "Epoch 39/100\n",
      "363/363 [==============================] - 0s 605us/step - loss: 0.2791 - val_loss: 0.3158\n"
     ]
    },
    {
     "data": {
      "text/plain": [
       "RandomizedSearchCV(cv=3,\n",
       "                   estimator=<tensorflow.python.keras.wrappers.scikit_learn.KerasRegressor object at 0x00000214B5D6FB80>,\n",
       "                   param_distributions={'learning_rate': <scipy.stats._distn_infrastructure.rv_frozen object at 0x00000214B5CC9EB0>,\n",
       "                                        'n_hidden': [0, 1, 2, 3],\n",
       "                                        'n_neurons': array([ 1,  2,  3,  4,  5,  6,  7,  8,  9, 10, 11, 12, 13, 14, 15, 16, 17,\n",
       "       18, 19, 20, 21, 22, 23, 24, 25, 26, 27, 28, 29, 30, 31, 32, 33, 34,\n",
       "       35, 36, 37, 38, 39, 40, 41, 42, 43, 44, 45, 46, 47, 48, 49, 50, 51,\n",
       "       52, 53, 54, 55, 56, 57, 58, 59, 60, 61, 62, 63, 64, 65, 66, 67, 68,\n",
       "       69, 70, 71, 72, 73, 74, 75, 76, 77, 78, 79, 80, 81, 82, 83, 84, 85,\n",
       "       86, 87, 88, 89, 90, 91, 92, 93, 94, 95, 96, 97, 98, 99])},\n",
       "                   verbose=2)"
      ]
     },
     "execution_count": 68,
     "metadata": {},
     "output_type": "execute_result"
    }
   ],
   "source": [
    "from scipy.stats import reciprocal\n",
    "from sklearn.model_selection import RandomizedSearchCV\n",
    "\n",
    "param_distribs = {\n",
    "    \"n_hidden\": [0, 1, 2, 3],\n",
    "    \"n_neurons\": np.arange(1, 100),\n",
    "    \"learning_rate\": reciprocal(3e-4, 3e-2),\n",
    "}\n",
    "\n",
    "rnd_search_cv = RandomizedSearchCV(keras_reg, param_distribs, n_iter=10, cv=3, verbose=2)\n",
    "rnd_search_cv.fit(X_train, y_train, epochs=100,\n",
    "                  validation_data=(X_valid, y_valid),\n",
    "                  callbacks=[keras.callbacks.EarlyStopping(patience=10)])"
   ]
  },
  {
   "cell_type": "code",
   "execution_count": 69,
   "id": "762a8a89",
   "metadata": {},
   "outputs": [
    {
     "data": {
      "text/plain": [
       "{'learning_rate': 0.004633158448989678, 'n_hidden': 3, 'n_neurons': 98}"
      ]
     },
     "execution_count": 69,
     "metadata": {},
     "output_type": "execute_result"
    }
   ],
   "source": [
    "rnd_search_cv.best_params_"
   ]
  },
  {
   "cell_type": "code",
   "execution_count": 70,
   "id": "282fe302",
   "metadata": {},
   "outputs": [
    {
     "data": {
      "text/plain": [
       "-0.32845015327135724"
      ]
     },
     "execution_count": 70,
     "metadata": {},
     "output_type": "execute_result"
    }
   ],
   "source": [
    "rnd_search_cv.best_score_"
   ]
  },
  {
   "cell_type": "code",
   "execution_count": 71,
   "id": "bb0e0583",
   "metadata": {},
   "outputs": [
    {
     "data": {
      "text/plain": [
       "<tensorflow.python.keras.wrappers.scikit_learn.KerasRegressor at 0x214bec470a0>"
      ]
     },
     "execution_count": 71,
     "metadata": {},
     "output_type": "execute_result"
    }
   ],
   "source": [
    "rnd_search_cv.best_estimator_"
   ]
  },
  {
   "cell_type": "code",
   "execution_count": 72,
   "id": "a60f7604",
   "metadata": {},
   "outputs": [
    {
     "name": "stdout",
     "output_type": "stream",
     "text": [
      "162/162 [==============================] - 0s 360us/step - loss: 0.2998\n"
     ]
    },
    {
     "data": {
      "text/plain": [
       "-0.2998284697532654"
      ]
     },
     "execution_count": 72,
     "metadata": {},
     "output_type": "execute_result"
    }
   ],
   "source": [
    "rnd_search_cv.score(X_test, y_test)"
   ]
  },
  {
   "cell_type": "code",
   "execution_count": 73,
   "id": "a057b89d",
   "metadata": {},
   "outputs": [
    {
     "name": "stdout",
     "output_type": "stream",
     "text": [
      "162/162 [==============================] - 0s 379us/step - loss: 0.2998\n"
     ]
    },
    {
     "data": {
      "text/plain": [
       "0.2998284697532654"
      ]
     },
     "execution_count": 73,
     "metadata": {},
     "output_type": "execute_result"
    }
   ],
   "source": [
    "model = rnd_search_cv.best_estimator_.model\n",
    "model.evaluate(X_test, y_test)"
   ]
  },
  {
   "cell_type": "markdown",
   "id": "9353463b",
   "metadata": {},
   "source": [
    "## 연습문제 10\n",
    "Deep MLP를 MNIST 데이터셋에 훈련해보기"
   ]
  },
  {
   "cell_type": "code",
   "execution_count": 74,
   "id": "94b69462",
   "metadata": {},
   "outputs": [
    {
     "name": "stdout",
     "output_type": "stream",
     "text": [
      "Downloading data from https://storage.googleapis.com/tensorflow/tf-keras-datasets/mnist.npz\n",
      "11493376/11490434 [==============================] - 1s 0us/step\n"
     ]
    }
   ],
   "source": [
    "(X_train_full, y_train_full), (X_test, y_test) = keras.datasets.mnist.load_data()"
   ]
  },
  {
   "cell_type": "code",
   "execution_count": 75,
   "id": "ddd13ffe",
   "metadata": {},
   "outputs": [
    {
     "data": {
      "text/plain": [
       "(60000, 28, 28)"
      ]
     },
     "execution_count": 75,
     "metadata": {},
     "output_type": "execute_result"
    }
   ],
   "source": [
    "X_train_full.shape"
   ]
  },
  {
   "cell_type": "code",
   "execution_count": 76,
   "id": "0c439827",
   "metadata": {},
   "outputs": [
    {
     "data": {
      "text/plain": [
       "dtype('uint8')"
      ]
     },
     "execution_count": 76,
     "metadata": {},
     "output_type": "execute_result"
    }
   ],
   "source": [
    "X_train_full.dtype"
   ]
  },
  {
   "cell_type": "code",
   "execution_count": 77,
   "id": "b580b486",
   "metadata": {},
   "outputs": [],
   "source": [
    "X_valid, X_train = X_train_full[:5000] / 255., X_train_full[5000:] / 255.\n",
    "y_valid, y_train = y_train_full[:5000], y_train_full[5000:]\n",
    "X_test = X_test / 255."
   ]
  },
  {
   "cell_type": "code",
   "execution_count": 78,
   "id": "258f15da",
   "metadata": {},
   "outputs": [
    {
     "data": {
      "image/png": "[encoded data removed]",
      "text/plain": [
       "<Figure size 432x288 with 1 Axes>"
      ]
     },
     "metadata": {
      "needs_background": "light"
     },
     "output_type": "display_data"
    }
   ],
   "source": [
    "plt.imshow(X_train[0], cmap=\"binary\")\n",
    "plt.axis('off')\n",
    "plt.show()"
   ]
  },
  {
   "cell_type": "code",
   "execution_count": 79,
   "id": "45ffc483",
   "metadata": {},
   "outputs": [
    {
     "data": {
      "text/plain": [
       "array([7, 3, 4, ..., 5, 6, 8], dtype=uint8)"
      ]
     },
     "execution_count": 79,
     "metadata": {},
     "output_type": "execute_result"
    }
   ],
   "source": [
    "y_train"
   ]
  },
  {
   "cell_type": "code",
   "execution_count": 80,
   "id": "e6552f41",
   "metadata": {},
   "outputs": [
    {
     "data": {
      "image/png": "[encoded data removed]",
      "text/plain": [
       "<Figure size 864x345.6 with 40 Axes>"
      ]
     },
     "metadata": {
      "needs_background": "light"
     },
     "output_type": "display_data"
    }
   ],
   "source": [
    "n_rows = 4\n",
    "n_cols = 10\n",
    "plt.figure(figsize=(n_cols * 1.2, n_rows * 1.2))\n",
    "for row in range(n_rows):\n",
    "    for col in range(n_cols):\n",
    "        index = n_cols * row + col\n",
    "        plt.subplot(n_rows, n_cols, index + 1)\n",
    "        plt.imshow(X_train[index], cmap=\"binary\", interpolation=\"nearest\")\n",
    "        plt.axis('off')\n",
    "        plt.title(y_train[index], fontsize=12)\n",
    "plt.subplots_adjust(wspace=0.2, hspace=0.5)\n",
    "plt.show()"
   ]
  },
  {
   "cell_type": "markdown",
   "id": "5f741c61",
   "metadata": {},
   "source": [
    "간단한 밀집 신경망을 만들고 최적의 학습률을 찾아 보겠습니다. 반복마다 학습률을 증가시키기 위해 콜백을 사용합니다. 이 콜백은 반복마다 학습률과 손실을 기록합니다:"
   ]
  },
  {
   "cell_type": "code",
   "execution_count": 81,
   "id": "21ef39df",
   "metadata": {},
   "outputs": [],
   "source": [
    "K = keras.backend\n",
    "\n",
    "class ExponentialLearningRate(keras.callbacks.Callback):\n",
    "    def __init__(self, factor):\n",
    "        self.factor = factor\n",
    "        self.rates = []\n",
    "        self.losses = []\n",
    "    def on_batch_end(self, batch, logs):\n",
    "        self.rates.append(K.get_value(self.model.optimizer.lr))\n",
    "        self.losses.append(logs[\"loss\"])\n",
    "        K.set_value(self.model.optimizer.lr, self.model.optimizer.lr * self.factor)"
   ]
  },
  {
   "cell_type": "code",
   "execution_count": 82,
   "id": "8e2d8751",
   "metadata": {},
   "outputs": [],
   "source": [
    "keras.backend.clear_session()\n",
    "np.random.seed(42)\n",
    "tf.random.set_seed(42)"
   ]
  },
  {
   "cell_type": "code",
   "execution_count": 83,
   "id": "e4337458",
   "metadata": {},
   "outputs": [],
   "source": [
    "model = keras.models.Sequential([\n",
    "    keras.layers.Flatten(input_shape=[28, 28]),\n",
    "    keras.layers.Dense(300, activation=\"relu\"),\n",
    "    keras.layers.Dense(100, activation=\"relu\"),\n",
    "    keras.layers.Dense(10, activation=\"softmax\")\n",
    "])"
   ]
  },
  {
   "cell_type": "markdown",
   "id": "6165110b",
   "metadata": {},
   "source": [
    "작은 학습률 1e-3에서 시작하여 반복마다 0.5%씩 증가합니다:"
   ]
  },
  {
   "cell_type": "code",
   "execution_count": 84,
   "id": "6e646a72",
   "metadata": {},
   "outputs": [],
   "source": [
    "model.compile(loss=\"sparse_categorical_crossentropy\",\n",
    "              optimizer=keras.optimizers.SGD(lr=1e-3),\n",
    "              metrics=[\"accuracy\"])\n",
    "expon_lr = ExponentialLearningRate(factor=1.005)"
   ]
  },
  {
   "cell_type": "code",
   "execution_count": 85,
   "id": "5104d1de",
   "metadata": {},
   "outputs": [
    {
     "name": "stdout",
     "output_type": "stream",
     "text": [
      "1719/1719 [==============================] - 2s 1ms/step - loss: 1.4194 - accuracy: 0.5898 - val_loss: 2.3911 - val_accuracy: 0.1126\n"
     ]
    }
   ],
   "source": [
    "history = model.fit(X_train, y_train, epochs=1,\n",
    "                    validation_data=(X_valid, y_valid),\n",
    "                    callbacks=[expon_lr])"
   ]
  },
  {
   "cell_type": "markdown",
   "id": "2fac43e9",
   "metadata": {},
   "source": [
    "학습률에 대한 로스 함수"
   ]
  },
  {
   "cell_type": "code",
   "execution_count": 86,
   "id": "13a1d5ca",
   "metadata": {},
   "outputs": [
    {
     "data": {
      "text/plain": [
       "Text(0, 0.5, 'Loss')"
      ]
     },
     "execution_count": 86,
     "metadata": {},
     "output_type": "execute_result"
    },
    {
     "data": {
      "image/png": "[encoded data removed]",
      "text/plain": [
       "<Figure size 432x288 with 1 Axes>"
      ]
     },
     "metadata": {
      "needs_background": "light"
     },
     "output_type": "display_data"
    }
   ],
   "source": [
    "plt.plot(expon_lr.rates, expon_lr.losses)\n",
    "plt.gca().set_xscale('log')\n",
    "plt.hlines(min(expon_lr.losses), min(expon_lr.rates), max(expon_lr.rates))\n",
    "plt.axis([min(expon_lr.rates), max(expon_lr.rates), 0, expon_lr.losses[0]])\n",
    "plt.grid()\n",
    "plt.xlabel(\"Learning rate\")\n",
    "plt.ylabel(\"Loss\")"
   ]
  },
  {
   "cell_type": "markdown",
   "id": "c98d14ea",
   "metadata": {},
   "source": [
    "학습률이 6e-1을 지날 떄 손실이 갑자기 솟구치기 때문에 3e-1을 학습률로 사용하겠습니다:"
   ]
  },
  {
   "cell_type": "code",
   "execution_count": 87,
   "id": "e77fff00",
   "metadata": {},
   "outputs": [],
   "source": [
    "model = keras.models.Sequential([\n",
    "    keras.layers.Flatten(input_shape=[28, 28]),\n",
    "    keras.layers.Dense(300, activation=\"relu\"),\n",
    "    keras.layers.Dense(100, activation=\"relu\"),\n",
    "    keras.layers.Dense(10, activation=\"softmax\")\n",
    "])"
   ]
  },
  {
   "cell_type": "code",
   "execution_count": 88,
   "id": "6d6c7076",
   "metadata": {},
   "outputs": [],
   "source": [
    "model.compile(loss=\"sparse_categorical_crossentropy\",\n",
    "              optimizer=keras.optimizers.SGD(lr=3e-1),\n",
    "              metrics=[\"accuracy\"])"
   ]
  },
  {
   "cell_type": "code",
   "execution_count": 89,
   "id": "3113fe02",
   "metadata": {},
   "outputs": [
    {
     "data": {
      "text/plain": [
       "'.\\\\my_mnist_logs\\\\run_001'"
      ]
     },
     "execution_count": 89,
     "metadata": {},
     "output_type": "execute_result"
    }
   ],
   "source": [
    "run_index = 1 # 실행할 때마다 이 값을 늘립니다\n",
    "run_logdir = os.path.join(os.curdir, \"my_mnist_logs\", \"run_{:03d}\".format(run_index))\n",
    "run_logdir"
   ]
  },
  {
   "cell_type": "code",
   "execution_count": 90,
   "id": "ca43ba4b",
   "metadata": {},
   "outputs": [
    {
     "name": "stdout",
     "output_type": "stream",
     "text": [
      "Epoch 1/100\n",
      "1719/1719 [==============================] - 10s 6ms/step - loss: 0.2342 - accuracy: 0.9270 - val_loss: 0.1110 - val_accuracy: 0.9682\n",
      "Epoch 2/100\n",
      "1719/1719 [==============================] - 2s 1ms/step - loss: 0.0939 - accuracy: 0.9711 - val_loss: 0.0827 - val_accuracy: 0.9756\n",
      "Epoch 3/100\n",
      "1719/1719 [==============================] - 2s 1ms/step - loss: 0.0644 - accuracy: 0.9795 - val_loss: 0.0700 - val_accuracy: 0.9796\n",
      "Epoch 4/100\n",
      "1719/1719 [==============================] - 2s 1ms/step - loss: 0.0462 - accuracy: 0.9852 - val_loss: 0.0841 - val_accuracy: 0.9784\n",
      "Epoch 5/100\n",
      "1719/1719 [==============================] - 2s 1ms/step - loss: 0.0370 - accuracy: 0.9879 - val_loss: 0.0975 - val_accuracy: 0.9738\n",
      "Epoch 6/100\n",
      "1719/1719 [==============================] - 2s 1ms/step - loss: 0.0266 - accuracy: 0.9914 - val_loss: 0.0746 - val_accuracy: 0.9814\n",
      "Epoch 7/100\n",
      "1719/1719 [==============================] - 2s 1ms/step - loss: 0.0236 - accuracy: 0.9921 - val_loss: 0.0864 - val_accuracy: 0.9814\n",
      "Epoch 8/100\n",
      "1719/1719 [==============================] - 2s 1ms/step - loss: 0.0180 - accuracy: 0.9946 - val_loss: 0.0871 - val_accuracy: 0.9784\n",
      "Epoch 9/100\n",
      "1719/1719 [==============================] - 2s 1ms/step - loss: 0.0137 - accuracy: 0.9953 - val_loss: 0.0825 - val_accuracy: 0.9824\n",
      "Epoch 10/100\n",
      "1719/1719 [==============================] - 2s 1ms/step - loss: 0.0130 - accuracy: 0.9956 - val_loss: 0.1044 - val_accuracy: 0.9802\n",
      "Epoch 11/100\n",
      "1719/1719 [==============================] - 2s 1ms/step - loss: 0.0087 - accuracy: 0.9972 - val_loss: 0.0952 - val_accuracy: 0.9812\n",
      "Epoch 12/100\n",
      "1719/1719 [==============================] - 2s 1ms/step - loss: 0.0107 - accuracy: 0.9967 - val_loss: 0.0865 - val_accuracy: 0.9820\n",
      "Epoch 13/100\n",
      "1719/1719 [==============================] - 2s 1ms/step - loss: 0.0087 - accuracy: 0.9973 - val_loss: 0.0856 - val_accuracy: 0.9838\n",
      "Epoch 14/100\n",
      "1719/1719 [==============================] - 2s 1ms/step - loss: 0.0062 - accuracy: 0.9981 - val_loss: 0.1045 - val_accuracy: 0.9826\n",
      "Epoch 15/100\n",
      "1719/1719 [==============================] - 2s 1ms/step - loss: 0.0042 - accuracy: 0.9988 - val_loss: 0.0845 - val_accuracy: 0.9834\n",
      "Epoch 16/100\n",
      "1719/1719 [==============================] - 2s 1ms/step - loss: 0.0066 - accuracy: 0.9978 - val_loss: 0.0916 - val_accuracy: 0.9840\n",
      "Epoch 17/100\n",
      "1719/1719 [==============================] - 2s 1ms/step - loss: 0.0020 - accuracy: 0.9995 - val_loss: 0.0831 - val_accuracy: 0.9848\n",
      "Epoch 18/100\n",
      "1719/1719 [==============================] - 2s 1ms/step - loss: 3.7818e-04 - accuracy: 1.0000 - val_loss: 0.0805 - val_accuracy: 0.9860\n",
      "Epoch 19/100\n",
      "1719/1719 [==============================] - 2s 1ms/step - loss: 1.0586e-04 - accuracy: 1.0000 - val_loss: 0.0814 - val_accuracy: 0.9860\n",
      "Epoch 20/100\n",
      "1719/1719 [==============================] - 2s 1ms/step - loss: 7.2452e-05 - accuracy: 1.0000 - val_loss: 0.0827 - val_accuracy: 0.9860\n",
      "Epoch 21/100\n",
      "1719/1719 [==============================] - 2s 1ms/step - loss: 6.0177e-05 - accuracy: 1.0000 - val_loss: 0.0834 - val_accuracy: 0.9866\n",
      "Epoch 22/100\n",
      "1719/1719 [==============================] - 2s 1ms/step - loss: 5.2077e-05 - accuracy: 1.0000 - val_loss: 0.0842 - val_accuracy: 0.9864\n",
      "Epoch 23/100\n",
      "1719/1719 [==============================] - 2s 1ms/step - loss: 4.6327e-05 - accuracy: 1.0000 - val_loss: 0.0851 - val_accuracy: 0.9864\n"
     ]
    }
   ],
   "source": [
    "early_stopping_cb = keras.callbacks.EarlyStopping(patience=20)\n",
    "checkpoint_cb = keras.callbacks.ModelCheckpoint(\"my_mnist_model.h5\", save_best_only=True)\n",
    "tensorboard_cb = keras.callbacks.TensorBoard(run_logdir)\n",
    "\n",
    "history = model.fit(X_train, y_train, epochs=100,\n",
    "                    validation_data=(X_valid, y_valid),\n",
    "                    callbacks=[checkpoint_cb, early_stopping_cb, tensorboard_cb])"
   ]
  },
  {
   "cell_type": "code",
   "execution_count": 91,
   "id": "b3edcbae",
   "metadata": {},
   "outputs": [
    {
     "name": "stdout",
     "output_type": "stream",
     "text": [
      "313/313 [==============================] - 0s 583us/step - loss: 0.0771 - accuracy: 0.9771\n"
     ]
    },
    {
     "data": {
      "text/plain": [
       "[0.07708481699228287, 0.9771000146865845]"
      ]
     },
     "execution_count": 91,
     "metadata": {},
     "output_type": "execute_result"
    }
   ],
   "source": [
    "model = keras.models.load_model(\"my_mnist_model.h5\") # rollback to best model\n",
    "model.evaluate(X_test, y_test)"
   ]
  },
  {
   "cell_type": "code",
   "execution_count": 92,
   "id": "e3a7bf4c",
   "metadata": {},
   "outputs": [
    {
     "data": {
      "text/html": [
       "\n",
       "      <iframe id=\"tensorboard-frame-b9ac2ecb98aafdb0\" width=\"100%\" height=\"800\" frameborder=\"0\">\n",
       "      </iframe>\n",
       "      <script>\n",
       "        (function() {\n",
       "          const frame = document.getElementById(\"tensorboard-frame-b9ac2ecb98aafdb0\");\n",
       "          const url = new URL(\"/\", window.location);\n",
       "          const port = 6006;\n",
       "          if (port) {\n",
       "            url.port = port;\n",
       "          }\n",
       "          frame.src = url;\n",
       "        })();\n",
       "      </script>\n",
       "    "
      ],
      "text/plain": [
       "<IPython.core.display.HTML object>"
      ]
     },
     "metadata": {},
     "output_type": "display_data"
    }
   ],
   "source": [
    "%tensorboard --logdir=./my_mnist_logs --port=6006"
   ]
  }
 ],
 "metadata": {
  "kernelspec": {
   "display_name": "Python 3",
   "language": "python",
   "name": "python3"
  },
  "language_info": {
   "codemirror_mode": {
    "name": "ipython",
    "version": 3
   },
   "file_extension": ".py",
   "mimetype": "text/x-python",
   "name": "python",
   "nbconvert_exporter": "python",
   "pygments_lexer": "ipython3",
   "version": "3.8.8"
  }
 },
 "nbformat": 4,
 "nbformat_minor": 5
}
